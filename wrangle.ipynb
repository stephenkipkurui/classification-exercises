{
 "cells": [
  {
   "cell_type": "markdown",
   "id": "cc6cadb0",
   "metadata": {},
   "source": [
    "# Regression Exercises\n",
    "\n",
    "#### As a Codeup data science graduate, you want to show off your skills to the Zillow data science team in hopes of getting an interview for a position you saw pop up on LinkedIn. You thought it might look impressive to build an end-to-end project in which you use some of their Kaggle data to predict property values using some of their available features; who knows, you might even do some feature engineering to blow them away. Your goal is to predict the values of single unit properties using the obervations from 2017.\n",
    "\n",
    "#### In these exercises, you will complete the first step toward the above goal: acquire and prepare the necessary Zillow data from the zillow database in the Codeup database server.\n",
    "\n",
    ">#### (1). Acquire bedroomcnt, bathroomcnt, calculatedfinishedsquarefeet, taxvaluedollarcnt, yearbuilt, taxamount, and fips from the zillow database for all 'Single Family Residential' properties.\n",
    ">#### (2). Using your acquired Zillow data, walk through the summarization and cleaning steps in your wrangle.ipynb file like we did above. You may handle the missing values however you feel is appropriate and meaninful; remember to document your process and decisions using markdown and code commenting where helpful.\n",
    "\n",
    ">#### (3). (Store all of the necessary functions to automate your process from acquiring the data to returning a cleaned dataframe witn no missing values in your wrangle.py file. Name your final function wrangle_zillow.)\n",
    "\n",
    "\n"
   ]
  },
  {
   "cell_type": "code",
   "execution_count": 1,
   "id": "d8705733",
   "metadata": {},
   "outputs": [],
   "source": [
    "# Get all imports\n",
    "\n",
    "import pandas as pd\n",
    "import seaborn as sns\n",
    "import numpy as np\n",
    "import matplotlib.pyplot as plt\n",
    "from wrangle import get_zillow_data\n",
    "from wrangle import wrangle_zillow\n",
    "\n",
    "import warnings\n",
    "warnings.filterwarnings('ignore')"
   ]
  },
  {
   "cell_type": "code",
   "execution_count": 2,
   "id": "59e5bbfb",
   "metadata": {},
   "outputs": [
    {
     "name": "stdout",
     "output_type": "stream",
     "text": [
      "Program Status: Acquiring data from online resource...\n",
      "Program Status: Saving resourced file to local csv file...\n"
     ]
    }
   ],
   "source": [
    "# Calling the main dataframe\n",
    "zillow = get_zillow_data()"
   ]
  },
  {
   "cell_type": "code",
   "execution_count": 3,
   "id": "6e7efc90",
   "metadata": {},
   "outputs": [
    {
     "data": {
      "text/html": [
       "<div>\n",
       "<style scoped>\n",
       "    .dataframe tbody tr th:only-of-type {\n",
       "        vertical-align: middle;\n",
       "    }\n",
       "\n",
       "    .dataframe tbody tr th {\n",
       "        vertical-align: top;\n",
       "    }\n",
       "\n",
       "    .dataframe thead th {\n",
       "        text-align: right;\n",
       "    }\n",
       "</style>\n",
       "<table border=\"1\" class=\"dataframe\">\n",
       "  <thead>\n",
       "    <tr style=\"text-align: right;\">\n",
       "      <th></th>\n",
       "      <th>bedroomcnt</th>\n",
       "      <th>bathroomcnt</th>\n",
       "      <th>calculatedfinishedsquarefeet</th>\n",
       "      <th>taxvaluedollarcnt</th>\n",
       "      <th>yearbuilt</th>\n",
       "      <th>taxamount</th>\n",
       "      <th>fips</th>\n",
       "    </tr>\n",
       "  </thead>\n",
       "  <tbody>\n",
       "    <tr>\n",
       "      <th>0</th>\n",
       "      <td>0.0</td>\n",
       "      <td>0.0</td>\n",
       "      <td>NaN</td>\n",
       "      <td>27516.0</td>\n",
       "      <td>NaN</td>\n",
       "      <td>NaN</td>\n",
       "      <td>6037.0</td>\n",
       "    </tr>\n",
       "    <tr>\n",
       "      <th>1</th>\n",
       "      <td>0.0</td>\n",
       "      <td>0.0</td>\n",
       "      <td>NaN</td>\n",
       "      <td>10.0</td>\n",
       "      <td>NaN</td>\n",
       "      <td>NaN</td>\n",
       "      <td>6037.0</td>\n",
       "    </tr>\n",
       "    <tr>\n",
       "      <th>2</th>\n",
       "      <td>0.0</td>\n",
       "      <td>0.0</td>\n",
       "      <td>NaN</td>\n",
       "      <td>10.0</td>\n",
       "      <td>NaN</td>\n",
       "      <td>NaN</td>\n",
       "      <td>6037.0</td>\n",
       "    </tr>\n",
       "    <tr>\n",
       "      <th>3</th>\n",
       "      <td>0.0</td>\n",
       "      <td>0.0</td>\n",
       "      <td>NaN</td>\n",
       "      <td>2108.0</td>\n",
       "      <td>NaN</td>\n",
       "      <td>174.21</td>\n",
       "      <td>6037.0</td>\n",
       "    </tr>\n",
       "    <tr>\n",
       "      <th>4</th>\n",
       "      <td>4.0</td>\n",
       "      <td>2.0</td>\n",
       "      <td>3633.0</td>\n",
       "      <td>296425.0</td>\n",
       "      <td>2005.0</td>\n",
       "      <td>6941.39</td>\n",
       "      <td>6037.0</td>\n",
       "    </tr>\n",
       "  </tbody>\n",
       "</table>\n",
       "</div>"
      ],
      "text/plain": [
       "   bedroomcnt  bathroomcnt  calculatedfinishedsquarefeet  taxvaluedollarcnt  \\\n",
       "0         0.0          0.0                           NaN            27516.0   \n",
       "1         0.0          0.0                           NaN               10.0   \n",
       "2         0.0          0.0                           NaN               10.0   \n",
       "3         0.0          0.0                           NaN             2108.0   \n",
       "4         4.0          2.0                        3633.0           296425.0   \n",
       "\n",
       "   yearbuilt  taxamount    fips  \n",
       "0        NaN        NaN  6037.0  \n",
       "1        NaN        NaN  6037.0  \n",
       "2        NaN        NaN  6037.0  \n",
       "3        NaN     174.21  6037.0  \n",
       "4     2005.0    6941.39  6037.0  "
      ]
     },
     "execution_count": 3,
     "metadata": {},
     "output_type": "execute_result"
    }
   ],
   "source": [
    "# Inspect the main dataframe \n",
    "\n",
    "zillow.head()"
   ]
  },
  {
   "cell_type": "code",
   "execution_count": 4,
   "id": "418247af",
   "metadata": {},
   "outputs": [
    {
     "data": {
      "text/html": [
       "<div>\n",
       "<style scoped>\n",
       "    .dataframe tbody tr th:only-of-type {\n",
       "        vertical-align: middle;\n",
       "    }\n",
       "\n",
       "    .dataframe tbody tr th {\n",
       "        vertical-align: top;\n",
       "    }\n",
       "\n",
       "    .dataframe thead th {\n",
       "        text-align: right;\n",
       "    }\n",
       "</style>\n",
       "<table border=\"1\" class=\"dataframe\">\n",
       "  <thead>\n",
       "    <tr style=\"text-align: right;\">\n",
       "      <th></th>\n",
       "      <th>bedroomcnt</th>\n",
       "      <th>bathroomcnt</th>\n",
       "      <th>calculatedfinishedsquarefeet</th>\n",
       "      <th>taxvaluedollarcnt</th>\n",
       "      <th>yearbuilt</th>\n",
       "      <th>taxamount</th>\n",
       "      <th>fips</th>\n",
       "    </tr>\n",
       "  </thead>\n",
       "  <tbody>\n",
       "    <tr>\n",
       "      <th>count</th>\n",
       "      <td>2.152852e+06</td>\n",
       "      <td>2.152852e+06</td>\n",
       "      <td>2.144379e+06</td>\n",
       "      <td>2.152370e+06</td>\n",
       "      <td>2.143526e+06</td>\n",
       "      <td>2.148421e+06</td>\n",
       "      <td>2.152863e+06</td>\n",
       "    </tr>\n",
       "    <tr>\n",
       "      <th>mean</th>\n",
       "      <td>3.287196e+00</td>\n",
       "      <td>2.230688e+00</td>\n",
       "      <td>1.862855e+03</td>\n",
       "      <td>4.618962e+05</td>\n",
       "      <td>1.960950e+03</td>\n",
       "      <td>5.634866e+03</td>\n",
       "      <td>6.048377e+03</td>\n",
       "    </tr>\n",
       "    <tr>\n",
       "      <th>std</th>\n",
       "      <td>9.547544e-01</td>\n",
       "      <td>9.992796e-01</td>\n",
       "      <td>1.222125e+03</td>\n",
       "      <td>6.996760e+05</td>\n",
       "      <td>2.216220e+01</td>\n",
       "      <td>8.178910e+03</td>\n",
       "      <td>2.043329e+01</td>\n",
       "    </tr>\n",
       "    <tr>\n",
       "      <th>min</th>\n",
       "      <td>0.000000e+00</td>\n",
       "      <td>0.000000e+00</td>\n",
       "      <td>1.000000e+00</td>\n",
       "      <td>1.000000e+00</td>\n",
       "      <td>1.801000e+03</td>\n",
       "      <td>1.850000e+00</td>\n",
       "      <td>6.037000e+03</td>\n",
       "    </tr>\n",
       "    <tr>\n",
       "      <th>25%</th>\n",
       "      <td>3.000000e+00</td>\n",
       "      <td>2.000000e+00</td>\n",
       "      <td>1.257000e+03</td>\n",
       "      <td>1.881702e+05</td>\n",
       "      <td>1.949000e+03</td>\n",
       "      <td>2.534980e+03</td>\n",
       "      <td>6.037000e+03</td>\n",
       "    </tr>\n",
       "    <tr>\n",
       "      <th>50%</th>\n",
       "      <td>3.000000e+00</td>\n",
       "      <td>2.000000e+00</td>\n",
       "      <td>1.623000e+03</td>\n",
       "      <td>3.276710e+05</td>\n",
       "      <td>1.958000e+03</td>\n",
       "      <td>4.108950e+03</td>\n",
       "      <td>6.037000e+03</td>\n",
       "    </tr>\n",
       "    <tr>\n",
       "      <th>75%</th>\n",
       "      <td>4.000000e+00</td>\n",
       "      <td>3.000000e+00</td>\n",
       "      <td>2.208000e+03</td>\n",
       "      <td>5.345270e+05</td>\n",
       "      <td>1.976000e+03</td>\n",
       "      <td>6.414320e+03</td>\n",
       "      <td>6.059000e+03</td>\n",
       "    </tr>\n",
       "    <tr>\n",
       "      <th>max</th>\n",
       "      <td>2.500000e+01</td>\n",
       "      <td>3.200000e+01</td>\n",
       "      <td>9.525760e+05</td>\n",
       "      <td>9.842891e+07</td>\n",
       "      <td>2.016000e+03</td>\n",
       "      <td>1.337756e+06</td>\n",
       "      <td>6.111000e+03</td>\n",
       "    </tr>\n",
       "  </tbody>\n",
       "</table>\n",
       "</div>"
      ],
      "text/plain": [
       "         bedroomcnt   bathroomcnt  calculatedfinishedsquarefeet  \\\n",
       "count  2.152852e+06  2.152852e+06                  2.144379e+06   \n",
       "mean   3.287196e+00  2.230688e+00                  1.862855e+03   \n",
       "std    9.547544e-01  9.992796e-01                  1.222125e+03   \n",
       "min    0.000000e+00  0.000000e+00                  1.000000e+00   \n",
       "25%    3.000000e+00  2.000000e+00                  1.257000e+03   \n",
       "50%    3.000000e+00  2.000000e+00                  1.623000e+03   \n",
       "75%    4.000000e+00  3.000000e+00                  2.208000e+03   \n",
       "max    2.500000e+01  3.200000e+01                  9.525760e+05   \n",
       "\n",
       "       taxvaluedollarcnt     yearbuilt     taxamount          fips  \n",
       "count       2.152370e+06  2.143526e+06  2.148421e+06  2.152863e+06  \n",
       "mean        4.618962e+05  1.960950e+03  5.634866e+03  6.048377e+03  \n",
       "std         6.996760e+05  2.216220e+01  8.178910e+03  2.043329e+01  \n",
       "min         1.000000e+00  1.801000e+03  1.850000e+00  6.037000e+03  \n",
       "25%         1.881702e+05  1.949000e+03  2.534980e+03  6.037000e+03  \n",
       "50%         3.276710e+05  1.958000e+03  4.108950e+03  6.037000e+03  \n",
       "75%         5.345270e+05  1.976000e+03  6.414320e+03  6.059000e+03  \n",
       "max         9.842891e+07  2.016000e+03  1.337756e+06  6.111000e+03  "
      ]
     },
     "execution_count": 4,
     "metadata": {},
     "output_type": "execute_result"
    }
   ],
   "source": [
    "# Describe the data \n",
    "\n",
    "zillow.describe()"
   ]
  },
  {
   "cell_type": "code",
   "execution_count": 5,
   "id": "8568658e",
   "metadata": {},
   "outputs": [
    {
     "data": {
      "text/plain": [
       "(2152863, 7)"
      ]
     },
     "execution_count": 5,
     "metadata": {},
     "output_type": "execute_result"
    }
   ],
   "source": [
    "# Shape of data \n",
    "\n",
    "zillow.shape"
   ]
  },
  {
   "cell_type": "code",
   "execution_count": 6,
   "id": "d481a4b9",
   "metadata": {},
   "outputs": [
    {
     "data": {
      "text/plain": [
       "bedroomcnt                        11\n",
       "bathroomcnt                       11\n",
       "calculatedfinishedsquarefeet    8484\n",
       "taxvaluedollarcnt                493\n",
       "yearbuilt                       9337\n",
       "taxamount                       4442\n",
       "fips                               0\n",
       "dtype: int64"
      ]
     },
     "execution_count": 6,
     "metadata": {},
     "output_type": "execute_result"
    }
   ],
   "source": [
    "# Check for null values\n",
    "\n",
    "zillow.isnull().sum()"
   ]
  },
  {
   "cell_type": "markdown",
   "id": "1fe530f0",
   "metadata": {},
   "source": [
    "## Clean, and split the data"
   ]
  },
  {
   "cell_type": "code",
   "execution_count": 7,
   "id": "2c5981f4",
   "metadata": {},
   "outputs": [
    {
     "name": "stdout",
     "output_type": "stream",
     "text": [
      "Program Status: Acquiring local cached zillow data..\n"
     ]
    }
   ],
   "source": [
    "train, validate, test = wrangle_zillow()"
   ]
  },
  {
   "cell_type": "code",
   "execution_count": 8,
   "id": "826b674a",
   "metadata": {},
   "outputs": [
    {
     "data": {
      "text/plain": [
       "((1198531, 7), (513657, 7), (428047, 7))"
      ]
     },
     "execution_count": 8,
     "metadata": {},
     "output_type": "execute_result"
    }
   ],
   "source": [
    "train.shape, validate.shape, test.shape"
   ]
  },
  {
   "cell_type": "code",
   "execution_count": 9,
   "id": "125cd481",
   "metadata": {},
   "outputs": [
    {
     "data": {
      "text/html": [
       "<div>\n",
       "<style scoped>\n",
       "    .dataframe tbody tr th:only-of-type {\n",
       "        vertical-align: middle;\n",
       "    }\n",
       "\n",
       "    .dataframe tbody tr th {\n",
       "        vertical-align: top;\n",
       "    }\n",
       "\n",
       "    .dataframe thead th {\n",
       "        text-align: right;\n",
       "    }\n",
       "</style>\n",
       "<table border=\"1\" class=\"dataframe\">\n",
       "  <thead>\n",
       "    <tr style=\"text-align: right;\">\n",
       "      <th></th>\n",
       "      <th>bedroomcnt</th>\n",
       "      <th>bathroomcnt</th>\n",
       "      <th>calculatedfinishedsquarefeet</th>\n",
       "      <th>taxvaluedollarcnt</th>\n",
       "      <th>yearbuilt</th>\n",
       "      <th>taxamount</th>\n",
       "      <th>fips</th>\n",
       "    </tr>\n",
       "  </thead>\n",
       "  <tbody>\n",
       "    <tr>\n",
       "      <th>1312812</th>\n",
       "      <td>3.0</td>\n",
       "      <td>2.0</td>\n",
       "      <td>1114.0</td>\n",
       "      <td>440101.0</td>\n",
       "      <td>1960.0</td>\n",
       "      <td>5358.41</td>\n",
       "      <td>6037.0</td>\n",
       "    </tr>\n",
       "    <tr>\n",
       "      <th>1370337</th>\n",
       "      <td>3.0</td>\n",
       "      <td>2.0</td>\n",
       "      <td>1526.0</td>\n",
       "      <td>566508.0</td>\n",
       "      <td>1956.0</td>\n",
       "      <td>6930.90</td>\n",
       "      <td>6111.0</td>\n",
       "    </tr>\n",
       "    <tr>\n",
       "      <th>1431269</th>\n",
       "      <td>5.0</td>\n",
       "      <td>3.0</td>\n",
       "      <td>2125.0</td>\n",
       "      <td>530517.0</td>\n",
       "      <td>1970.0</td>\n",
       "      <td>7091.26</td>\n",
       "      <td>6037.0</td>\n",
       "    </tr>\n",
       "    <tr>\n",
       "      <th>306865</th>\n",
       "      <td>3.0</td>\n",
       "      <td>2.0</td>\n",
       "      <td>2220.0</td>\n",
       "      <td>136904.0</td>\n",
       "      <td>1961.0</td>\n",
       "      <td>2281.73</td>\n",
       "      <td>6037.0</td>\n",
       "    </tr>\n",
       "    <tr>\n",
       "      <th>1138527</th>\n",
       "      <td>3.0</td>\n",
       "      <td>2.0</td>\n",
       "      <td>1243.0</td>\n",
       "      <td>120497.0</td>\n",
       "      <td>1971.0</td>\n",
       "      <td>1732.87</td>\n",
       "      <td>6037.0</td>\n",
       "    </tr>\n",
       "  </tbody>\n",
       "</table>\n",
       "</div>"
      ],
      "text/plain": [
       "         bedroomcnt  bathroomcnt  calculatedfinishedsquarefeet  \\\n",
       "1312812         3.0          2.0                        1114.0   \n",
       "1370337         3.0          2.0                        1526.0   \n",
       "1431269         5.0          3.0                        2125.0   \n",
       "306865          3.0          2.0                        2220.0   \n",
       "1138527         3.0          2.0                        1243.0   \n",
       "\n",
       "         taxvaluedollarcnt  yearbuilt  taxamount    fips  \n",
       "1312812           440101.0     1960.0    5358.41  6037.0  \n",
       "1370337           566508.0     1956.0    6930.90  6111.0  \n",
       "1431269           530517.0     1970.0    7091.26  6037.0  \n",
       "306865            136904.0     1961.0    2281.73  6037.0  \n",
       "1138527           120497.0     1971.0    1732.87  6037.0  "
      ]
     },
     "execution_count": 9,
     "metadata": {},
     "output_type": "execute_result"
    }
   ],
   "source": [
    "train.head()"
   ]
  },
  {
   "cell_type": "code",
   "execution_count": 10,
   "id": "7a70a9e7",
   "metadata": {},
   "outputs": [
    {
     "data": {
      "text/plain": [
       "bedroomcnt                      False\n",
       "bathroomcnt                     False\n",
       "calculatedfinishedsquarefeet    False\n",
       "taxvaluedollarcnt               False\n",
       "yearbuilt                       False\n",
       "taxamount                       False\n",
       "fips                            False\n",
       "dtype: bool"
      ]
     },
     "execution_count": 10,
     "metadata": {},
     "output_type": "execute_result"
    }
   ],
   "source": [
    "train.columns.value_counts().isnull()"
   ]
  },
  {
   "cell_type": "code",
   "execution_count": 11,
   "id": "488e6111",
   "metadata": {},
   "outputs": [
    {
     "data": {
      "text/plain": [
       "bedroomcnt                      False\n",
       "bathroomcnt                     False\n",
       "calculatedfinishedsquarefeet    False\n",
       "taxvaluedollarcnt               False\n",
       "yearbuilt                       False\n",
       "taxamount                       False\n",
       "fips                            False\n",
       "dtype: bool"
      ]
     },
     "execution_count": 11,
     "metadata": {},
     "output_type": "execute_result"
    }
   ],
   "source": [
    "# Any null value?\n",
    "\n",
    "train.isnull().any()"
   ]
  },
  {
   "cell_type": "code",
   "execution_count": 12,
   "id": "38addb92",
   "metadata": {},
   "outputs": [
    {
     "data": {
      "text/plain": [
       "bedroomcnt                      0\n",
       "bathroomcnt                     0\n",
       "calculatedfinishedsquarefeet    0\n",
       "taxvaluedollarcnt               0\n",
       "yearbuilt                       0\n",
       "taxamount                       0\n",
       "fips                            0\n",
       "dtype: int64"
      ]
     },
     "execution_count": 12,
     "metadata": {},
     "output_type": "execute_result"
    }
   ],
   "source": [
    "# Find the total number of Null values in each column of our DataFrame.\n",
    "train.isnull().sum()"
   ]
  },
  {
   "cell_type": "code",
   "execution_count": 13,
   "id": "c91f95ec",
   "metadata": {},
   "outputs": [
    {
     "data": {
      "text/plain": [
       "bedroomcnt                      0\n",
       "bathroomcnt                     0\n",
       "calculatedfinishedsquarefeet    0\n",
       "taxvaluedollarcnt               0\n",
       "yearbuilt                       0\n",
       "taxamount                       0\n",
       "fips                            0\n",
       "dtype: int64"
      ]
     },
     "execution_count": 13,
     "metadata": {},
     "output_type": "execute_result"
    }
   ],
   "source": [
    "# Find the total number of Null values in each column of our DataFrame.\n",
    "validate.isnull().sum()"
   ]
  },
  {
   "cell_type": "code",
   "execution_count": 14,
   "id": "e6c24668",
   "metadata": {},
   "outputs": [
    {
     "data": {
      "text/plain": [
       "bedroomcnt                      0\n",
       "bathroomcnt                     0\n",
       "calculatedfinishedsquarefeet    0\n",
       "taxvaluedollarcnt               0\n",
       "yearbuilt                       0\n",
       "taxamount                       0\n",
       "fips                            0\n",
       "dtype: int64"
      ]
     },
     "execution_count": 14,
     "metadata": {},
     "output_type": "execute_result"
    }
   ],
   "source": [
    "# Find the total number of Null values in each column of our DataFrame.\n",
    "test.isnull().sum()"
   ]
  },
  {
   "cell_type": "code",
   "execution_count": 15,
   "id": "cd050356",
   "metadata": {},
   "outputs": [
    {
     "data": {
      "text/plain": [
       "<AxesSubplot:xlabel='yearbuilt'>"
      ]
     },
     "execution_count": 15,
     "metadata": {},
     "output_type": "execute_result"
    },
    {
     "data": {
      "image/png": "[encoded data removed]",
      "text/plain": [
       "<Figure size 1440x720 with 1 Axes>"
      ]
     },
     "metadata": {
      "needs_background": "light"
     },
     "output_type": "display_data"
    }
   ],
   "source": [
    "plt.figure(figsize = (20, 10))\n",
    "sns.scatterplot(data = train, x = 'yearbuilt')"
   ]
  },
  {
   "cell_type": "code",
   "execution_count": 36,
   "id": "dccbc701",
   "metadata": {
    "scrolled": false
   },
   "outputs": [
    {
     "data": {
      "image/png": "[encoded data removed]",
      "text/plain": [
       "<Figure size 2160x1440 with 1 Axes>"
      ]
     },
     "metadata": {
      "needs_background": "light"
     },
     "output_type": "display_data"
    }
   ],
   "source": [
    "plt.figure(figsize = (30, 20))\n",
    "sns.boxplot(data = train)\n",
    "plt.show()"
   ]
  },
  {
   "cell_type": "code",
   "execution_count": 33,
   "id": "a45a39e4",
   "metadata": {},
   "outputs": [
    {
     "name": "stdout",
     "output_type": "stream",
     "text": [
      "<class 'pandas.core.frame.DataFrame'>\n",
      "Int64Index: 1198531 entries, 1312812 to 364616\n",
      "Data columns (total 7 columns):\n",
      " #   Column                        Non-Null Count    Dtype  \n",
      "---  ------                        --------------    -----  \n",
      " 0   bedroomcnt                    1198531 non-null  float64\n",
      " 1   bathroomcnt                   1198531 non-null  float64\n",
      " 2   calculatedfinishedsquarefeet  1198531 non-null  float64\n",
      " 3   taxvaluedollarcnt             1198531 non-null  float64\n",
      " 4   yearbuilt                     1198531 non-null  float64\n",
      " 5   taxamount                     1198531 non-null  float64\n",
      " 6   fips                          1198531 non-null  float64\n",
      "dtypes: float64(7)\n",
      "memory usage: 73.2 MB\n"
     ]
    }
   ],
   "source": [
    "train.info(null_counts = True)"
   ]
  },
  {
   "cell_type": "code",
   "execution_count": null,
   "id": "6d8674d8",
   "metadata": {},
   "outputs": [],
   "source": []
  },
  {
   "cell_type": "code",
   "execution_count": null,
   "id": "1be391f6",
   "metadata": {},
   "outputs": [],
   "source": []
  },
  {
   "cell_type": "code",
   "execution_count": null,
   "id": "c23d7f92",
   "metadata": {},
   "outputs": [],
   "source": []
  }
 ],
 "metadata": {
  "kernelspec": {
   "display_name": "Python 3 (ipykernel)",
   "language": "python",
   "name": "python3"
  },
  "language_info": {
   "codemirror_mode": {
    "name": "ipython",
    "version": 3
   },
   "file_extension": ".py",
   "mimetype": "text/x-python",
   "name": "python",
   "nbconvert_exporter": "python",
   "pygments_lexer": "ipython3",
   "version": "3.9.7"
  }
 },
 "nbformat": 4,
 "nbformat_minor": 5
}
