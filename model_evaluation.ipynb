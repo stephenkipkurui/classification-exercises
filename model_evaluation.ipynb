{
 "cells": [
  {
   "cell_type": "markdown",
   "id": "0356716c",
   "metadata": {},
   "source": [
    "# Methodologies I : \n",
    "\n",
    "## Classification Module --> Evaluation Exercises\n"
   ]
  },
  {
   "cell_type": "code",
   "execution_count": 224,
   "id": "a941561e",
   "metadata": {},
   "outputs": [],
   "source": [
    "import pandas as pd\n",
    "import seaborn as sns\n",
    "import matplotlib.pyplot as plt\n",
    "from sklearn.metrics import confusion_matrix\n",
    "\n",
    "from sklearn.metrics import classification_report\n",
    "\n",
    "import warnings\n",
    "\n",
    "warnings.filterwarnings('ignore')"
   ]
  },
  {
   "cell_type": "markdown",
   "id": "dea81246",
   "metadata": {},
   "source": [
    "#### 2). Given the matrix, find model perfomance\n",
    "\n",
    "\n",
    "d_c = [ [46, 7], [13, 34] ]\n",
    "\n",
    "\n",
    "-  46: True Negatives\n",
    "\n",
    "-  7: False Positives\n",
    "\n",
    "-  13: False Negatives\n",
    "\n",
    "-  34: True Positives\n"
   ]
  },
  {
   "cell_type": "markdown",
   "id": "ce88b434",
   "metadata": {},
   "source": [
    "## 3). You are working as a datascientist working for Codeup Cody Creator (C3 for short), a rubber-duck manufacturing plant. Unfortunately, some of the rubber ducks that are produced will have defects. Your team has built several models that try to predict those defects, and the data from their predictions can be found here.\n",
    "\n",
    "###### Use the predictions dataset and pandas to help answer the following questions:\n",
    "\n",
    "-  An internal team wants to investigate the cause of the manufacturing defects. They tell you that they want to identify as many of the ducks that have a defect as possible. \n",
    "\n",
    "#####   Which evaluation metric would be appropriate here? \n",
    "\n",
    "ANSWER: Precision Matrix\n",
    "EXPLANATION: precision model bases on number of times a model predicts the +ve class. Since our +ve is the 'No Defect', our model overall precision is 68.83% compared to the baseline precision of 92.00%. Better to have good duckies classified as bad than the bad classified as good\n",
    "\n",
    "#####   Which model would be the best fit for this use case?\n",
    "\n",
    "ANSWER: One vs rest\n",
    "\n",
    "\n",
    "-  Recently several stories in the local news have come out highlighting customers who received a rubber duck with a defect, and portraying C3 in a bad light. The PR team has decided to launch a program that gives customers with a defective duck a vacation to Hawaii. They need you to predict which ducks will have defects, but tell you the really don't want to accidentally give out a vacation package when the duck really doesn't have a defect. Which evaluation metric would be appropriate here? \n",
    "\n",
    "\n",
    "-  Which model would be the best fit for this use case?"
   ]
  },
  {
   "cell_type": "markdown",
   "id": "a304ecdb",
   "metadata": {},
   "source": [
    "### Prepare Phase"
   ]
  },
  {
   "cell_type": "code",
   "execution_count": 96,
   "id": "95d36620",
   "metadata": {},
   "outputs": [
    {
     "data": {
      "text/html": [
       "<div>\n",
       "<style scoped>\n",
       "    .dataframe tbody tr th:only-of-type {\n",
       "        vertical-align: middle;\n",
       "    }\n",
       "\n",
       "    .dataframe tbody tr th {\n",
       "        vertical-align: top;\n",
       "    }\n",
       "\n",
       "    .dataframe thead th {\n",
       "        text-align: right;\n",
       "    }\n",
       "</style>\n",
       "<table border=\"1\" class=\"dataframe\">\n",
       "  <thead>\n",
       "    <tr style=\"text-align: right;\">\n",
       "      <th></th>\n",
       "      <th>actual</th>\n",
       "      <th>model1</th>\n",
       "      <th>model2</th>\n",
       "      <th>model3</th>\n",
       "    </tr>\n",
       "  </thead>\n",
       "  <tbody>\n",
       "    <tr>\n",
       "      <th>0</th>\n",
       "      <td>No Defect</td>\n",
       "      <td>No Defect</td>\n",
       "      <td>Defect</td>\n",
       "      <td>No Defect</td>\n",
       "    </tr>\n",
       "    <tr>\n",
       "      <th>1</th>\n",
       "      <td>No Defect</td>\n",
       "      <td>No Defect</td>\n",
       "      <td>Defect</td>\n",
       "      <td>Defect</td>\n",
       "    </tr>\n",
       "    <tr>\n",
       "      <th>2</th>\n",
       "      <td>No Defect</td>\n",
       "      <td>No Defect</td>\n",
       "      <td>Defect</td>\n",
       "      <td>No Defect</td>\n",
       "    </tr>\n",
       "    <tr>\n",
       "      <th>3</th>\n",
       "      <td>No Defect</td>\n",
       "      <td>Defect</td>\n",
       "      <td>Defect</td>\n",
       "      <td>Defect</td>\n",
       "    </tr>\n",
       "    <tr>\n",
       "      <th>4</th>\n",
       "      <td>No Defect</td>\n",
       "      <td>No Defect</td>\n",
       "      <td>Defect</td>\n",
       "      <td>No Defect</td>\n",
       "    </tr>\n",
       "    <tr>\n",
       "      <th>...</th>\n",
       "      <td>...</td>\n",
       "      <td>...</td>\n",
       "      <td>...</td>\n",
       "      <td>...</td>\n",
       "    </tr>\n",
       "    <tr>\n",
       "      <th>195</th>\n",
       "      <td>No Defect</td>\n",
       "      <td>No Defect</td>\n",
       "      <td>Defect</td>\n",
       "      <td>Defect</td>\n",
       "    </tr>\n",
       "    <tr>\n",
       "      <th>196</th>\n",
       "      <td>Defect</td>\n",
       "      <td>Defect</td>\n",
       "      <td>No Defect</td>\n",
       "      <td>No Defect</td>\n",
       "    </tr>\n",
       "    <tr>\n",
       "      <th>197</th>\n",
       "      <td>No Defect</td>\n",
       "      <td>No Defect</td>\n",
       "      <td>No Defect</td>\n",
       "      <td>No Defect</td>\n",
       "    </tr>\n",
       "    <tr>\n",
       "      <th>198</th>\n",
       "      <td>No Defect</td>\n",
       "      <td>No Defect</td>\n",
       "      <td>Defect</td>\n",
       "      <td>Defect</td>\n",
       "    </tr>\n",
       "    <tr>\n",
       "      <th>199</th>\n",
       "      <td>No Defect</td>\n",
       "      <td>No Defect</td>\n",
       "      <td>No Defect</td>\n",
       "      <td>Defect</td>\n",
       "    </tr>\n",
       "  </tbody>\n",
       "</table>\n",
       "<p>200 rows × 4 columns</p>\n",
       "</div>"
      ],
      "text/plain": [
       "        actual     model1     model2     model3\n",
       "0    No Defect  No Defect     Defect  No Defect\n",
       "1    No Defect  No Defect     Defect     Defect\n",
       "2    No Defect  No Defect     Defect  No Defect\n",
       "3    No Defect     Defect     Defect     Defect\n",
       "4    No Defect  No Defect     Defect  No Defect\n",
       "..         ...        ...        ...        ...\n",
       "195  No Defect  No Defect     Defect     Defect\n",
       "196     Defect     Defect  No Defect  No Defect\n",
       "197  No Defect  No Defect  No Defect  No Defect\n",
       "198  No Defect  No Defect     Defect     Defect\n",
       "199  No Defect  No Defect  No Defect     Defect\n",
       "\n",
       "[200 rows x 4 columns]"
      ]
     },
     "execution_count": 96,
     "metadata": {},
     "output_type": "execute_result"
    }
   ],
   "source": [
    "duckies = pd.read_csv('c3.csv')\n",
    "duckies"
   ]
  },
  {
   "cell_type": "code",
   "execution_count": 97,
   "id": "56eda21a",
   "metadata": {},
   "outputs": [
    {
     "data": {
      "text/html": [
       "<div>\n",
       "<style scoped>\n",
       "    .dataframe tbody tr th:only-of-type {\n",
       "        vertical-align: middle;\n",
       "    }\n",
       "\n",
       "    .dataframe tbody tr th {\n",
       "        vertical-align: top;\n",
       "    }\n",
       "\n",
       "    .dataframe thead th {\n",
       "        text-align: right;\n",
       "    }\n",
       "</style>\n",
       "<table border=\"1\" class=\"dataframe\">\n",
       "  <thead>\n",
       "    <tr style=\"text-align: right;\">\n",
       "      <th></th>\n",
       "      <th>actual</th>\n",
       "      <th>model1</th>\n",
       "      <th>model2</th>\n",
       "      <th>model3</th>\n",
       "    </tr>\n",
       "  </thead>\n",
       "  <tbody>\n",
       "    <tr>\n",
       "      <th>count</th>\n",
       "      <td>200</td>\n",
       "      <td>200</td>\n",
       "      <td>200</td>\n",
       "      <td>200</td>\n",
       "    </tr>\n",
       "    <tr>\n",
       "      <th>unique</th>\n",
       "      <td>2</td>\n",
       "      <td>2</td>\n",
       "      <td>2</td>\n",
       "      <td>2</td>\n",
       "    </tr>\n",
       "    <tr>\n",
       "      <th>top</th>\n",
       "      <td>No Defect</td>\n",
       "      <td>No Defect</td>\n",
       "      <td>No Defect</td>\n",
       "      <td>No Defect</td>\n",
       "    </tr>\n",
       "    <tr>\n",
       "      <th>freq</th>\n",
       "      <td>184</td>\n",
       "      <td>190</td>\n",
       "      <td>110</td>\n",
       "      <td>101</td>\n",
       "    </tr>\n",
       "  </tbody>\n",
       "</table>\n",
       "</div>"
      ],
      "text/plain": [
       "           actual     model1     model2     model3\n",
       "count         200        200        200        200\n",
       "unique          2          2          2          2\n",
       "top     No Defect  No Defect  No Defect  No Defect\n",
       "freq          184        190        110        101"
      ]
     },
     "execution_count": 97,
     "metadata": {},
     "output_type": "execute_result"
    }
   ],
   "source": [
    "# Prepare the data\n",
    "\n",
    "duckies.describe()"
   ]
  },
  {
   "cell_type": "code",
   "execution_count": 98,
   "id": "709bf095",
   "metadata": {},
   "outputs": [
    {
     "name": "stdout",
     "output_type": "stream",
     "text": [
      "<class 'pandas.core.frame.DataFrame'>\n",
      "RangeIndex: 200 entries, 0 to 199\n",
      "Data columns (total 4 columns):\n",
      " #   Column  Non-Null Count  Dtype \n",
      "---  ------  --------------  ----- \n",
      " 0   actual  200 non-null    object\n",
      " 1   model1  200 non-null    object\n",
      " 2   model2  200 non-null    object\n",
      " 3   model3  200 non-null    object\n",
      "dtypes: object(4)\n",
      "memory usage: 6.4+ KB\n"
     ]
    }
   ],
   "source": [
    "duckies.info()"
   ]
  },
  {
   "cell_type": "code",
   "execution_count": 99,
   "id": "46f8591c",
   "metadata": {},
   "outputs": [
    {
     "data": {
      "text/plain": [
       "No Defect    184\n",
       "Defect        16\n",
       "Name: actual, dtype: int64"
      ]
     },
     "execution_count": 99,
     "metadata": {},
     "output_type": "execute_result"
    }
   ],
   "source": [
    "duckies.actual.value_counts()"
   ]
  },
  {
   "cell_type": "code",
   "execution_count": 100,
   "id": "8f0f9c30",
   "metadata": {},
   "outputs": [
    {
     "data": {
      "text/plain": [
       "No Defect    190\n",
       "Defect        10\n",
       "Name: model1, dtype: int64"
      ]
     },
     "execution_count": 100,
     "metadata": {},
     "output_type": "execute_result"
    }
   ],
   "source": [
    "duckies.model1.value_counts()"
   ]
  },
  {
   "cell_type": "code",
   "execution_count": 101,
   "id": "863f37a5",
   "metadata": {},
   "outputs": [
    {
     "data": {
      "text/plain": [
       "No Defect    110\n",
       "Defect        90\n",
       "Name: model2, dtype: int64"
      ]
     },
     "execution_count": 101,
     "metadata": {},
     "output_type": "execute_result"
    }
   ],
   "source": [
    "duckies.model2.value_counts()"
   ]
  },
  {
   "cell_type": "code",
   "execution_count": 102,
   "id": "4a4b0167",
   "metadata": {},
   "outputs": [
    {
     "data": {
      "text/plain": [
       "No Defect    101\n",
       "Defect        99\n",
       "Name: model3, dtype: int64"
      ]
     },
     "execution_count": 102,
     "metadata": {},
     "output_type": "execute_result"
    }
   ],
   "source": [
    "duckies.model3.value_counts()"
   ]
  },
  {
   "cell_type": "code",
   "execution_count": 103,
   "id": "000854c9",
   "metadata": {},
   "outputs": [
    {
     "data": {
      "text/plain": [
       "<AxesSubplot:>"
      ]
     },
     "execution_count": 103,
     "metadata": {},
     "output_type": "execute_result"
    },
    {
     "data": {
      "image/png": "[encoded data removed]",
      "text/plain": [
       "<Figure size 432x288 with 1 Axes>"
      ]
     },
     "metadata": {
      "needs_background": "light"
     },
     "output_type": "display_data"
    }
   ],
   "source": [
    "duckies.actual.hist()"
   ]
  },
  {
   "cell_type": "code",
   "execution_count": 104,
   "id": "6a9517c1",
   "metadata": {},
   "outputs": [
    {
     "data": {
      "text/plain": [
       "<AxesSubplot:>"
      ]
     },
     "execution_count": 104,
     "metadata": {},
     "output_type": "execute_result"
    },
    {
     "data": {
      "image/png": "[encoded data removed]",
      "text/plain": [
       "<Figure size 432x288 with 1 Axes>"
      ]
     },
     "metadata": {
      "needs_background": "light"
     },
     "output_type": "display_data"
    }
   ],
   "source": [
    "duckies.model1.hist()"
   ]
  },
  {
   "cell_type": "code",
   "execution_count": 105,
   "id": "bcb6a361",
   "metadata": {},
   "outputs": [
    {
     "data": {
      "text/plain": [
       "<AxesSubplot:>"
      ]
     },
     "execution_count": 105,
     "metadata": {},
     "output_type": "execute_result"
    },
    {
     "data": {
      "image/png": "[encoded data removed]",
      "text/plain": [
       "<Figure size 432x288 with 1 Axes>"
      ]
     },
     "metadata": {
      "needs_background": "light"
     },
     "output_type": "display_data"
    }
   ],
   "source": [
    "duckies.model2.hist()"
   ]
  },
  {
   "cell_type": "code",
   "execution_count": 106,
   "id": "d5a07e6d",
   "metadata": {},
   "outputs": [
    {
     "data": {
      "text/plain": [
       "<AxesSubplot:>"
      ]
     },
     "execution_count": 106,
     "metadata": {},
     "output_type": "execute_result"
    },
    {
     "data": {
      "image/png": "[encoded data removed]",
      "text/plain": [
       "<Figure size 432x288 with 1 Axes>"
      ]
     },
     "metadata": {
      "needs_background": "light"
     },
     "output_type": "display_data"
    }
   ],
   "source": [
    "duckies.model3.hist()"
   ]
  },
  {
   "cell_type": "markdown",
   "id": "275a76fd",
   "metadata": {},
   "source": [
    "# Key observations:\n",
    "\n",
    "-  Actual and model 1 have least amount of defect. \n",
    "-  Model 2 and model3 have bigger portions of defect duckies. \n",
    "  \n"
   ]
  },
  {
   "cell_type": "markdown",
   "id": "1264c7b2",
   "metadata": {},
   "source": [
    "### Actual VS Model1 Confusion Matrix"
   ]
  },
  {
   "cell_type": "code",
   "execution_count": 107,
   "id": "6235beda",
   "metadata": {},
   "outputs": [
    {
     "data": {
      "text/plain": [
       "array([[182,   2],\n",
       "       [  8,   8]])"
      ]
     },
     "execution_count": 107,
     "metadata": {},
     "output_type": "execute_result"
    }
   ],
   "source": [
    "confusion_matrix(duckies.actual, duckies.model1, labels =('No Defect', 'Defect'))\n"
   ]
  },
  {
   "cell_type": "code",
   "execution_count": 108,
   "id": "12fd262e",
   "metadata": {},
   "outputs": [
    {
     "data": {
      "text/html": [
       "<div>\n",
       "<style scoped>\n",
       "    .dataframe tbody tr th:only-of-type {\n",
       "        vertical-align: middle;\n",
       "    }\n",
       "\n",
       "    .dataframe tbody tr th {\n",
       "        vertical-align: top;\n",
       "    }\n",
       "\n",
       "    .dataframe thead th {\n",
       "        text-align: right;\n",
       "    }\n",
       "</style>\n",
       "<table border=\"1\" class=\"dataframe\">\n",
       "  <thead>\n",
       "    <tr style=\"text-align: right;\">\n",
       "      <th>model1</th>\n",
       "      <th>Defect</th>\n",
       "      <th>No Defect</th>\n",
       "    </tr>\n",
       "    <tr>\n",
       "      <th>actual</th>\n",
       "      <th></th>\n",
       "      <th></th>\n",
       "    </tr>\n",
       "  </thead>\n",
       "  <tbody>\n",
       "    <tr>\n",
       "      <th>Defect</th>\n",
       "      <td>8</td>\n",
       "      <td>8</td>\n",
       "    </tr>\n",
       "    <tr>\n",
       "      <th>No Defect</th>\n",
       "      <td>2</td>\n",
       "      <td>182</td>\n",
       "    </tr>\n",
       "  </tbody>\n",
       "</table>\n",
       "</div>"
      ],
      "text/plain": [
       "model1     Defect  No Defect\n",
       "actual                      \n",
       "Defect          8          8\n",
       "No Defect       2        182"
      ]
     },
     "execution_count": 108,
     "metadata": {},
     "output_type": "execute_result"
    }
   ],
   "source": [
    "pd.crosstab(duckies.actual, duckies.model1)"
   ]
  },
  {
   "cell_type": "markdown",
   "id": "fcd62919",
   "metadata": {},
   "source": [
    "## Actual VS Model2 Confusion Matrix & Cross - tabulations"
   ]
  },
  {
   "cell_type": "code",
   "execution_count": 109,
   "id": "2f678419",
   "metadata": {},
   "outputs": [
    {
     "data": {
      "text/plain": [
       "array([[103,  81],\n",
       "       [  7,   9]])"
      ]
     },
     "execution_count": 109,
     "metadata": {},
     "output_type": "execute_result"
    }
   ],
   "source": [
    "\n",
    "confusion_matrix(duckies.actual, duckies.model2, labels =('No Defect', 'Defect'))\n"
   ]
  },
  {
   "cell_type": "code",
   "execution_count": 110,
   "id": "1604ad51",
   "metadata": {},
   "outputs": [
    {
     "data": {
      "text/html": [
       "<div>\n",
       "<style scoped>\n",
       "    .dataframe tbody tr th:only-of-type {\n",
       "        vertical-align: middle;\n",
       "    }\n",
       "\n",
       "    .dataframe tbody tr th {\n",
       "        vertical-align: top;\n",
       "    }\n",
       "\n",
       "    .dataframe thead th {\n",
       "        text-align: right;\n",
       "    }\n",
       "</style>\n",
       "<table border=\"1\" class=\"dataframe\">\n",
       "  <thead>\n",
       "    <tr style=\"text-align: right;\">\n",
       "      <th>model2</th>\n",
       "      <th>Defect</th>\n",
       "      <th>No Defect</th>\n",
       "    </tr>\n",
       "    <tr>\n",
       "      <th>actual</th>\n",
       "      <th></th>\n",
       "      <th></th>\n",
       "    </tr>\n",
       "  </thead>\n",
       "  <tbody>\n",
       "    <tr>\n",
       "      <th>Defect</th>\n",
       "      <td>9</td>\n",
       "      <td>7</td>\n",
       "    </tr>\n",
       "    <tr>\n",
       "      <th>No Defect</th>\n",
       "      <td>81</td>\n",
       "      <td>103</td>\n",
       "    </tr>\n",
       "  </tbody>\n",
       "</table>\n",
       "</div>"
      ],
      "text/plain": [
       "model2     Defect  No Defect\n",
       "actual                      \n",
       "Defect          9          7\n",
       "No Defect      81        103"
      ]
     },
     "execution_count": 110,
     "metadata": {},
     "output_type": "execute_result"
    }
   ],
   "source": [
    "pd.crosstab(duckies.actual, duckies.model2)"
   ]
  },
  {
   "cell_type": "markdown",
   "id": "124731a3",
   "metadata": {},
   "source": [
    "### Actual VS Model3 Confusion Matrix"
   ]
  },
  {
   "cell_type": "code",
   "execution_count": 111,
   "id": "aae7ac32",
   "metadata": {},
   "outputs": [
    {
     "data": {
      "text/plain": [
       "array([[98, 86],\n",
       "       [ 3, 13]])"
      ]
     },
     "execution_count": 111,
     "metadata": {},
     "output_type": "execute_result"
    }
   ],
   "source": [
    "confusion_matrix(duckies.actual, duckies.model3, labels =('No Defect', 'Defect'))\n"
   ]
  },
  {
   "cell_type": "code",
   "execution_count": 112,
   "id": "b9f1d43e",
   "metadata": {},
   "outputs": [
    {
     "data": {
      "text/html": [
       "<div>\n",
       "<style scoped>\n",
       "    .dataframe tbody tr th:only-of-type {\n",
       "        vertical-align: middle;\n",
       "    }\n",
       "\n",
       "    .dataframe tbody tr th {\n",
       "        vertical-align: top;\n",
       "    }\n",
       "\n",
       "    .dataframe thead th {\n",
       "        text-align: right;\n",
       "    }\n",
       "</style>\n",
       "<table border=\"1\" class=\"dataframe\">\n",
       "  <thead>\n",
       "    <tr style=\"text-align: right;\">\n",
       "      <th>model3</th>\n",
       "      <th>Defect</th>\n",
       "      <th>No Defect</th>\n",
       "    </tr>\n",
       "    <tr>\n",
       "      <th>actual</th>\n",
       "      <th></th>\n",
       "      <th></th>\n",
       "    </tr>\n",
       "  </thead>\n",
       "  <tbody>\n",
       "    <tr>\n",
       "      <th>Defect</th>\n",
       "      <td>13</td>\n",
       "      <td>3</td>\n",
       "    </tr>\n",
       "    <tr>\n",
       "      <th>No Defect</th>\n",
       "      <td>86</td>\n",
       "      <td>98</td>\n",
       "    </tr>\n",
       "  </tbody>\n",
       "</table>\n",
       "</div>"
      ],
      "text/plain": [
       "model3     Defect  No Defect\n",
       "actual                      \n",
       "Defect         13          3\n",
       "No Defect      86         98"
      ]
     },
     "execution_count": 112,
     "metadata": {},
     "output_type": "execute_result"
    }
   ],
   "source": [
    "pd.crosstab(duckies.actual, duckies.model3)"
   ]
  },
  {
   "cell_type": "markdown",
   "id": "1524b47b",
   "metadata": {},
   "source": [
    "## Baseline Model Prediction: "
   ]
  },
  {
   "cell_type": "code",
   "execution_count": 127,
   "id": "035360f2",
   "metadata": {},
   "outputs": [],
   "source": [
    "# 'No Defects' because predicts the most common class each time\n",
    "\n",
    "duckies['baseline_prediction'] = 'No Defect'"
   ]
  },
  {
   "cell_type": "markdown",
   "id": "bc418b25",
   "metadata": {},
   "source": [
    "### Duckies Model I"
   ]
  },
  {
   "cell_type": "code",
   "execution_count": 128,
   "id": "641170a6",
   "metadata": {},
   "outputs": [
    {
     "name": "stdout",
     "output_type": "stream",
     "text": [
      "\tModel accuracy: 95.00%\n"
     ]
    }
   ],
   "source": [
    "# Model Accuracy\n",
    "\n",
    "model_accuracy = (duckies.model1 == duckies.actual).mean()\n",
    "print(f'\\tModel I accuracy: {model_accuracy:.2%}')"
   ]
  },
  {
   "cell_type": "code",
   "execution_count": 129,
   "id": "322ebdbb",
   "metadata": {},
   "outputs": [
    {
     "name": "stdout",
     "output_type": "stream",
     "text": [
      "\tbaseline accuracy: 92.00%\n"
     ]
    }
   ],
   "source": [
    "# Baseline Accuracy\n",
    "\n",
    "baseline_accuracy = (duckies.baseline_prediction == duckies.actual).mean()\n",
    "print(f'\\tbaseline accuracy: {baseline_accuracy:.2%}')"
   ]
  },
  {
   "cell_type": "code",
   "execution_count": 130,
   "id": "3e33402d",
   "metadata": {},
   "outputs": [
    {
     "name": "stdout",
     "output_type": "stream",
     "text": [
      "\tModel recall: 98.91%\n",
      "\tBaseline recall: 100.00%\n"
     ]
    }
   ],
   "source": [
    "# Subset \n",
    "\n",
    "subset = duckies[duckies.actual == 'No Defect']\n",
    "model_recall =(subset.model1 == subset.actual).mean()\n",
    "baseline_recall = (subset.baseline_prediction == subset.actual).mean()\n",
    "\n",
    "print(f'\\tModel recall: {model_recall:.2%}')\n",
    "print(f'\\tBaseline recall: {baseline_recall:.2%}')\n"
   ]
  },
  {
   "cell_type": "code",
   "execution_count": 131,
   "id": "ba1cfae8",
   "metadata": {},
   "outputs": [
    {
     "name": "stdout",
     "output_type": "stream",
     "text": [
      "\tModel precision: 95.79%\n",
      "\tBaseline precision: 92.00%\n"
     ]
    }
   ],
   "source": [
    "# Precision\n",
    "\n",
    "subset = duckies[duckies.model1 == 'No Defect']\n",
    "model_precision = (subset.model1 == subset.actual).mean()\n",
    "\n",
    "subset = duckies[duckies.baseline_prediction == 'No Defect']\n",
    "baseline_precision = (subset.baseline_prediction == subset.actual).mean()\n",
    "\n",
    "\n",
    "print(f'\\tModel precision: {model_precision:.2%}')\n",
    "print(f'\\tBaseline precision: {baseline_precision:.2%}')\n"
   ]
  },
  {
   "cell_type": "code",
   "execution_count": 143,
   "id": "17326513",
   "metadata": {},
   "outputs": [
    {
     "name": "stdout",
     "output_type": "stream",
     "text": [
      "MODEL I: Accuracy | Recall | Precision\n",
      "\n",
      "\tModel I accuracy: 95.00%\n",
      "\tbaseline accuracy: 92.00%\n",
      "--------------------------------------\n",
      "\tModel I recall: 98.91%\n",
      "\tBaseline recall: 100.00%\n",
      "--------------------------------------\n",
      "\tModel I precision: 95.79%\n",
      "\tBaseline precision: 92.00%\n"
     ]
    }
   ],
   "source": [
    "print('MODEL I: Accuracy | Recall | Precision')\n",
    "print()\n",
    "print(f'\\tModel I accuracy: {model_accuracy:.2%}')\n",
    "print(f'\\tbaseline accuracy: {baseline_accuracy:.2%}')\n",
    "\n",
    "print('--------------------------------------')\n",
    "\n",
    "print(f'\\tModel I recall: {model_recall:.2%}')\n",
    "print(f'\\tBaseline recall: {baseline_recall:.2%}')\n",
    "\n",
    "print('--------------------------------------')\n",
    "print(f'\\tModel I precision: {model_precision:.2%}')\n",
    "print(f'\\tBaseline precision: {baseline_precision:.2%}')"
   ]
  },
  {
   "cell_type": "markdown",
   "id": "d82c53be",
   "metadata": {},
   "source": [
    "### Duckies Model II"
   ]
  },
  {
   "cell_type": "code",
   "execution_count": 133,
   "id": "dd6acab0",
   "metadata": {},
   "outputs": [
    {
     "data": {
      "text/plain": [
       "array([[103,  81],\n",
       "       [  7,   9]])"
      ]
     },
     "execution_count": 133,
     "metadata": {},
     "output_type": "execute_result"
    }
   ],
   "source": [
    "confusion_matrix(duckies.actual, duckies.model2, labels =('No Defect', 'Defect'))\n"
   ]
  },
  {
   "cell_type": "code",
   "execution_count": 134,
   "id": "0b46f271",
   "metadata": {},
   "outputs": [
    {
     "data": {
      "text/html": [
       "<div>\n",
       "<style scoped>\n",
       "    .dataframe tbody tr th:only-of-type {\n",
       "        vertical-align: middle;\n",
       "    }\n",
       "\n",
       "    .dataframe tbody tr th {\n",
       "        vertical-align: top;\n",
       "    }\n",
       "\n",
       "    .dataframe thead th {\n",
       "        text-align: right;\n",
       "    }\n",
       "</style>\n",
       "<table border=\"1\" class=\"dataframe\">\n",
       "  <thead>\n",
       "    <tr style=\"text-align: right;\">\n",
       "      <th>model2</th>\n",
       "      <th>Defect</th>\n",
       "      <th>No Defect</th>\n",
       "    </tr>\n",
       "    <tr>\n",
       "      <th>actual</th>\n",
       "      <th></th>\n",
       "      <th></th>\n",
       "    </tr>\n",
       "  </thead>\n",
       "  <tbody>\n",
       "    <tr>\n",
       "      <th>Defect</th>\n",
       "      <td>9</td>\n",
       "      <td>7</td>\n",
       "    </tr>\n",
       "    <tr>\n",
       "      <th>No Defect</th>\n",
       "      <td>81</td>\n",
       "      <td>103</td>\n",
       "    </tr>\n",
       "  </tbody>\n",
       "</table>\n",
       "</div>"
      ],
      "text/plain": [
       "model2     Defect  No Defect\n",
       "actual                      \n",
       "Defect          9          7\n",
       "No Defect      81        103"
      ]
     },
     "execution_count": 134,
     "metadata": {},
     "output_type": "execute_result"
    }
   ],
   "source": [
    "pd.crosstab(duckies.actual, duckies.model2)"
   ]
  },
  {
   "cell_type": "code",
   "execution_count": 135,
   "id": "b1ddd508",
   "metadata": {},
   "outputs": [],
   "source": [
    "model_accuracy2 = (duckies.model2 == duckies.actual).mean()\n",
    "baseline_accuracy2 = (duckies.baseline_prediction == duckies.actual).mean()\n",
    "\n",
    "subset2 = duckies[duckies.actual == 'No Defect']\n",
    "model_recall2 =(subset.model2 == subset.actual).mean()\n",
    "baseline_recall2 = (subset.baseline_prediction == subset.actual).mean()\n",
    "\n",
    "subset2 = duckies[duckies.model2 == 'No Defect']\n",
    "model_precision2 = (subset.model2 == subset.actual).mean()\n",
    "\n",
    "subset2 = duckies[duckies.baseline_prediction == 'No Defect']\n",
    "baseline_precision2 = (subset.baseline_prediction == subset.actual).mean()"
   ]
  },
  {
   "cell_type": "code",
   "execution_count": 142,
   "id": "2f1dc6f4",
   "metadata": {},
   "outputs": [
    {
     "name": "stdout",
     "output_type": "stream",
     "text": [
      "\n",
      "MODEL II: Accuracy | Recall | Precision\n",
      "\n",
      "\tModel II accuracy: 56.00%\n",
      "\tbaseline accuracy: 92.00%\n",
      "--------------------------------------\n",
      "\tModel II recall: 56.00%\n",
      "\tBaseline recall: 92.00%\n",
      "--------------------------------------\n",
      "\tModel II precision: 56.00%\n",
      "\tBaseline precision: 92.00%\n"
     ]
    }
   ],
   "source": [
    "print()\n",
    "print('MODEL II: Accuracy | Recall | Precision')\n",
    "print()\n",
    "print(f'\\tModel II accuracy: {model_accuracy2:.2%}')\n",
    "print(f'\\tbaseline accuracy: {baseline_accuracy2:.2%}')\n",
    "\n",
    "print('--------------------------------------')\n",
    "\n",
    "print(f'\\tModel II recall: {model_recall2:.2%}')\n",
    "print(f'\\tBaseline recall: {baseline_recall2:.2%}')\n",
    "\n",
    "print('--------------------------------------')\n",
    "print(f'\\tModel II precision: {model_precision2:.2%}')\n",
    "print(f'\\tBaseline precision: {baseline_precision2:.2%}')"
   ]
  },
  {
   "cell_type": "markdown",
   "id": "c28fb279",
   "metadata": {},
   "source": [
    "### Duckies Model III\n",
    "\n"
   ]
  },
  {
   "cell_type": "code",
   "execution_count": 137,
   "id": "b5be82b9",
   "metadata": {},
   "outputs": [
    {
     "data": {
      "text/plain": [
       "array([[98, 86],\n",
       "       [ 3, 13]])"
      ]
     },
     "execution_count": 137,
     "metadata": {},
     "output_type": "execute_result"
    }
   ],
   "source": [
    "confusion_matrix(duckies.actual, duckies.model3, labels =('No Defect', 'Defect'))\n"
   ]
  },
  {
   "cell_type": "code",
   "execution_count": 138,
   "id": "889ebc0e",
   "metadata": {},
   "outputs": [
    {
     "data": {
      "text/html": [
       "<div>\n",
       "<style scoped>\n",
       "    .dataframe tbody tr th:only-of-type {\n",
       "        vertical-align: middle;\n",
       "    }\n",
       "\n",
       "    .dataframe tbody tr th {\n",
       "        vertical-align: top;\n",
       "    }\n",
       "\n",
       "    .dataframe thead th {\n",
       "        text-align: right;\n",
       "    }\n",
       "</style>\n",
       "<table border=\"1\" class=\"dataframe\">\n",
       "  <thead>\n",
       "    <tr style=\"text-align: right;\">\n",
       "      <th>model3</th>\n",
       "      <th>Defect</th>\n",
       "      <th>No Defect</th>\n",
       "    </tr>\n",
       "    <tr>\n",
       "      <th>actual</th>\n",
       "      <th></th>\n",
       "      <th></th>\n",
       "    </tr>\n",
       "  </thead>\n",
       "  <tbody>\n",
       "    <tr>\n",
       "      <th>Defect</th>\n",
       "      <td>13</td>\n",
       "      <td>3</td>\n",
       "    </tr>\n",
       "    <tr>\n",
       "      <th>No Defect</th>\n",
       "      <td>86</td>\n",
       "      <td>98</td>\n",
       "    </tr>\n",
       "  </tbody>\n",
       "</table>\n",
       "</div>"
      ],
      "text/plain": [
       "model3     Defect  No Defect\n",
       "actual                      \n",
       "Defect         13          3\n",
       "No Defect      86         98"
      ]
     },
     "execution_count": 138,
     "metadata": {},
     "output_type": "execute_result"
    }
   ],
   "source": [
    "pd.crosstab(duckies.actual, duckies.model3)"
   ]
  },
  {
   "cell_type": "code",
   "execution_count": 139,
   "id": "234e5602",
   "metadata": {},
   "outputs": [],
   "source": [
    "model_accuracy3 = (duckies.model3 == duckies.actual).mean()\n",
    "baseline_accuracy3 = (duckies.baseline_prediction == duckies.actual).mean()\n",
    "\n",
    "subset3 = duckies[duckies.actual == 'No Defect']\n",
    "model_recall3 =(subset.model3 == subset.actual).mean()\n",
    "baseline_recall3 = (subset.baseline_prediction == subset.actual).mean()\n",
    "\n",
    "subset3 = duckies[duckies.model3 == 'No Defect']\n",
    "model_precision3 = (subset.model3 == subset.actual).mean()\n",
    "\n",
    "subset3 = duckies[duckies.baseline_prediction == 'No Defect']\n",
    "baseline_precision3 = (subset.baseline_prediction == subset.actual).mean()"
   ]
  },
  {
   "cell_type": "code",
   "execution_count": 145,
   "id": "163a6712",
   "metadata": {},
   "outputs": [
    {
     "name": "stdout",
     "output_type": "stream",
     "text": [
      "\n",
      "MODEL III: Accuracy | Recall | Precision\n",
      "\n",
      "\tModel III accuracy: 55.50%\n",
      "\tbaseline accuracy: 92.00%\n",
      "--------------------------------------\n",
      "\tModel III recall: 55.50%\n",
      "\tBaseline recall: 92.00%\n",
      "--------------------------------------\n",
      "\tModel III precision: 55.50%\n",
      "\tBaseline precision: 92.00%\n"
     ]
    }
   ],
   "source": [
    "print()\n",
    "print('MODEL III: Accuracy | Recall | Precision')\n",
    "print()\n",
    "print(f'\\tModel III accuracy: {model_accuracy3:.2%}')\n",
    "print(f'\\tbaseline accuracy: {baseline_accuracy3:.2%}')\n",
    "\n",
    "print('--------------------------------------')\n",
    "\n",
    "print(f'\\tModel III recall: {model_recall3:.2%}')\n",
    "print(f'\\tBaseline recall: {baseline_recall3:.2%}')\n",
    "\n",
    "print('--------------------------------------')\n",
    "print(f'\\tModel III precision: {model_precision3:.2%}')\n",
    "print(f'\\tBaseline precision: {baseline_precision3:.2%}')"
   ]
  },
  {
   "cell_type": "markdown",
   "id": "3034aef2",
   "metadata": {},
   "source": [
    "## Overall Average Performance metrics \n",
    "\n",
    "\n"
   ]
  },
  {
   "cell_type": "code",
   "execution_count": 150,
   "id": "e95d1be4",
   "metadata": {},
   "outputs": [
    {
     "name": "stdout",
     "output_type": "stream",
     "text": [
      "\tBaseline precision: 92.00%\n",
      "\n",
      "\tOverall Mean Precision for 3 models: 68.83%\n"
     ]
    }
   ],
   "source": [
    "# Precision Model mean\n",
    "\n",
    "overall_precision = (model_accuracy + model_precision2 + model_precision3) / 3\n",
    "print(f'\\tBaseline precision: {baseline_precision:.2%}')\n",
    "print()\n",
    "print(f'\\tOverall Mean Precision for 3 models: {overall_precision:.2%}')\n"
   ]
  },
  {
   "cell_type": "markdown",
   "id": "65dd9bdc",
   "metadata": {},
   "source": [
    "### Which evaluation metric would be appropriate here? \n",
    "\n",
    "-  Precision: \n",
    "\n",
    "### Which model would be the best fit for this use case?"
   ]
  },
  {
   "cell_type": "code",
   "execution_count": null,
   "id": "65a1e02f",
   "metadata": {},
   "outputs": [],
   "source": []
  },
  {
   "cell_type": "markdown",
   "id": "a124b604",
   "metadata": {},
   "source": [
    "### An internal team wants to investigate the cause of the manufacturing defects. They tell you that they want to identify as many of the ducks that have a defect as possible. \n",
    "-  Which evaluation metric would be appropriate here? \n",
    "\n",
    "#### ANSWER: Precision Matrix\n",
    "EXPLANATION: precision model bases on number of times a model predicts the +ve class. Since our +ve is the 'No Defect', our model overall precision is 68.83% compared to the baseline precision of 92.00%. Better to have good duckies classified as bad than the bad classified as good\n",
    "\n",
    "\n",
    "-  Which model would be the best fit for this use case?\n",
    "\n",
    "ANSWER: Model I with 95% precision"
   ]
  },
  {
   "cell_type": "markdown",
   "id": "323880b4",
   "metadata": {},
   "source": [
    "### Recently several stories in the local news have come out highlighting customers who received a rubber duck with a defect, and portraying C3 in a bad light. The PR team has decided to launch a program that gives customers with a defective duck a vacation to Hawaii. They need you to predict which ducks will have defects, but tell you the really don't want to accidentally give out a vacation package when the duck really doesn't have a defect. Which evaluation metric would be appropriate here?\n",
    "\n",
    "##### ANSWER: Recall. \n",
    "\n",
    "##### EXPLANATION: The false negatives are costly. Hawaii trips are expensive and we cannot afford to make an error giving a reward to custimers that received good duckies and miss those that received bad duckies"
   ]
  },
  {
   "cell_type": "markdown",
   "id": "55a474fb",
   "metadata": {},
   "source": [
    "### 4). You are working as a data scientist for Gives You Paws ™, a subscription based service that shows you cute pictures of dogs or cats (or both for an additional fee).\n",
    "\n",
    "### At Gives You Paws, anyone can upload pictures of their cats or dogs. The photos are then put through a two step process. First an automated algorithm tags pictures as either a cat or a dog (Phase I). Next, the photos that have been initially identified are put through another round of review, possibly with some human oversight, before being presented to the users (Phase II).\n",
    "\n",
    "### Several models have already been developed with the data, and you can find their results here.\n",
    "\n",
    "#### Given this dataset, use pandas to create a baseline model (i.e. a model that just predicts the most common class) and answer the following questions:\n",
    "\n",
    "\n",
    "a). In terms of accuracy, how do the various models compare to the baseline model? Are any of the models better than the baseline?\n",
    "\n",
    "\n",
    "b). Suppose you are working on a team that solely deals with dog pictures. Which of these models would you recomend for Phase I? For Phase II?\n",
    "\n",
    "c). Suppose you are working on a team that solely deals with cat pictures. Which of these models would you recomend for Phase I? For Phase II?\n",
    "\n",
    "\n"
   ]
  },
  {
   "cell_type": "code",
   "execution_count": 154,
   "id": "fd7644c1",
   "metadata": {},
   "outputs": [
    {
     "data": {
      "text/html": [
       "<div>\n",
       "<style scoped>\n",
       "    .dataframe tbody tr th:only-of-type {\n",
       "        vertical-align: middle;\n",
       "    }\n",
       "\n",
       "    .dataframe tbody tr th {\n",
       "        vertical-align: top;\n",
       "    }\n",
       "\n",
       "    .dataframe thead th {\n",
       "        text-align: right;\n",
       "    }\n",
       "</style>\n",
       "<table border=\"1\" class=\"dataframe\">\n",
       "  <thead>\n",
       "    <tr style=\"text-align: right;\">\n",
       "      <th></th>\n",
       "      <th>actual</th>\n",
       "      <th>model1</th>\n",
       "      <th>model2</th>\n",
       "      <th>model3</th>\n",
       "      <th>model4</th>\n",
       "    </tr>\n",
       "  </thead>\n",
       "  <tbody>\n",
       "    <tr>\n",
       "      <th>0</th>\n",
       "      <td>cat</td>\n",
       "      <td>cat</td>\n",
       "      <td>dog</td>\n",
       "      <td>cat</td>\n",
       "      <td>dog</td>\n",
       "    </tr>\n",
       "    <tr>\n",
       "      <th>1</th>\n",
       "      <td>dog</td>\n",
       "      <td>dog</td>\n",
       "      <td>cat</td>\n",
       "      <td>cat</td>\n",
       "      <td>dog</td>\n",
       "    </tr>\n",
       "    <tr>\n",
       "      <th>2</th>\n",
       "      <td>dog</td>\n",
       "      <td>cat</td>\n",
       "      <td>cat</td>\n",
       "      <td>cat</td>\n",
       "      <td>dog</td>\n",
       "    </tr>\n",
       "    <tr>\n",
       "      <th>3</th>\n",
       "      <td>dog</td>\n",
       "      <td>dog</td>\n",
       "      <td>dog</td>\n",
       "      <td>cat</td>\n",
       "      <td>dog</td>\n",
       "    </tr>\n",
       "    <tr>\n",
       "      <th>4</th>\n",
       "      <td>cat</td>\n",
       "      <td>cat</td>\n",
       "      <td>cat</td>\n",
       "      <td>dog</td>\n",
       "      <td>dog</td>\n",
       "    </tr>\n",
       "  </tbody>\n",
       "</table>\n",
       "</div>"
      ],
      "text/plain": [
       "  actual model1 model2 model3 model4\n",
       "0    cat    cat    dog    cat    dog\n",
       "1    dog    dog    cat    cat    dog\n",
       "2    dog    cat    cat    cat    dog\n",
       "3    dog    dog    dog    cat    dog\n",
       "4    cat    cat    cat    dog    dog"
      ]
     },
     "execution_count": 154,
     "metadata": {},
     "output_type": "execute_result"
    }
   ],
   "source": [
    "paws = pd.read_csv('gives_you_paws.csv')\n",
    "paws.head()"
   ]
  },
  {
   "cell_type": "code",
   "execution_count": 156,
   "id": "3dffff65",
   "metadata": {},
   "outputs": [
    {
     "name": "stdout",
     "output_type": "stream",
     "text": [
      "<class 'pandas.core.frame.DataFrame'>\n",
      "RangeIndex: 5000 entries, 0 to 4999\n",
      "Data columns (total 5 columns):\n",
      " #   Column  Non-Null Count  Dtype \n",
      "---  ------  --------------  ----- \n",
      " 0   actual  5000 non-null   object\n",
      " 1   model1  5000 non-null   object\n",
      " 2   model2  5000 non-null   object\n",
      " 3   model3  5000 non-null   object\n",
      " 4   model4  5000 non-null   object\n",
      "dtypes: object(5)\n",
      "memory usage: 195.4+ KB\n"
     ]
    }
   ],
   "source": [
    "paws.info()"
   ]
  },
  {
   "cell_type": "code",
   "execution_count": 157,
   "id": "487377a8",
   "metadata": {},
   "outputs": [
    {
     "data": {
      "text/plain": [
       "(5000, 5)"
      ]
     },
     "execution_count": 157,
     "metadata": {},
     "output_type": "execute_result"
    }
   ],
   "source": [
    "paws.shape"
   ]
  },
  {
   "cell_type": "code",
   "execution_count": 164,
   "id": "d9ad0ca6",
   "metadata": {},
   "outputs": [
    {
     "data": {
      "text/plain": [
       "dog    3254\n",
       "cat    1746\n",
       "Name: actual, dtype: int64"
      ]
     },
     "execution_count": 164,
     "metadata": {},
     "output_type": "execute_result"
    }
   ],
   "source": [
    "paws.actual.value_counts()"
   ]
  },
  {
   "cell_type": "code",
   "execution_count": 165,
   "id": "fe89dd2c",
   "metadata": {},
   "outputs": [
    {
     "data": {
      "text/plain": [
       "dog    2937\n",
       "cat    2063\n",
       "Name: model1, dtype: int64"
      ]
     },
     "execution_count": 165,
     "metadata": {},
     "output_type": "execute_result"
    }
   ],
   "source": [
    "paws.model1.value_counts()"
   ]
  },
  {
   "cell_type": "code",
   "execution_count": 166,
   "id": "04ae7702",
   "metadata": {},
   "outputs": [
    {
     "data": {
      "text/plain": [
       "cat    3212\n",
       "dog    1788\n",
       "Name: model2, dtype: int64"
      ]
     },
     "execution_count": 166,
     "metadata": {},
     "output_type": "execute_result"
    }
   ],
   "source": [
    "paws.model2.value_counts()"
   ]
  },
  {
   "cell_type": "code",
   "execution_count": 167,
   "id": "0f920c38",
   "metadata": {},
   "outputs": [
    {
     "data": {
      "text/plain": [
       "dog    2508\n",
       "cat    2492\n",
       "Name: model3, dtype: int64"
      ]
     },
     "execution_count": 167,
     "metadata": {},
     "output_type": "execute_result"
    }
   ],
   "source": [
    "paws.model3.value_counts()"
   ]
  },
  {
   "cell_type": "code",
   "execution_count": 168,
   "id": "bdb885c6",
   "metadata": {},
   "outputs": [
    {
     "data": {
      "text/plain": [
       "dog    4253\n",
       "cat     747\n",
       "Name: model4, dtype: int64"
      ]
     },
     "execution_count": 168,
     "metadata": {},
     "output_type": "execute_result"
    }
   ],
   "source": [
    "paws.model4.value_counts()"
   ]
  },
  {
   "cell_type": "code",
   "execution_count": 181,
   "id": "ffee9a65",
   "metadata": {},
   "outputs": [
    {
     "data": {
      "text/html": [
       "<div>\n",
       "<style scoped>\n",
       "    .dataframe tbody tr th:only-of-type {\n",
       "        vertical-align: middle;\n",
       "    }\n",
       "\n",
       "    .dataframe tbody tr th {\n",
       "        vertical-align: top;\n",
       "    }\n",
       "\n",
       "    .dataframe thead th {\n",
       "        text-align: right;\n",
       "    }\n",
       "</style>\n",
       "<table border=\"1\" class=\"dataframe\">\n",
       "  <thead>\n",
       "    <tr style=\"text-align: right;\">\n",
       "      <th>model1</th>\n",
       "      <th>cat</th>\n",
       "      <th>dog</th>\n",
       "    </tr>\n",
       "    <tr>\n",
       "      <th>actual</th>\n",
       "      <th></th>\n",
       "      <th></th>\n",
       "    </tr>\n",
       "  </thead>\n",
       "  <tbody>\n",
       "    <tr>\n",
       "      <th>cat</th>\n",
       "      <td>1423</td>\n",
       "      <td>323</td>\n",
       "    </tr>\n",
       "    <tr>\n",
       "      <th>dog</th>\n",
       "      <td>640</td>\n",
       "      <td>2614</td>\n",
       "    </tr>\n",
       "  </tbody>\n",
       "</table>\n",
       "</div>"
      ],
      "text/plain": [
       "model1   cat   dog\n",
       "actual            \n",
       "cat     1423   323\n",
       "dog      640  2614"
      ]
     },
     "execution_count": 181,
     "metadata": {},
     "output_type": "execute_result"
    }
   ],
   "source": [
    "pd.crosstab(paws.actual, paws.model1)"
   ]
  },
  {
   "cell_type": "code",
   "execution_count": 183,
   "id": "9dcb1140",
   "metadata": {},
   "outputs": [
    {
     "data": {
      "text/html": [
       "<div>\n",
       "<style scoped>\n",
       "    .dataframe tbody tr th:only-of-type {\n",
       "        vertical-align: middle;\n",
       "    }\n",
       "\n",
       "    .dataframe tbody tr th {\n",
       "        vertical-align: top;\n",
       "    }\n",
       "\n",
       "    .dataframe thead th {\n",
       "        text-align: right;\n",
       "    }\n",
       "</style>\n",
       "<table border=\"1\" class=\"dataframe\">\n",
       "  <thead>\n",
       "    <tr style=\"text-align: right;\">\n",
       "      <th>model2</th>\n",
       "      <th>cat</th>\n",
       "      <th>dog</th>\n",
       "    </tr>\n",
       "    <tr>\n",
       "      <th>actual</th>\n",
       "      <th></th>\n",
       "      <th></th>\n",
       "    </tr>\n",
       "  </thead>\n",
       "  <tbody>\n",
       "    <tr>\n",
       "      <th>cat</th>\n",
       "      <td>1555</td>\n",
       "      <td>191</td>\n",
       "    </tr>\n",
       "    <tr>\n",
       "      <th>dog</th>\n",
       "      <td>1657</td>\n",
       "      <td>1597</td>\n",
       "    </tr>\n",
       "  </tbody>\n",
       "</table>\n",
       "</div>"
      ],
      "text/plain": [
       "model2   cat   dog\n",
       "actual            \n",
       "cat     1555   191\n",
       "dog     1657  1597"
      ]
     },
     "execution_count": 183,
     "metadata": {},
     "output_type": "execute_result"
    }
   ],
   "source": [
    "pd.crosstab(paws.actual, paws.model2)"
   ]
  },
  {
   "cell_type": "code",
   "execution_count": 184,
   "id": "d8694cf8",
   "metadata": {},
   "outputs": [
    {
     "data": {
      "text/html": [
       "<div>\n",
       "<style scoped>\n",
       "    .dataframe tbody tr th:only-of-type {\n",
       "        vertical-align: middle;\n",
       "    }\n",
       "\n",
       "    .dataframe tbody tr th {\n",
       "        vertical-align: top;\n",
       "    }\n",
       "\n",
       "    .dataframe thead th {\n",
       "        text-align: right;\n",
       "    }\n",
       "</style>\n",
       "<table border=\"1\" class=\"dataframe\">\n",
       "  <thead>\n",
       "    <tr style=\"text-align: right;\">\n",
       "      <th>model3</th>\n",
       "      <th>cat</th>\n",
       "      <th>dog</th>\n",
       "    </tr>\n",
       "    <tr>\n",
       "      <th>actual</th>\n",
       "      <th></th>\n",
       "      <th></th>\n",
       "    </tr>\n",
       "  </thead>\n",
       "  <tbody>\n",
       "    <tr>\n",
       "      <th>cat</th>\n",
       "      <td>893</td>\n",
       "      <td>853</td>\n",
       "    </tr>\n",
       "    <tr>\n",
       "      <th>dog</th>\n",
       "      <td>1599</td>\n",
       "      <td>1655</td>\n",
       "    </tr>\n",
       "  </tbody>\n",
       "</table>\n",
       "</div>"
      ],
      "text/plain": [
       "model3   cat   dog\n",
       "actual            \n",
       "cat      893   853\n",
       "dog     1599  1655"
      ]
     },
     "execution_count": 184,
     "metadata": {},
     "output_type": "execute_result"
    }
   ],
   "source": [
    "pd.crosstab(paws.actual, paws.model3)"
   ]
  },
  {
   "cell_type": "code",
   "execution_count": 185,
   "id": "31278bac",
   "metadata": {},
   "outputs": [
    {
     "data": {
      "text/html": [
       "<div>\n",
       "<style scoped>\n",
       "    .dataframe tbody tr th:only-of-type {\n",
       "        vertical-align: middle;\n",
       "    }\n",
       "\n",
       "    .dataframe tbody tr th {\n",
       "        vertical-align: top;\n",
       "    }\n",
       "\n",
       "    .dataframe thead th {\n",
       "        text-align: right;\n",
       "    }\n",
       "</style>\n",
       "<table border=\"1\" class=\"dataframe\">\n",
       "  <thead>\n",
       "    <tr style=\"text-align: right;\">\n",
       "      <th>model4</th>\n",
       "      <th>cat</th>\n",
       "      <th>dog</th>\n",
       "    </tr>\n",
       "    <tr>\n",
       "      <th>actual</th>\n",
       "      <th></th>\n",
       "      <th></th>\n",
       "    </tr>\n",
       "  </thead>\n",
       "  <tbody>\n",
       "    <tr>\n",
       "      <th>cat</th>\n",
       "      <td>603</td>\n",
       "      <td>1143</td>\n",
       "    </tr>\n",
       "    <tr>\n",
       "      <th>dog</th>\n",
       "      <td>144</td>\n",
       "      <td>3110</td>\n",
       "    </tr>\n",
       "  </tbody>\n",
       "</table>\n",
       "</div>"
      ],
      "text/plain": [
       "model4  cat   dog\n",
       "actual           \n",
       "cat     603  1143\n",
       "dog     144  3110"
      ]
     },
     "execution_count": 185,
     "metadata": {},
     "output_type": "execute_result"
    }
   ],
   "source": [
    "pd.crosstab(paws.actual, paws.model4)"
   ]
  },
  {
   "cell_type": "code",
   "execution_count": null,
   "id": "6221643c",
   "metadata": {},
   "outputs": [],
   "source": []
  },
  {
   "cell_type": "code",
   "execution_count": 197,
   "id": "7d07200b",
   "metadata": {},
   "outputs": [
    {
     "data": {
      "image/png": "[encoded data removed]",
      "text/plain": [
       "<Figure size 432x288 with 1 Axes>"
      ]
     },
     "metadata": {
      "needs_background": "light"
     },
     "output_type": "display_data"
    },
    {
     "data": {
      "image/png": "[encoded data removed]",
      "text/plain": [
       "<Figure size 432x288 with 1 Axes>"
      ]
     },
     "metadata": {
      "needs_background": "light"
     },
     "output_type": "display_data"
    },
    {
     "data": {
      "image/png": "[encoded data removed]",
      "text/plain": [
       "<Figure size 432x288 with 1 Axes>"
      ]
     },
     "metadata": {
      "needs_background": "light"
     },
     "output_type": "display_data"
    },
    {
     "data": {
      "image/png": "[encoded data removed]",
      "text/plain": [
       "<Figure size 432x288 with 1 Axes>"
      ]
     },
     "metadata": {
      "needs_background": "light"
     },
     "output_type": "display_data"
    },
    {
     "data": {
      "image/png": "[encoded data removed]",
      "text/plain": [
       "<Figure size 432x288 with 1 Axes>"
      ]
     },
     "metadata": {
      "needs_background": "light"
     },
     "output_type": "display_data"
    }
   ],
   "source": [
    "plt.title('Actual 1 Distribution')\n",
    "paws.actual.hist()\n",
    "plt.show()\n",
    "plt.title('Model 1 Distribution')\n",
    "paws.model1.hist()\n",
    "plt.show()\n",
    "plt.title('Model 2 Distribution')\n",
    "paws.model2.hist()\n",
    "plt.show()\n",
    "plt.title('Model 3 Distribution')\n",
    "paws.model3.hist()\n",
    "plt.show()\n",
    "plt.title('Model 4 Distribution')\n",
    "paws.model4.hist()\n",
    "plt.show()\n"
   ]
  },
  {
   "cell_type": "markdown",
   "id": "f02ca3b2",
   "metadata": {},
   "source": [
    "## Baseline Model"
   ]
  },
  {
   "cell_type": "code",
   "execution_count": 201,
   "id": "36b813b4",
   "metadata": {},
   "outputs": [],
   "source": [
    "# Dog pic is the most common\n",
    "\n",
    "paws['baseline_paws_prediction'] = 'dog'"
   ]
  },
  {
   "cell_type": "markdown",
   "id": "c917c088",
   "metadata": {},
   "source": [
    "### a). In terms of accuracy, how do the various models compare to the baseline model? Are any of the models better than the baseline?"
   ]
  },
  {
   "cell_type": "code",
   "execution_count": 209,
   "id": "c6ad0881",
   "metadata": {},
   "outputs": [],
   "source": [
    "paw_model1_accuracy = (paws.actual == paws.model1).mean()\n",
    "paw_model2_accuracy = (paws.actual == paws.model2).mean()\n",
    "paw_model3_accuracy = (paws.actual == paws.model3).mean()\n",
    "paw_model4_accuracy = (paws.actual == paws.model4).mean()\n",
    "\n",
    "paw_baseline_accuracy = (paws.baseline_paws_prediction == paws.actual).mean()"
   ]
  },
  {
   "cell_type": "code",
   "execution_count": 216,
   "id": "ea3c6473",
   "metadata": {},
   "outputs": [
    {
     "name": "stdout",
     "output_type": "stream",
     "text": [
      "\n",
      "Paw Accuracy Models\n",
      "\n",
      "\tPaw Model I: Accuracy: 80.74%\n",
      "\n",
      "\tPaw Model II: Accuracy: 63.04%\n",
      "\n",
      "\tPaw Model III: Accuracy: 50.96%\n",
      "\n",
      "\tPaw Model IV: Accuracy: 74.26%\n",
      "-------------------------------------------------\n",
      "\tPaw baseline Accuracy: 65.08%\n",
      "\n"
     ]
    }
   ],
   "source": [
    "print()\n",
    "print('Paw Accuracy Models')\n",
    "print()\n",
    "print(f'\\tPaw Model I: Accuracy: {paw_model1_accuracy:.2%}')\n",
    "print()\n",
    "print(f'\\tPaw Model II: Accuracy: {paw_model2_accuracy:.2%}')\n",
    "print()\n",
    "print(f'\\tPaw Model III: Accuracy: {paw_model3_accuracy:.2%}')\n",
    "print()\n",
    "print(f'\\tPaw Model IV: Accuracy: {paw_model4_accuracy:.2%}')\n",
    "print('-------------------------------------------------')\n",
    "print(f'\\tPaw baseline Accuracy: {paw_baseline_accuracy:.2%}')\n",
    "print()"
   ]
  },
  {
   "cell_type": "markdown",
   "id": "4e607408",
   "metadata": {},
   "source": [
    "### a). EXPLANATION: \n",
    "\n",
    "BaseLine accuracy = 65.08%\n",
    "\n",
    "    Model 1 Accuracy:  80.74% \n",
    "    Model 2 Accuracy:  63.04%\n",
    "    Model 3 Accuracy:  50.96% (Below baseline)\n",
    "    Model 4 Accuracy:  74.26%\n",
    "\n",
    "\n",
    "\n"
   ]
  },
  {
   "cell_type": "markdown",
   "id": "a857e91d",
   "metadata": {},
   "source": [
    "### b). Suppose you are working on a team that solely deals with dog pictures. \n",
    "\n",
    "-   Which of these models would you recomend for Phase I?\n",
    "\n",
    "    -  ANSWER: Model 1 since the dog is our baseline and has the highest accuracy 80.74%\n",
    "\n",
    "-   For Phase II?\n",
    "\n",
    "    -  ANSWER: Phase II: Second highest is Model 4 at 74.26%"
   ]
  },
  {
   "cell_type": "markdown",
   "id": "8c5afc3c",
   "metadata": {},
   "source": [
    "### c). Suppose you are working on a team that solely deals with cat pictures. Which of these models would you recomend for Phase I? For Phase II?"
   ]
  },
  {
   "cell_type": "code",
   "execution_count": 221,
   "id": "f368800d",
   "metadata": {},
   "outputs": [],
   "source": [
    "paws['cats_baseline_accuracy'] = 'cat'"
   ]
  },
  {
   "cell_type": "code",
   "execution_count": 222,
   "id": "62f8e62d",
   "metadata": {},
   "outputs": [
    {
     "name": "stdout",
     "output_type": "stream",
     "text": [
      "\n",
      "Paw Accuracy Models\n",
      "\n",
      "\tPaw Model I: Accuracy: 80.74%\n",
      "\n",
      "\tPaw Model II: Accuracy: 63.04%\n",
      "\n",
      "\tPaw Model III: Accuracy: 50.96%\n",
      "\n",
      "\tPaw Model IV: Accuracy: 74.26%\n",
      "-------------------------------------------------\n"
     ]
    },
    {
     "ename": "NameError",
     "evalue": "name 'cats_baseline_prediction' is not defined",
     "output_type": "error",
     "traceback": [
      "\u001b[0;31m---------------------------------------------------------------------------\u001b[0m",
      "\u001b[0;31mNameError\u001b[0m                                 Traceback (most recent call last)",
      "\u001b[0;32m/var/folders/b2/3fdswr7x4v5fhdt54wpcfmdw0000gn/T/ipykernel_10817/409096869.py\u001b[0m in \u001b[0;36m<module>\u001b[0;34m\u001b[0m\n\u001b[1;32m     10\u001b[0m \u001b[0mprint\u001b[0m\u001b[0;34m(\u001b[0m\u001b[0;34mf'\\tPaw Model IV: Accuracy: {paw_model4_accuracy:.2%}'\u001b[0m\u001b[0;34m)\u001b[0m\u001b[0;34m\u001b[0m\u001b[0;34m\u001b[0m\u001b[0m\n\u001b[1;32m     11\u001b[0m \u001b[0mprint\u001b[0m\u001b[0;34m(\u001b[0m\u001b[0;34m'-------------------------------------------------'\u001b[0m\u001b[0;34m)\u001b[0m\u001b[0;34m\u001b[0m\u001b[0;34m\u001b[0m\u001b[0m\n\u001b[0;32m---> 12\u001b[0;31m \u001b[0mprint\u001b[0m\u001b[0;34m(\u001b[0m\u001b[0;34mf'\\tCats baseline Prediction: {cats_baseline_prediction:.2%}'\u001b[0m\u001b[0;34m)\u001b[0m\u001b[0;34m\u001b[0m\u001b[0;34m\u001b[0m\u001b[0m\n\u001b[0m\u001b[1;32m     13\u001b[0m \u001b[0mprint\u001b[0m\u001b[0;34m(\u001b[0m\u001b[0;34m)\u001b[0m\u001b[0;34m\u001b[0m\u001b[0;34m\u001b[0m\u001b[0m\n",
      "\u001b[0;31mNameError\u001b[0m: name 'cats_baseline_prediction' is not defined"
     ]
    }
   ],
   "source": [
    "print()\n",
    "print('Paw Accuracy Models')\n",
    "print()\n",
    "print(f'\\tPaw Model I: Accuracy: {paw_model1_accuracy:.2%}')\n",
    "print()\n",
    "print(f'\\tPaw Model II: Accuracy: {paw_model2_accuracy:.2%}')\n",
    "print()\n",
    "print(f'\\tPaw Model III: Accuracy: {paw_model3_accuracy:.2%}')\n",
    "print()\n",
    "print(f'\\tPaw Model IV: Accuracy: {paw_model4_accuracy:.2%}')\n",
    "print('-------------------------------------------------')\n",
    "print(f'\\tCats baseline Prediction: {cats_baseline_prediction:.2%}')\n",
    "print()"
   ]
  },
  {
   "cell_type": "code",
   "execution_count": null,
   "id": "0420db2e",
   "metadata": {},
   "outputs": [],
   "source": []
  },
  {
   "cell_type": "code",
   "execution_count": null,
   "id": "5db82047",
   "metadata": {},
   "outputs": [],
   "source": []
  },
  {
   "cell_type": "markdown",
   "id": "78c450ff",
   "metadata": {},
   "source": [
    "## 5). Follow the links below to read the documentation about each function, then apply those functions to the data from the previous problem.\n",
    "\n",
    "-  sklearn.metrics.accuracy_score\n",
    "-  sklearn.metrics.precision_score\n",
    "-  sklearn.metrics.recall_score\n",
    "-  sklearn.metrics.classification_report\n",
    "\n"
   ]
  },
  {
   "cell_type": "markdown",
   "id": "e2626057",
   "metadata": {},
   "source": [
    "## Model I"
   ]
  },
  {
   "cell_type": "code",
   "execution_count": 237,
   "id": "fd71c52f",
   "metadata": {},
   "outputs": [
    {
     "data": {
      "text/plain": [
       "{'cat': {'precision': 0.6897721764420747,\n",
       "  'recall': 0.8150057273768614,\n",
       "  'f1-score': 0.7471777369388292,\n",
       "  'support': 1746},\n",
       " 'dog': {'precision': 0.8900238338440586,\n",
       "  'recall': 0.803318992009834,\n",
       "  'f1-score': 0.8444516233241802,\n",
       "  'support': 3254},\n",
       " 'accuracy': 0.8074,\n",
       " 'macro avg': {'precision': 0.7898980051430666,\n",
       "  'recall': 0.8091623596933477,\n",
       "  'f1-score': 0.7958146801315047,\n",
       "  'support': 5000},\n",
       " 'weighted avg': {'precision': 0.8200959550792857,\n",
       "  'recall': 0.8074,\n",
       "  'f1-score': 0.8104835821984157,\n",
       "  'support': 5000}}"
      ]
     },
     "execution_count": 237,
     "metadata": {},
     "output_type": "execute_result"
    }
   ],
   "source": [
    "\n",
    "\n",
    "model1 = classification_report(paws.actual, paws.model1, output_dict = True)\n",
    "model1"
   ]
  },
  {
   "cell_type": "code",
   "execution_count": 240,
   "id": "8bd3c82f",
   "metadata": {},
   "outputs": [
    {
     "data": {
      "text/html": [
       "<div>\n",
       "<style scoped>\n",
       "    .dataframe tbody tr th:only-of-type {\n",
       "        vertical-align: middle;\n",
       "    }\n",
       "\n",
       "    .dataframe tbody tr th {\n",
       "        vertical-align: top;\n",
       "    }\n",
       "\n",
       "    .dataframe thead th {\n",
       "        text-align: right;\n",
       "    }\n",
       "</style>\n",
       "<table border=\"1\" class=\"dataframe\">\n",
       "  <thead>\n",
       "    <tr style=\"text-align: right;\">\n",
       "      <th></th>\n",
       "      <th>cat</th>\n",
       "      <th>dog</th>\n",
       "      <th>accuracy</th>\n",
       "      <th>macro avg</th>\n",
       "      <th>weighted avg</th>\n",
       "    </tr>\n",
       "  </thead>\n",
       "  <tbody>\n",
       "    <tr>\n",
       "      <th>precision</th>\n",
       "      <td>0.689772</td>\n",
       "      <td>0.890024</td>\n",
       "      <td>0.8074</td>\n",
       "      <td>0.789898</td>\n",
       "      <td>0.820096</td>\n",
       "    </tr>\n",
       "    <tr>\n",
       "      <th>recall</th>\n",
       "      <td>0.815006</td>\n",
       "      <td>0.803319</td>\n",
       "      <td>0.8074</td>\n",
       "      <td>0.809162</td>\n",
       "      <td>0.807400</td>\n",
       "    </tr>\n",
       "    <tr>\n",
       "      <th>f1-score</th>\n",
       "      <td>0.747178</td>\n",
       "      <td>0.844452</td>\n",
       "      <td>0.8074</td>\n",
       "      <td>0.795815</td>\n",
       "      <td>0.810484</td>\n",
       "    </tr>\n",
       "    <tr>\n",
       "      <th>support</th>\n",
       "      <td>1746.000000</td>\n",
       "      <td>3254.000000</td>\n",
       "      <td>0.8074</td>\n",
       "      <td>5000.000000</td>\n",
       "      <td>5000.000000</td>\n",
       "    </tr>\n",
       "  </tbody>\n",
       "</table>\n",
       "</div>"
      ],
      "text/plain": [
       "                   cat          dog  accuracy    macro avg  weighted avg\n",
       "precision     0.689772     0.890024    0.8074     0.789898      0.820096\n",
       "recall        0.815006     0.803319    0.8074     0.809162      0.807400\n",
       "f1-score      0.747178     0.844452    0.8074     0.795815      0.810484\n",
       "support    1746.000000  3254.000000    0.8074  5000.000000   5000.000000"
      ]
     },
     "execution_count": 240,
     "metadata": {},
     "output_type": "execute_result"
    }
   ],
   "source": [
    "paws_df_model1 = pd.DataFrame(model1)\n",
    "paws_df_model1"
   ]
  },
  {
   "cell_type": "markdown",
   "id": "6237258c",
   "metadata": {},
   "source": [
    "## Model II"
   ]
  },
  {
   "cell_type": "code",
   "execution_count": 231,
   "id": "98a9db7c",
   "metadata": {},
   "outputs": [
    {
     "data": {
      "text/plain": [
       "{'cat': {'precision': 0.4841220423412204,\n",
       "  'recall': 0.8906071019473081,\n",
       "  'f1-score': 0.627269060104881,\n",
       "  'support': 1746},\n",
       " 'dog': {'precision': 0.8931767337807607,\n",
       "  'recall': 0.49078057775046097,\n",
       "  'f1-score': 0.6334787782625942,\n",
       "  'support': 3254},\n",
       " 'accuracy': 0.6304,\n",
       " 'macro avg': {'precision': 0.6886493880609905,\n",
       "  'recall': 0.6906938398488845,\n",
       "  'f1-score': 0.6303739191837376,\n",
       "  'support': 5000},\n",
       " 'weighted avg': {'precision': 0.7503348355300732,\n",
       "  'recall': 0.6304,\n",
       "  'f1-score': 0.6313103446819207,\n",
       "  'support': 5000}}"
      ]
     },
     "execution_count": 231,
     "metadata": {},
     "output_type": "execute_result"
    }
   ],
   "source": [
    "\n",
    "model2 = classification_report(paws.actual, paws.model2, output_dict = True)\n",
    "model2"
   ]
  },
  {
   "cell_type": "code",
   "execution_count": 242,
   "id": "edf6848e",
   "metadata": {},
   "outputs": [
    {
     "data": {
      "text/html": [
       "<div>\n",
       "<style scoped>\n",
       "    .dataframe tbody tr th:only-of-type {\n",
       "        vertical-align: middle;\n",
       "    }\n",
       "\n",
       "    .dataframe tbody tr th {\n",
       "        vertical-align: top;\n",
       "    }\n",
       "\n",
       "    .dataframe thead th {\n",
       "        text-align: right;\n",
       "    }\n",
       "</style>\n",
       "<table border=\"1\" class=\"dataframe\">\n",
       "  <thead>\n",
       "    <tr style=\"text-align: right;\">\n",
       "      <th></th>\n",
       "      <th>cat</th>\n",
       "      <th>dog</th>\n",
       "      <th>accuracy</th>\n",
       "      <th>macro avg</th>\n",
       "      <th>weighted avg</th>\n",
       "    </tr>\n",
       "  </thead>\n",
       "  <tbody>\n",
       "    <tr>\n",
       "      <th>precision</th>\n",
       "      <td>0.484122</td>\n",
       "      <td>0.893177</td>\n",
       "      <td>0.6304</td>\n",
       "      <td>0.688649</td>\n",
       "      <td>0.750335</td>\n",
       "    </tr>\n",
       "    <tr>\n",
       "      <th>recall</th>\n",
       "      <td>0.890607</td>\n",
       "      <td>0.490781</td>\n",
       "      <td>0.6304</td>\n",
       "      <td>0.690694</td>\n",
       "      <td>0.630400</td>\n",
       "    </tr>\n",
       "    <tr>\n",
       "      <th>f1-score</th>\n",
       "      <td>0.627269</td>\n",
       "      <td>0.633479</td>\n",
       "      <td>0.6304</td>\n",
       "      <td>0.630374</td>\n",
       "      <td>0.631310</td>\n",
       "    </tr>\n",
       "    <tr>\n",
       "      <th>support</th>\n",
       "      <td>1746.000000</td>\n",
       "      <td>3254.000000</td>\n",
       "      <td>0.6304</td>\n",
       "      <td>5000.000000</td>\n",
       "      <td>5000.000000</td>\n",
       "    </tr>\n",
       "  </tbody>\n",
       "</table>\n",
       "</div>"
      ],
      "text/plain": [
       "                   cat          dog  accuracy    macro avg  weighted avg\n",
       "precision     0.484122     0.893177    0.6304     0.688649      0.750335\n",
       "recall        0.890607     0.490781    0.6304     0.690694      0.630400\n",
       "f1-score      0.627269     0.633479    0.6304     0.630374      0.631310\n",
       "support    1746.000000  3254.000000    0.6304  5000.000000   5000.000000"
      ]
     },
     "execution_count": 242,
     "metadata": {},
     "output_type": "execute_result"
    }
   ],
   "source": [
    "paws_df_model2 = pd.DataFrame(model2)\n",
    "paws_df_model2"
   ]
  },
  {
   "cell_type": "markdown",
   "id": "4b4e829a",
   "metadata": {},
   "source": [
    "### Model III"
   ]
  },
  {
   "cell_type": "code",
   "execution_count": 245,
   "id": "fa245649",
   "metadata": {},
   "outputs": [
    {
     "data": {
      "text/plain": [
       "{'cat': {'precision': 0.358346709470305,\n",
       "  'recall': 0.5114547537227949,\n",
       "  'f1-score': 0.4214252005663049,\n",
       "  'support': 1746},\n",
       " 'dog': {'precision': 0.6598883572567783,\n",
       "  'recall': 0.5086047940995697,\n",
       "  'f1-score': 0.5744533148212425,\n",
       "  'support': 3254},\n",
       " 'accuracy': 0.5096,\n",
       " 'macro avg': {'precision': 0.5091175333635416,\n",
       "  'recall': 0.5100297739111823,\n",
       "  'f1-score': 0.4979392576937737,\n",
       "  'support': 5000},\n",
       " 'weighted avg': {'precision': 0.5545900138497418,\n",
       "  'recall': 0.5095999999999999,\n",
       "  'f1-score': 0.5210158973234182,\n",
       "  'support': 5000}}"
      ]
     },
     "execution_count": 245,
     "metadata": {},
     "output_type": "execute_result"
    }
   ],
   "source": [
    "model3 = classification_report(paws.actual, paws.model3, output_dict = True)\n",
    "model3"
   ]
  },
  {
   "cell_type": "code",
   "execution_count": 247,
   "id": "786f67c0",
   "metadata": {},
   "outputs": [
    {
     "data": {
      "text/html": [
       "<div>\n",
       "<style scoped>\n",
       "    .dataframe tbody tr th:only-of-type {\n",
       "        vertical-align: middle;\n",
       "    }\n",
       "\n",
       "    .dataframe tbody tr th {\n",
       "        vertical-align: top;\n",
       "    }\n",
       "\n",
       "    .dataframe thead th {\n",
       "        text-align: right;\n",
       "    }\n",
       "</style>\n",
       "<table border=\"1\" class=\"dataframe\">\n",
       "  <thead>\n",
       "    <tr style=\"text-align: right;\">\n",
       "      <th></th>\n",
       "      <th>cat</th>\n",
       "      <th>dog</th>\n",
       "      <th>accuracy</th>\n",
       "      <th>macro avg</th>\n",
       "      <th>weighted avg</th>\n",
       "    </tr>\n",
       "  </thead>\n",
       "  <tbody>\n",
       "    <tr>\n",
       "      <th>precision</th>\n",
       "      <td>0.358347</td>\n",
       "      <td>0.659888</td>\n",
       "      <td>0.5096</td>\n",
       "      <td>0.509118</td>\n",
       "      <td>0.554590</td>\n",
       "    </tr>\n",
       "    <tr>\n",
       "      <th>recall</th>\n",
       "      <td>0.511455</td>\n",
       "      <td>0.508605</td>\n",
       "      <td>0.5096</td>\n",
       "      <td>0.510030</td>\n",
       "      <td>0.509600</td>\n",
       "    </tr>\n",
       "    <tr>\n",
       "      <th>f1-score</th>\n",
       "      <td>0.421425</td>\n",
       "      <td>0.574453</td>\n",
       "      <td>0.5096</td>\n",
       "      <td>0.497939</td>\n",
       "      <td>0.521016</td>\n",
       "    </tr>\n",
       "    <tr>\n",
       "      <th>support</th>\n",
       "      <td>1746.000000</td>\n",
       "      <td>3254.000000</td>\n",
       "      <td>0.5096</td>\n",
       "      <td>5000.000000</td>\n",
       "      <td>5000.000000</td>\n",
       "    </tr>\n",
       "  </tbody>\n",
       "</table>\n",
       "</div>"
      ],
      "text/plain": [
       "                   cat          dog  accuracy    macro avg  weighted avg\n",
       "precision     0.358347     0.659888    0.5096     0.509118      0.554590\n",
       "recall        0.511455     0.508605    0.5096     0.510030      0.509600\n",
       "f1-score      0.421425     0.574453    0.5096     0.497939      0.521016\n",
       "support    1746.000000  3254.000000    0.5096  5000.000000   5000.000000"
      ]
     },
     "execution_count": 247,
     "metadata": {},
     "output_type": "execute_result"
    }
   ],
   "source": [
    "paws_df_model3 = pd.DataFrame(model3)\n",
    "paws_df_model3"
   ]
  },
  {
   "cell_type": "code",
   "execution_count": 248,
   "id": "b6cb1ba2",
   "metadata": {},
   "outputs": [
    {
     "data": {
      "text/plain": [
       "{'cat': {'precision': 0.8072289156626506,\n",
       "  'recall': 0.34536082474226804,\n",
       "  'f1-score': 0.4837545126353791,\n",
       "  'support': 1746},\n",
       " 'dog': {'precision': 0.7312485304490948,\n",
       "  'recall': 0.9557467732022127,\n",
       "  'f1-score': 0.8285600106567205,\n",
       "  'support': 3254},\n",
       " 'accuracy': 0.7426,\n",
       " 'macro avg': {'precision': 0.7692387230558727,\n",
       "  'recall': 0.6505537989722403,\n",
       "  'f1-score': 0.6561572616460498,\n",
       "  'support': 5000},\n",
       " 'weighted avg': {'precision': 0.7577808809656685,\n",
       "  'recall': 0.7426,\n",
       "  'f1-score': 0.7081539307476681,\n",
       "  'support': 5000}}"
      ]
     },
     "execution_count": 248,
     "metadata": {},
     "output_type": "execute_result"
    }
   ],
   "source": [
    "model4 = classification_report(paws.actual, paws.model4, output_dict = True)\n",
    "model4"
   ]
  },
  {
   "cell_type": "code",
   "execution_count": 249,
   "id": "27c4b79b",
   "metadata": {},
   "outputs": [
    {
     "data": {
      "text/html": [
       "<div>\n",
       "<style scoped>\n",
       "    .dataframe tbody tr th:only-of-type {\n",
       "        vertical-align: middle;\n",
       "    }\n",
       "\n",
       "    .dataframe tbody tr th {\n",
       "        vertical-align: top;\n",
       "    }\n",
       "\n",
       "    .dataframe thead th {\n",
       "        text-align: right;\n",
       "    }\n",
       "</style>\n",
       "<table border=\"1\" class=\"dataframe\">\n",
       "  <thead>\n",
       "    <tr style=\"text-align: right;\">\n",
       "      <th></th>\n",
       "      <th>cat</th>\n",
       "      <th>dog</th>\n",
       "      <th>accuracy</th>\n",
       "      <th>macro avg</th>\n",
       "      <th>weighted avg</th>\n",
       "    </tr>\n",
       "  </thead>\n",
       "  <tbody>\n",
       "    <tr>\n",
       "      <th>precision</th>\n",
       "      <td>0.807229</td>\n",
       "      <td>0.731249</td>\n",
       "      <td>0.7426</td>\n",
       "      <td>0.769239</td>\n",
       "      <td>0.757781</td>\n",
       "    </tr>\n",
       "    <tr>\n",
       "      <th>recall</th>\n",
       "      <td>0.345361</td>\n",
       "      <td>0.955747</td>\n",
       "      <td>0.7426</td>\n",
       "      <td>0.650554</td>\n",
       "      <td>0.742600</td>\n",
       "    </tr>\n",
       "    <tr>\n",
       "      <th>f1-score</th>\n",
       "      <td>0.483755</td>\n",
       "      <td>0.828560</td>\n",
       "      <td>0.7426</td>\n",
       "      <td>0.656157</td>\n",
       "      <td>0.708154</td>\n",
       "    </tr>\n",
       "    <tr>\n",
       "      <th>support</th>\n",
       "      <td>1746.000000</td>\n",
       "      <td>3254.000000</td>\n",
       "      <td>0.7426</td>\n",
       "      <td>5000.000000</td>\n",
       "      <td>5000.000000</td>\n",
       "    </tr>\n",
       "  </tbody>\n",
       "</table>\n",
       "</div>"
      ],
      "text/plain": [
       "                   cat          dog  accuracy    macro avg  weighted avg\n",
       "precision     0.807229     0.731249    0.7426     0.769239      0.757781\n",
       "recall        0.345361     0.955747    0.7426     0.650554      0.742600\n",
       "f1-score      0.483755     0.828560    0.7426     0.656157      0.708154\n",
       "support    1746.000000  3254.000000    0.7426  5000.000000   5000.000000"
      ]
     },
     "execution_count": 249,
     "metadata": {},
     "output_type": "execute_result"
    }
   ],
   "source": [
    "paws_df_model4 = pd.DataFrame(model4)\n",
    "paws_df_model4"
   ]
  },
  {
   "cell_type": "code",
   "execution_count": null,
   "id": "56822ff8",
   "metadata": {},
   "outputs": [],
   "source": []
  }
 ],
 "metadata": {
  "kernelspec": {
   "display_name": "Python 3 (ipykernel)",
   "language": "python",
   "name": "python3"
  },
  "language_info": {
   "codemirror_mode": {
    "name": "ipython",
    "version": 3
   },
   "file_extension": ".py",
   "mimetype": "text/x-python",
   "name": "python",
   "nbconvert_exporter": "python",
   "pygments_lexer": "ipython3",
   "version": "3.9.7"
  }
 },
 "nbformat": 4,
 "nbformat_minor": 5
}
