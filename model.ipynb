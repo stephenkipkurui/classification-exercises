{
 "cells": [
  {
   "cell_type": "markdown",
   "id": "470ee2e7",
   "metadata": {},
   "source": [
    "># Methodologies I\n",
    ">> ## Modeling\n",
    "># Part I\n",
    ">>## (A). Decision Tree Exercises\n"
   ]
  },
  {
   "cell_type": "code",
   "execution_count": 1,
   "id": "6f3232e7",
   "metadata": {},
   "outputs": [],
   "source": [
    "import pandas as pd\n",
    "import seaborn as sns\n",
    "import matplotlib.pyplot as plt\n",
    "import numpy as np\n",
    "%matplotlib inline\n",
    "\n",
    "import env\n",
    "import acquire\n",
    "from prepare import train_validate_test_split, prep_telco, prep_titanic, prep_iris\n",
    "from prepare import impute_mode\n",
    "\n",
    "import warnings\n",
    "warnings.filterwarnings('ignore')\n",
    "\n",
    "from sklearn.model_selection import train_test_split\n",
    "from sklearn.tree import DecisionTreeClassifier, plot_tree, export_text\n",
    "from sklearn.metrics import classification_report, confusion_matrix, accuracy_score, recall_score\n",
    "from sklearn.ensemble import RandomForestClassifier\n",
    "from sklearn.impute import SimpleImputer\n",
    "\n",
    "\n",
    "# import graphviz\n",
    "from sklearn.tree import export_graphviz\n",
    "from sklearn.preprocessing import MinMaxScaler\n",
    "from sklearn.neighbors import KNeighborsClassifier as KNN\n",
    "\n",
    "from sklearn.linear_model import LogisticRegression\n",
    "\n",
    "\n"
   ]
  },
  {
   "cell_type": "code",
   "execution_count": 29,
   "id": "319afc5b",
   "metadata": {},
   "outputs": [
    {
     "data": {
      "text/html": [
       "<div>\n",
       "<style scoped>\n",
       "    .dataframe tbody tr th:only-of-type {\n",
       "        vertical-align: middle;\n",
       "    }\n",
       "\n",
       "    .dataframe tbody tr th {\n",
       "        vertical-align: top;\n",
       "    }\n",
       "\n",
       "    .dataframe thead th {\n",
       "        text-align: right;\n",
       "    }\n",
       "</style>\n",
       "<table border=\"1\" class=\"dataframe\">\n",
       "  <thead>\n",
       "    <tr style=\"text-align: right;\">\n",
       "      <th></th>\n",
       "      <th>passenger_id</th>\n",
       "      <th>survived</th>\n",
       "      <th>pclass</th>\n",
       "      <th>sex</th>\n",
       "      <th>age</th>\n",
       "      <th>sibsp</th>\n",
       "      <th>parch</th>\n",
       "      <th>fare</th>\n",
       "      <th>embarked</th>\n",
       "      <th>class</th>\n",
       "      <th>deck</th>\n",
       "      <th>embark_town</th>\n",
       "      <th>alone</th>\n",
       "    </tr>\n",
       "  </thead>\n",
       "  <tbody>\n",
       "    <tr>\n",
       "      <th>0</th>\n",
       "      <td>0</td>\n",
       "      <td>0</td>\n",
       "      <td>3</td>\n",
       "      <td>male</td>\n",
       "      <td>22.0</td>\n",
       "      <td>1</td>\n",
       "      <td>0</td>\n",
       "      <td>7.2500</td>\n",
       "      <td>S</td>\n",
       "      <td>Third</td>\n",
       "      <td>None</td>\n",
       "      <td>Southampton</td>\n",
       "      <td>0</td>\n",
       "    </tr>\n",
       "    <tr>\n",
       "      <th>1</th>\n",
       "      <td>1</td>\n",
       "      <td>1</td>\n",
       "      <td>1</td>\n",
       "      <td>female</td>\n",
       "      <td>38.0</td>\n",
       "      <td>1</td>\n",
       "      <td>0</td>\n",
       "      <td>71.2833</td>\n",
       "      <td>C</td>\n",
       "      <td>First</td>\n",
       "      <td>C</td>\n",
       "      <td>Cherbourg</td>\n",
       "      <td>0</td>\n",
       "    </tr>\n",
       "    <tr>\n",
       "      <th>2</th>\n",
       "      <td>2</td>\n",
       "      <td>1</td>\n",
       "      <td>3</td>\n",
       "      <td>female</td>\n",
       "      <td>26.0</td>\n",
       "      <td>0</td>\n",
       "      <td>0</td>\n",
       "      <td>7.9250</td>\n",
       "      <td>S</td>\n",
       "      <td>Third</td>\n",
       "      <td>None</td>\n",
       "      <td>Southampton</td>\n",
       "      <td>1</td>\n",
       "    </tr>\n",
       "    <tr>\n",
       "      <th>3</th>\n",
       "      <td>3</td>\n",
       "      <td>1</td>\n",
       "      <td>1</td>\n",
       "      <td>female</td>\n",
       "      <td>35.0</td>\n",
       "      <td>1</td>\n",
       "      <td>0</td>\n",
       "      <td>53.1000</td>\n",
       "      <td>S</td>\n",
       "      <td>First</td>\n",
       "      <td>C</td>\n",
       "      <td>Southampton</td>\n",
       "      <td>0</td>\n",
       "    </tr>\n",
       "    <tr>\n",
       "      <th>4</th>\n",
       "      <td>4</td>\n",
       "      <td>0</td>\n",
       "      <td>3</td>\n",
       "      <td>male</td>\n",
       "      <td>35.0</td>\n",
       "      <td>0</td>\n",
       "      <td>0</td>\n",
       "      <td>8.0500</td>\n",
       "      <td>S</td>\n",
       "      <td>Third</td>\n",
       "      <td>None</td>\n",
       "      <td>Southampton</td>\n",
       "      <td>1</td>\n",
       "    </tr>\n",
       "  </tbody>\n",
       "</table>\n",
       "</div>"
      ],
      "text/plain": [
       "   passenger_id  survived  pclass     sex   age  sibsp  parch     fare  \\\n",
       "0             0         0       3    male  22.0      1      0   7.2500   \n",
       "1             1         1       1  female  38.0      1      0  71.2833   \n",
       "2             2         1       3  female  26.0      0      0   7.9250   \n",
       "3             3         1       1  female  35.0      1      0  53.1000   \n",
       "4             4         0       3    male  35.0      0      0   8.0500   \n",
       "\n",
       "  embarked  class  deck  embark_town  alone  \n",
       "0        S  Third  None  Southampton      0  \n",
       "1        C  First     C    Cherbourg      0  \n",
       "2        S  Third  None  Southampton      1  \n",
       "3        S  First     C  Southampton      0  \n",
       "4        S  Third  None  Southampton      1  "
      ]
     },
     "execution_count": 29,
     "metadata": {},
     "output_type": "execute_result"
    }
   ],
   "source": [
    "# Call the data\n",
    "titanic = acquire.get_titanic_data()\n",
    "titanic.head()"
   ]
  },
  {
   "cell_type": "code",
   "execution_count": 21,
   "id": "e8f720bc",
   "metadata": {},
   "outputs": [
    {
     "data": {
      "text/html": [
       "<div>\n",
       "<style scoped>\n",
       "    .dataframe tbody tr th:only-of-type {\n",
       "        vertical-align: middle;\n",
       "    }\n",
       "\n",
       "    .dataframe tbody tr th {\n",
       "        vertical-align: top;\n",
       "    }\n",
       "\n",
       "    .dataframe thead th {\n",
       "        text-align: right;\n",
       "    }\n",
       "</style>\n",
       "<table border=\"1\" class=\"dataframe\">\n",
       "  <thead>\n",
       "    <tr style=\"text-align: right;\">\n",
       "      <th></th>\n",
       "      <th>passenger_id</th>\n",
       "      <th>survived</th>\n",
       "      <th>pclass</th>\n",
       "      <th>age</th>\n",
       "      <th>sibsp</th>\n",
       "      <th>parch</th>\n",
       "      <th>fare</th>\n",
       "      <th>alone</th>\n",
       "    </tr>\n",
       "  </thead>\n",
       "  <tbody>\n",
       "    <tr>\n",
       "      <th>count</th>\n",
       "      <td>891.000000</td>\n",
       "      <td>891.000000</td>\n",
       "      <td>891.000000</td>\n",
       "      <td>714.000000</td>\n",
       "      <td>891.000000</td>\n",
       "      <td>891.000000</td>\n",
       "      <td>891.000000</td>\n",
       "      <td>891.000000</td>\n",
       "    </tr>\n",
       "    <tr>\n",
       "      <th>mean</th>\n",
       "      <td>445.000000</td>\n",
       "      <td>0.383838</td>\n",
       "      <td>2.308642</td>\n",
       "      <td>29.699118</td>\n",
       "      <td>0.523008</td>\n",
       "      <td>0.381594</td>\n",
       "      <td>32.204208</td>\n",
       "      <td>0.602694</td>\n",
       "    </tr>\n",
       "    <tr>\n",
       "      <th>std</th>\n",
       "      <td>257.353842</td>\n",
       "      <td>0.486592</td>\n",
       "      <td>0.836071</td>\n",
       "      <td>14.526497</td>\n",
       "      <td>1.102743</td>\n",
       "      <td>0.806057</td>\n",
       "      <td>49.693429</td>\n",
       "      <td>0.489615</td>\n",
       "    </tr>\n",
       "    <tr>\n",
       "      <th>min</th>\n",
       "      <td>0.000000</td>\n",
       "      <td>0.000000</td>\n",
       "      <td>1.000000</td>\n",
       "      <td>0.420000</td>\n",
       "      <td>0.000000</td>\n",
       "      <td>0.000000</td>\n",
       "      <td>0.000000</td>\n",
       "      <td>0.000000</td>\n",
       "    </tr>\n",
       "    <tr>\n",
       "      <th>25%</th>\n",
       "      <td>222.500000</td>\n",
       "      <td>0.000000</td>\n",
       "      <td>2.000000</td>\n",
       "      <td>20.125000</td>\n",
       "      <td>0.000000</td>\n",
       "      <td>0.000000</td>\n",
       "      <td>7.910400</td>\n",
       "      <td>0.000000</td>\n",
       "    </tr>\n",
       "    <tr>\n",
       "      <th>50%</th>\n",
       "      <td>445.000000</td>\n",
       "      <td>0.000000</td>\n",
       "      <td>3.000000</td>\n",
       "      <td>28.000000</td>\n",
       "      <td>0.000000</td>\n",
       "      <td>0.000000</td>\n",
       "      <td>14.454200</td>\n",
       "      <td>1.000000</td>\n",
       "    </tr>\n",
       "    <tr>\n",
       "      <th>75%</th>\n",
       "      <td>667.500000</td>\n",
       "      <td>1.000000</td>\n",
       "      <td>3.000000</td>\n",
       "      <td>38.000000</td>\n",
       "      <td>1.000000</td>\n",
       "      <td>0.000000</td>\n",
       "      <td>31.000000</td>\n",
       "      <td>1.000000</td>\n",
       "    </tr>\n",
       "    <tr>\n",
       "      <th>max</th>\n",
       "      <td>890.000000</td>\n",
       "      <td>1.000000</td>\n",
       "      <td>3.000000</td>\n",
       "      <td>80.000000</td>\n",
       "      <td>8.000000</td>\n",
       "      <td>6.000000</td>\n",
       "      <td>512.329200</td>\n",
       "      <td>1.000000</td>\n",
       "    </tr>\n",
       "  </tbody>\n",
       "</table>\n",
       "</div>"
      ],
      "text/plain": [
       "       passenger_id    survived      pclass         age       sibsp  \\\n",
       "count    891.000000  891.000000  891.000000  714.000000  891.000000   \n",
       "mean     445.000000    0.383838    2.308642   29.699118    0.523008   \n",
       "std      257.353842    0.486592    0.836071   14.526497    1.102743   \n",
       "min        0.000000    0.000000    1.000000    0.420000    0.000000   \n",
       "25%      222.500000    0.000000    2.000000   20.125000    0.000000   \n",
       "50%      445.000000    0.000000    3.000000   28.000000    0.000000   \n",
       "75%      667.500000    1.000000    3.000000   38.000000    1.000000   \n",
       "max      890.000000    1.000000    3.000000   80.000000    8.000000   \n",
       "\n",
       "            parch        fare       alone  \n",
       "count  891.000000  891.000000  891.000000  \n",
       "mean     0.381594   32.204208    0.602694  \n",
       "std      0.806057   49.693429    0.489615  \n",
       "min      0.000000    0.000000    0.000000  \n",
       "25%      0.000000    7.910400    0.000000  \n",
       "50%      0.000000   14.454200    1.000000  \n",
       "75%      0.000000   31.000000    1.000000  \n",
       "max      6.000000  512.329200    1.000000  "
      ]
     },
     "execution_count": 21,
     "metadata": {},
     "output_type": "execute_result"
    }
   ],
   "source": [
    "# Describe the data\n",
    "titanic.describe()"
   ]
  },
  {
   "cell_type": "markdown",
   "id": "404c48af",
   "metadata": {},
   "source": [
    "### 1). What is your baseline prediction? What is your baseline accuracy? remember: your baseline prediction for a classification problem is predicting the most prevelant class in the training dataset (the mode). When you make those predictions, what is your accuracy? This is your baseline accuracy."
   ]
  },
  {
   "cell_type": "code",
   "execution_count": 46,
   "id": "60e53dd1",
   "metadata": {},
   "outputs": [
    {
     "data": {
      "text/plain": [
       "0    549\n",
       "1    342\n",
       "Name: survived, dtype: int64"
      ]
     },
     "execution_count": 46,
     "metadata": {},
     "output_type": "execute_result"
    }
   ],
   "source": [
    "# Baseline on polulation data\n",
    "\n",
    "titanic.survived.value_counts()"
   ]
  },
  {
   "cell_type": "code",
   "execution_count": 47,
   "id": "5121b471",
   "metadata": {},
   "outputs": [],
   "source": [
    "# Prepare titanic dataset\n",
    "\n",
    "titanic = prepare.prep_titanic(titanic)"
   ]
  },
  {
   "cell_type": "code",
   "execution_count": 48,
   "id": "e2de4fb7",
   "metadata": {},
   "outputs": [],
   "source": [
    "# Split data \n",
    "def train_validate_test_split(titanic, target, seed=123):\n",
    "    '''\n",
    "    This function takes in a dataframe, the name of the target variable\n",
    "    (for stratification purposes), and an integer for a setting a seed\n",
    "    and splits the data into train, validate and test. \n",
    "    Test is 20% of the original dataset, validate is .30*.80= 24% of the \n",
    "    original dataset, and train is .70*.80= 56% of the original dataset. \n",
    "    The function returns, in this order, train, validate and test dataframes. \n",
    "    '''\n",
    "    train_validate, test = train_test_split(titanic, test_size=0.2, \n",
    "                                            random_state=seed, \n",
    "                                            stratify=titanic[target])\n",
    "    train, validate = train_test_split(train_validate, test_size=0.3, \n",
    "                                       random_state=seed,\n",
    "                                       stratify=train_validate[target])\n",
    "    return train, validate, test\n",
    "\n"
   ]
  },
  {
   "cell_type": "code",
   "execution_count": 49,
   "id": "477e9a68",
   "metadata": {
    "scrolled": true
   },
   "outputs": [
    {
     "data": {
      "text/plain": [
       "((498, 10), (214, 10), (179, 10))"
      ]
     },
     "execution_count": 49,
     "metadata": {},
     "output_type": "execute_result"
    }
   ],
   "source": [
    "train, validate, test = train_validate_test_split(titanic, target = 'survived')\n",
    "train.shape, validate.shape, test.shape"
   ]
  },
  {
   "cell_type": "code",
   "execution_count": 50,
   "id": "0829a4fa",
   "metadata": {},
   "outputs": [
    {
     "data": {
      "text/html": [
       "<div>\n",
       "<style scoped>\n",
       "    .dataframe tbody tr th:only-of-type {\n",
       "        vertical-align: middle;\n",
       "    }\n",
       "\n",
       "    .dataframe tbody tr th {\n",
       "        vertical-align: top;\n",
       "    }\n",
       "\n",
       "    .dataframe thead th {\n",
       "        text-align: right;\n",
       "    }\n",
       "</style>\n",
       "<table border=\"1\" class=\"dataframe\">\n",
       "  <thead>\n",
       "    <tr style=\"text-align: right;\">\n",
       "      <th></th>\n",
       "      <th>sex_male</th>\n",
       "      <th>embark_town_Queenstown</th>\n",
       "      <th>embark_town_Southampton</th>\n",
       "      <th>passenger_id</th>\n",
       "      <th>survived</th>\n",
       "      <th>pclass</th>\n",
       "      <th>sibsp</th>\n",
       "      <th>parch</th>\n",
       "      <th>fare</th>\n",
       "      <th>alone</th>\n",
       "    </tr>\n",
       "  </thead>\n",
       "  <tbody>\n",
       "    <tr>\n",
       "      <th>583</th>\n",
       "      <td>1</td>\n",
       "      <td>0</td>\n",
       "      <td>0</td>\n",
       "      <td>583</td>\n",
       "      <td>0</td>\n",
       "      <td>1</td>\n",
       "      <td>0</td>\n",
       "      <td>0</td>\n",
       "      <td>40.1250</td>\n",
       "      <td>1</td>\n",
       "    </tr>\n",
       "    <tr>\n",
       "      <th>165</th>\n",
       "      <td>1</td>\n",
       "      <td>0</td>\n",
       "      <td>1</td>\n",
       "      <td>165</td>\n",
       "      <td>1</td>\n",
       "      <td>3</td>\n",
       "      <td>0</td>\n",
       "      <td>2</td>\n",
       "      <td>20.5250</td>\n",
       "      <td>0</td>\n",
       "    </tr>\n",
       "    <tr>\n",
       "      <th>50</th>\n",
       "      <td>1</td>\n",
       "      <td>0</td>\n",
       "      <td>1</td>\n",
       "      <td>50</td>\n",
       "      <td>0</td>\n",
       "      <td>3</td>\n",
       "      <td>4</td>\n",
       "      <td>1</td>\n",
       "      <td>39.6875</td>\n",
       "      <td>0</td>\n",
       "    </tr>\n",
       "    <tr>\n",
       "      <th>259</th>\n",
       "      <td>0</td>\n",
       "      <td>0</td>\n",
       "      <td>1</td>\n",
       "      <td>259</td>\n",
       "      <td>1</td>\n",
       "      <td>2</td>\n",
       "      <td>0</td>\n",
       "      <td>1</td>\n",
       "      <td>26.0000</td>\n",
       "      <td>0</td>\n",
       "    </tr>\n",
       "    <tr>\n",
       "      <th>306</th>\n",
       "      <td>0</td>\n",
       "      <td>0</td>\n",
       "      <td>0</td>\n",
       "      <td>306</td>\n",
       "      <td>1</td>\n",
       "      <td>1</td>\n",
       "      <td>0</td>\n",
       "      <td>0</td>\n",
       "      <td>110.8833</td>\n",
       "      <td>1</td>\n",
       "    </tr>\n",
       "  </tbody>\n",
       "</table>\n",
       "</div>"
      ],
      "text/plain": [
       "     sex_male  embark_town_Queenstown  embark_town_Southampton  passenger_id  \\\n",
       "583         1                       0                        0           583   \n",
       "165         1                       0                        1           165   \n",
       "50          1                       0                        1            50   \n",
       "259         0                       0                        1           259   \n",
       "306         0                       0                        0           306   \n",
       "\n",
       "     survived  pclass  sibsp  parch      fare  alone  \n",
       "583         0       1      0      0   40.1250      1  \n",
       "165         1       3      0      2   20.5250      0  \n",
       "50          0       3      4      1   39.6875      0  \n",
       "259         1       2      0      1   26.0000      0  \n",
       "306         1       1      0      0  110.8833      1  "
      ]
     },
     "execution_count": 50,
     "metadata": {},
     "output_type": "execute_result"
    }
   ],
   "source": [
    "train.head()\n"
   ]
  },
  {
   "cell_type": "code",
   "execution_count": 51,
   "id": "ee18fca4",
   "metadata": {},
   "outputs": [
    {
     "data": {
      "text/html": [
       "<div>\n",
       "<style scoped>\n",
       "    .dataframe tbody tr th:only-of-type {\n",
       "        vertical-align: middle;\n",
       "    }\n",
       "\n",
       "    .dataframe tbody tr th {\n",
       "        vertical-align: top;\n",
       "    }\n",
       "\n",
       "    .dataframe thead th {\n",
       "        text-align: right;\n",
       "    }\n",
       "</style>\n",
       "<table border=\"1\" class=\"dataframe\">\n",
       "  <thead>\n",
       "    <tr style=\"text-align: right;\">\n",
       "      <th></th>\n",
       "      <th>sex_male</th>\n",
       "      <th>survived</th>\n",
       "      <th>pclass</th>\n",
       "      <th>parch</th>\n",
       "      <th>fare</th>\n",
       "      <th>alone</th>\n",
       "    </tr>\n",
       "  </thead>\n",
       "  <tbody>\n",
       "    <tr>\n",
       "      <th>583</th>\n",
       "      <td>1</td>\n",
       "      <td>0</td>\n",
       "      <td>1</td>\n",
       "      <td>0</td>\n",
       "      <td>40.1250</td>\n",
       "      <td>1</td>\n",
       "    </tr>\n",
       "    <tr>\n",
       "      <th>165</th>\n",
       "      <td>1</td>\n",
       "      <td>1</td>\n",
       "      <td>3</td>\n",
       "      <td>2</td>\n",
       "      <td>20.5250</td>\n",
       "      <td>0</td>\n",
       "    </tr>\n",
       "    <tr>\n",
       "      <th>50</th>\n",
       "      <td>1</td>\n",
       "      <td>0</td>\n",
       "      <td>3</td>\n",
       "      <td>1</td>\n",
       "      <td>39.6875</td>\n",
       "      <td>0</td>\n",
       "    </tr>\n",
       "    <tr>\n",
       "      <th>259</th>\n",
       "      <td>0</td>\n",
       "      <td>1</td>\n",
       "      <td>2</td>\n",
       "      <td>1</td>\n",
       "      <td>26.0000</td>\n",
       "      <td>0</td>\n",
       "    </tr>\n",
       "    <tr>\n",
       "      <th>306</th>\n",
       "      <td>0</td>\n",
       "      <td>1</td>\n",
       "      <td>1</td>\n",
       "      <td>0</td>\n",
       "      <td>110.8833</td>\n",
       "      <td>1</td>\n",
       "    </tr>\n",
       "  </tbody>\n",
       "</table>\n",
       "</div>"
      ],
      "text/plain": [
       "     sex_male  survived  pclass  parch      fare  alone\n",
       "583         1         0       1      0   40.1250      1\n",
       "165         1         1       3      2   20.5250      0\n",
       "50          1         0       3      1   39.6875      0\n",
       "259         0         1       2      1   26.0000      0\n",
       "306         0         1       1      0  110.8833      1"
      ]
     },
     "execution_count": 51,
     "metadata": {},
     "output_type": "execute_result"
    }
   ],
   "source": [
    "# Drop unnecesary columns \n",
    "\n",
    "col_to_drops = ['passenger_id', 'sibsp', 'class', 'embarked', \n",
    "                'sex','embark_town','se_male', 'embark_town_Queenstown',\n",
    "               'embark_town_Southampton'\n",
    "               ]\n",
    "\n",
    "[titanic_data.drop(columns = col_to_drops, inplace = True, errors = 'ignore') for titanic_data in [train, validate, test]]\n",
    "\n",
    "train.head()"
   ]
  },
  {
   "cell_type": "code",
   "execution_count": 52,
   "id": "fccbd332",
   "metadata": {},
   "outputs": [
    {
     "data": {
      "text/plain": [
       "(498, 6)"
      ]
     },
     "execution_count": 52,
     "metadata": {},
     "output_type": "execute_result"
    }
   ],
   "source": [
    "train.shape"
   ]
  },
  {
   "cell_type": "code",
   "execution_count": 53,
   "id": "59199c38",
   "metadata": {},
   "outputs": [],
   "source": [
    "\n",
    "def clean_dataset(model):\n",
    "    assert isinstance(model, pd.DataFrame), \"df needs to be a pd.DataFrame\"\n",
    "    model.dropna(inplace=True)\n",
    "    model = model.drop_duplicates()\n",
    "#     model = pd.DataFrame(model)\n",
    "    indices_to_keep = ~model.isin([np.nan, np.inf, -np.inf]).any(1)\n",
    "    return model[indices_to_keep].astype(np.float64)\n"
   ]
  },
  {
   "cell_type": "code",
   "execution_count": 54,
   "id": "261c1852",
   "metadata": {},
   "outputs": [
    {
     "data": {
      "text/plain": [
       "pandas.core.frame.DataFrame"
      ]
     },
     "execution_count": 54,
     "metadata": {},
     "output_type": "execute_result"
    }
   ],
   "source": [
    "type(train)"
   ]
  },
  {
   "cell_type": "code",
   "execution_count": 55,
   "id": "815041f0",
   "metadata": {},
   "outputs": [],
   "source": [
    "# split into train, validate, test\n",
    "# train, validate, test = train_validate_test_split(titanic, target='survived', seed=123)\n",
    "\n",
    "# create X & y version of train, where y is a series with just the target variable and X are all the features. \n",
    "\n",
    "X_train = train.drop(columns=['survived'])\n",
    "y_train = train[['survived']]\n",
    "\n",
    "X_validate = validate.drop(columns=['survived'])\n",
    "y_validate = validate[['survived']]\n",
    "\n",
    "X_test = test.drop(columns=['survived'])\n",
    "y_test = test[['survived']]\n"
   ]
  },
  {
   "cell_type": "markdown",
   "id": "999c2253",
   "metadata": {},
   "source": [
    "> ### Base line train set (survived)\n",
    ">"
   ]
  },
  {
   "cell_type": "code",
   "execution_count": 56,
   "id": "0122a2f6",
   "metadata": {},
   "outputs": [
    {
     "data": {
      "text/plain": [
       "0    307\n",
       "1    191\n",
       "Name: survived, dtype: int64"
      ]
     },
     "execution_count": 56,
     "metadata": {},
     "output_type": "execute_result"
    }
   ],
   "source": [
    "train.survived.value_counts()"
   ]
  },
  {
   "cell_type": "code",
   "execution_count": 57,
   "id": "472165c4",
   "metadata": {},
   "outputs": [],
   "source": [
    "# Actual baseline (did not survive = 0)\n",
    "\n",
    "train['baseline'] = 0\n",
    "\n",
    "\n",
    "# train['baseline'] = train.survived.value_counts().idxmax()\n",
    "# train.head()\n",
    "\n"
   ]
  },
  {
   "cell_type": "markdown",
   "id": "f63aecd0",
   "metadata": {},
   "source": [
    "> ### Baseline Accuracy\n",
    ">\n",
    "\n",
    "+ve == did not survive (0)"
   ]
  },
  {
   "cell_type": "code",
   "execution_count": 58,
   "id": "eff66dba",
   "metadata": {},
   "outputs": [
    {
     "name": "stdout",
     "output_type": "stream",
     "text": [
      "\n",
      "\tThe training baseline accuracy: 0.6164658634538153\n",
      "\n"
     ]
    }
   ],
   "source": [
    "baseline_accuracy = (train.survived == train.baseline).mean()\n",
    "\n",
    "print(f'\\n\\tThe training baseline accuracy: {baseline_accuracy}\\n')"
   ]
  },
  {
   "cell_type": "markdown",
   "id": "1a8d9336",
   "metadata": {},
   "source": [
    "### 2). Fit the decision tree classifier to your training sample and transform (i.e. make predictions on the training sample)\n"
   ]
  },
  {
   "cell_type": "code",
   "execution_count": 59,
   "id": "b866fc57",
   "metadata": {},
   "outputs": [],
   "source": [
    "# Create model\n",
    "\n",
    "clf = DecisionTreeClassifier()"
   ]
  },
  {
   "cell_type": "code",
   "execution_count": 60,
   "id": "5b3b8106",
   "metadata": {},
   "outputs": [
    {
     "data": {
      "text/plain": [
       "DecisionTreeClassifier()"
      ]
     },
     "execution_count": 60,
     "metadata": {},
     "output_type": "execute_result"
    }
   ],
   "source": [
    "# Fit model\n",
    "\n",
    "clf.fit(X_train, y_train)"
   ]
  },
  {
   "cell_type": "code",
   "execution_count": 61,
   "id": "63adecb2",
   "metadata": {},
   "outputs": [
    {
     "ename": "ValueError",
     "evalue": "The truth value of an array with more than one element is ambiguous. Use a.any() or a.all()",
     "output_type": "error",
     "traceback": [
      "\u001b[0;31m---------------------------------------------------------------------------\u001b[0m",
      "\u001b[0;31mValueError\u001b[0m                                Traceback (most recent call last)",
      "\u001b[0;32m/var/folders/b2/3fdswr7x4v5fhdt54wpcfmdw0000gn/T/ipykernel_31981/40310847.py\u001b[0m in \u001b[0;36m<module>\u001b[0;34m\u001b[0m\n\u001b[1;32m      8\u001b[0m \u001b[0my_pred\u001b[0m \u001b[0;34m=\u001b[0m \u001b[0mclf\u001b[0m\u001b[0;34m.\u001b[0m\u001b[0mpredict\u001b[0m\u001b[0;34m(\u001b[0m\u001b[0mX\u001b[0m\u001b[0;34m)\u001b[0m\u001b[0;34m\u001b[0m\u001b[0;34m\u001b[0m\u001b[0m\n\u001b[1;32m      9\u001b[0m \u001b[0;34m\u001b[0m\u001b[0m\n\u001b[0;32m---> 10\u001b[0;31m \u001b[0my_prediction\u001b[0m \u001b[0;34m=\u001b[0m \u001b[0mclf\u001b[0m\u001b[0;34m.\u001b[0m\u001b[0mpredict\u001b[0m\u001b[0;34m(\u001b[0m\u001b[0my\u001b[0m\u001b[0;34m,\u001b[0m \u001b[0my_pred\u001b[0m\u001b[0;34m)\u001b[0m\u001b[0;34m\u001b[0m\u001b[0;34m\u001b[0m\u001b[0m\n\u001b[0m\u001b[1;32m     11\u001b[0m \u001b[0;34m\u001b[0m\u001b[0m\n\u001b[1;32m     12\u001b[0m \u001b[0;31m# Classification Report (sklearn.metrics)\u001b[0m\u001b[0;34m\u001b[0m\u001b[0;34m\u001b[0m\u001b[0m\n",
      "\u001b[0;32m/usr/local/anaconda3/lib/python3.9/site-packages/sklearn/tree/_classes.py\u001b[0m in \u001b[0;36mpredict\u001b[0;34m(self, X, check_input)\u001b[0m\n\u001b[1;32m    465\u001b[0m         \"\"\"\n\u001b[1;32m    466\u001b[0m         \u001b[0mcheck_is_fitted\u001b[0m\u001b[0;34m(\u001b[0m\u001b[0mself\u001b[0m\u001b[0;34m)\u001b[0m\u001b[0;34m\u001b[0m\u001b[0;34m\u001b[0m\u001b[0m\n\u001b[0;32m--> 467\u001b[0;31m         \u001b[0mX\u001b[0m \u001b[0;34m=\u001b[0m \u001b[0mself\u001b[0m\u001b[0;34m.\u001b[0m\u001b[0m_validate_X_predict\u001b[0m\u001b[0;34m(\u001b[0m\u001b[0mX\u001b[0m\u001b[0;34m,\u001b[0m \u001b[0mcheck_input\u001b[0m\u001b[0;34m)\u001b[0m\u001b[0;34m\u001b[0m\u001b[0;34m\u001b[0m\u001b[0m\n\u001b[0m\u001b[1;32m    468\u001b[0m         \u001b[0mproba\u001b[0m \u001b[0;34m=\u001b[0m \u001b[0mself\u001b[0m\u001b[0;34m.\u001b[0m\u001b[0mtree_\u001b[0m\u001b[0;34m.\u001b[0m\u001b[0mpredict\u001b[0m\u001b[0;34m(\u001b[0m\u001b[0mX\u001b[0m\u001b[0;34m)\u001b[0m\u001b[0;34m\u001b[0m\u001b[0;34m\u001b[0m\u001b[0m\n\u001b[1;32m    469\u001b[0m         \u001b[0mn_samples\u001b[0m \u001b[0;34m=\u001b[0m \u001b[0mX\u001b[0m\u001b[0;34m.\u001b[0m\u001b[0mshape\u001b[0m\u001b[0;34m[\u001b[0m\u001b[0;36m0\u001b[0m\u001b[0;34m]\u001b[0m\u001b[0;34m\u001b[0m\u001b[0;34m\u001b[0m\u001b[0m\n",
      "\u001b[0;32m/usr/local/anaconda3/lib/python3.9/site-packages/sklearn/tree/_classes.py\u001b[0m in \u001b[0;36m_validate_X_predict\u001b[0;34m(self, X, check_input)\u001b[0m\n\u001b[1;32m    430\u001b[0m     \u001b[0;32mdef\u001b[0m \u001b[0m_validate_X_predict\u001b[0m\u001b[0;34m(\u001b[0m\u001b[0mself\u001b[0m\u001b[0;34m,\u001b[0m \u001b[0mX\u001b[0m\u001b[0;34m,\u001b[0m \u001b[0mcheck_input\u001b[0m\u001b[0;34m)\u001b[0m\u001b[0;34m:\u001b[0m\u001b[0;34m\u001b[0m\u001b[0;34m\u001b[0m\u001b[0m\n\u001b[1;32m    431\u001b[0m         \u001b[0;34m\"\"\"Validate the training data on predict (probabilities).\"\"\"\u001b[0m\u001b[0;34m\u001b[0m\u001b[0;34m\u001b[0m\u001b[0m\n\u001b[0;32m--> 432\u001b[0;31m         \u001b[0;32mif\u001b[0m \u001b[0mcheck_input\u001b[0m\u001b[0;34m:\u001b[0m\u001b[0;34m\u001b[0m\u001b[0;34m\u001b[0m\u001b[0m\n\u001b[0m\u001b[1;32m    433\u001b[0m             \u001b[0mX\u001b[0m \u001b[0;34m=\u001b[0m \u001b[0mself\u001b[0m\u001b[0;34m.\u001b[0m\u001b[0m_validate_data\u001b[0m\u001b[0;34m(\u001b[0m\u001b[0mX\u001b[0m\u001b[0;34m,\u001b[0m \u001b[0mdtype\u001b[0m\u001b[0;34m=\u001b[0m\u001b[0mDTYPE\u001b[0m\u001b[0;34m,\u001b[0m \u001b[0maccept_sparse\u001b[0m\u001b[0;34m=\u001b[0m\u001b[0;34m\"csr\"\u001b[0m\u001b[0;34m,\u001b[0m \u001b[0mreset\u001b[0m\u001b[0;34m=\u001b[0m\u001b[0;32mFalse\u001b[0m\u001b[0;34m)\u001b[0m\u001b[0;34m\u001b[0m\u001b[0;34m\u001b[0m\u001b[0m\n\u001b[1;32m    434\u001b[0m             if issparse(X) and (\n",
      "\u001b[0;31mValueError\u001b[0m: The truth value of an array with more than one element is ambiguous. Use a.any() or a.all()"
     ]
    }
   ],
   "source": [
    "X = X_train\n",
    "y = y_train\n",
    "\n",
    "# Model I Accuracy \n",
    "accuracy = clf.score(X, y)\n",
    "\n",
    "# Model Predictions\n",
    "y_pred = clf.predict(X)\n",
    "\n",
    "y_prediction = clf.predict(y, y_pred)\n",
    "\n",
    "# Classification Report (sklearn.metrics)\n",
    "class_report = pd.DataFrame(classification_report(y, y_pred, output_dict = True)).T\n",
    "\n",
    "# Using Confusion matrix to compute data\n",
    "conf = confusion_matrix(y, y_pred)\n",
    "tpr = conf[1][1] / conf[1].sum()\n",
    "fpr = conf[0][1] / conf[0].sum()\n",
    "tnr = conf[0][0] / conf[0].sum()\n",
    "fnr = conf[1][0] / conf[1].sum()\n",
    "\n",
    "print()\n",
    "print(f'''  Accuracy: {accuracy:.4%}\n",
    "\n",
    "            True +ve: {tpr:.3%}\n",
    "            \n",
    "            False +ve: {fpr:.3%}\n",
    "            \n",
    "            True -ve: {tnr:.3%}\n",
    "            \n",
    "            False -ve: {fnr:.3%}\n",
    "            \n",
    "        '''\n",
    "     )\n",
    "\n",
    "class_report"
   ]
  },
  {
   "cell_type": "markdown",
   "id": "e48d8e16",
   "metadata": {},
   "source": [
    "### 3). Evaluate your in-sample results using the model score, confusion matrix, and classification report.\n"
   ]
  },
  {
   "cell_type": "code",
   "execution_count": 62,
   "id": "b60f783b",
   "metadata": {},
   "outputs": [
    {
     "data": {
      "text/plain": [
       "array([0, 1, 0, 1, 1, 0, 0, 0, 0, 0, 0, 0, 1, 0, 0, 0, 0, 1, 0, 0, 1, 0,\n",
       "       1, 1, 0, 0, 1, 0, 0, 0, 0, 0, 0, 1, 1, 0, 0, 1, 0, 1, 0, 0, 0, 1,\n",
       "       0, 0, 0, 0, 1, 0, 0, 0, 1, 1, 0, 1, 0, 1, 0, 0, 0, 0, 0, 0, 0, 0,\n",
       "       0, 0, 1, 1, 0, 0, 1, 1, 0, 0, 0, 0, 0, 1, 0, 1, 0, 0, 0, 0, 1, 1,\n",
       "       1, 0, 0, 0, 1, 1, 0, 0, 1, 0, 0, 1, 0, 0, 1, 0, 0, 1, 0, 1, 0, 0,\n",
       "       1, 1, 0, 0, 0, 1, 0, 0, 1, 1, 0, 0, 0, 0, 1, 1, 1, 0, 1, 0, 1, 0,\n",
       "       0, 1, 0, 0, 0, 0, 0, 0, 1, 0, 0, 0, 1, 0, 1, 1, 1, 1, 0, 1, 1, 0,\n",
       "       0, 1, 0, 0, 1, 0, 0, 1, 0, 1, 0, 0, 0, 0, 0, 0, 0, 1, 1, 0, 1, 0,\n",
       "       1, 0, 0, 0, 0, 0, 0, 1, 0, 1, 0, 1, 0, 1, 0, 1, 0, 0, 1, 1, 0, 1,\n",
       "       0, 0, 0, 1, 1, 0, 0, 0, 0, 0, 0, 1, 0, 0, 0, 1, 1, 1, 0, 0, 1, 0,\n",
       "       0, 0, 0, 1, 0, 0, 0, 0, 0, 1, 0, 0, 0, 0, 0, 1, 1, 0, 0, 0, 0, 0,\n",
       "       1, 0, 1, 0, 1, 0, 1, 1, 0, 0, 0, 1, 0, 1, 0, 1, 1, 1, 0, 0, 1, 1,\n",
       "       0, 0, 0, 0, 0, 0, 0, 0, 0, 1, 0, 0, 0, 0, 0, 0, 0, 1, 1, 1, 0, 0,\n",
       "       1, 1, 0, 0, 0, 0, 0, 0, 0, 1, 0, 0, 0, 0, 0, 0, 0, 1, 0, 0, 1, 0,\n",
       "       0, 0, 0, 0, 0, 1, 0, 0, 0, 1, 0, 0, 0, 0, 1, 0, 0, 1, 1, 0, 0, 1,\n",
       "       0, 1, 1, 1, 1, 1, 0, 1, 0, 0, 0, 1, 1, 1, 0, 1, 0, 0, 0, 0, 1, 0,\n",
       "       0, 1, 1, 1, 1, 0, 0, 1, 0, 1, 1, 0, 0, 0, 0, 0, 0, 0, 0, 0, 1, 0,\n",
       "       1, 0, 1, 0, 1, 1, 1, 1, 1, 0, 0, 1, 0, 0, 0, 0, 0, 0, 0, 1, 1, 0,\n",
       "       1, 0, 0, 0, 0, 1, 0, 0, 0, 0, 0, 0, 0, 0, 0, 0, 0, 0, 1, 1, 1, 0,\n",
       "       1, 0, 1, 0, 0, 1, 0, 1, 0, 1, 0, 0, 0, 0, 0, 0, 1, 0, 0, 0, 1, 0,\n",
       "       0, 1, 0, 0, 0, 1, 0, 0, 1, 0, 1, 1, 0, 0, 1, 0, 0, 0, 0, 0, 0, 0,\n",
       "       1, 0, 0, 1, 1, 0, 1, 0, 1, 0, 0, 0, 0, 0, 1, 0, 0, 0, 1, 1, 1, 1,\n",
       "       0, 1, 0, 1, 0, 0, 1, 0, 1, 0, 0, 0, 0, 0])"
      ]
     },
     "execution_count": 62,
     "metadata": {},
     "output_type": "execute_result"
    }
   ],
   "source": [
    "# Model prediction \n",
    "y_pred = clf.predict(X_train)\n",
    "y_pred"
   ]
  },
  {
   "cell_type": "code",
   "execution_count": 63,
   "id": "07eecd85",
   "metadata": {},
   "outputs": [
    {
     "data": {
      "text/plain": [
       "0.9397590361445783"
      ]
     },
     "execution_count": 63,
     "metadata": {},
     "output_type": "execute_result"
    }
   ],
   "source": [
    "# Model I Accuracy\n",
    "accuracy = clf.score(X_train, y_train)\n",
    "accuracy"
   ]
  },
  {
   "cell_type": "code",
   "execution_count": 64,
   "id": "07236f5a",
   "metadata": {},
   "outputs": [
    {
     "data": {
      "text/plain": [
       "array([[303,   4],\n",
       "       [ 26, 165]])"
      ]
     },
     "execution_count": 64,
     "metadata": {},
     "output_type": "execute_result"
    }
   ],
   "source": [
    "# Confusion matrix\n",
    "\n",
    "conf = confusion_matrix(y_train, y_pred)\n",
    "\n",
    "conf"
   ]
  },
  {
   "cell_type": "code",
   "execution_count": 65,
   "id": "9386d860",
   "metadata": {},
   "outputs": [
    {
     "data": {
      "text/plain": [
       "{'0': {'precision': 0.9209726443768997,\n",
       "  'recall': 0.9869706840390879,\n",
       "  'f1-score': 0.9528301886792453,\n",
       "  'support': 307},\n",
       " '1': {'precision': 0.9763313609467456,\n",
       "  'recall': 0.8638743455497382,\n",
       "  'f1-score': 0.9166666666666667,\n",
       "  'support': 191},\n",
       " 'accuracy': 0.9397590361445783,\n",
       " 'macro avg': {'precision': 0.9486520026618226,\n",
       "  'recall': 0.9254225147944131,\n",
       "  'f1-score': 0.9347484276729561,\n",
       "  'support': 498},\n",
       " 'weighted avg': {'precision': 0.9422046019368205,\n",
       "  'recall': 0.9397590361445783,\n",
       "  'f1-score': 0.9389602434896821,\n",
       "  'support': 498}}"
      ]
     },
     "execution_count": 65,
     "metadata": {},
     "output_type": "execute_result"
    }
   ],
   "source": [
    "class_report = classification_report(y_train, y_pred, output_dict = True)\n",
    "class_report"
   ]
  },
  {
   "cell_type": "code",
   "execution_count": 66,
   "id": "60814846",
   "metadata": {},
   "outputs": [
    {
     "data": {
      "text/html": [
       "<div>\n",
       "<style scoped>\n",
       "    .dataframe tbody tr th:only-of-type {\n",
       "        vertical-align: middle;\n",
       "    }\n",
       "\n",
       "    .dataframe tbody tr th {\n",
       "        vertical-align: top;\n",
       "    }\n",
       "\n",
       "    .dataframe thead th {\n",
       "        text-align: right;\n",
       "    }\n",
       "</style>\n",
       "<table border=\"1\" class=\"dataframe\">\n",
       "  <thead>\n",
       "    <tr style=\"text-align: right;\">\n",
       "      <th></th>\n",
       "      <th>precision</th>\n",
       "      <th>recall</th>\n",
       "      <th>f1-score</th>\n",
       "      <th>support</th>\n",
       "    </tr>\n",
       "  </thead>\n",
       "  <tbody>\n",
       "    <tr>\n",
       "      <th>deceased</th>\n",
       "      <td>0.920973</td>\n",
       "      <td>0.986971</td>\n",
       "      <td>0.952830</td>\n",
       "      <td>307.000000</td>\n",
       "    </tr>\n",
       "    <tr>\n",
       "      <th>survived</th>\n",
       "      <td>0.976331</td>\n",
       "      <td>0.863874</td>\n",
       "      <td>0.916667</td>\n",
       "      <td>191.000000</td>\n",
       "    </tr>\n",
       "    <tr>\n",
       "      <th>accuracy</th>\n",
       "      <td>0.939759</td>\n",
       "      <td>0.939759</td>\n",
       "      <td>0.939759</td>\n",
       "      <td>0.939759</td>\n",
       "    </tr>\n",
       "    <tr>\n",
       "      <th>macro avg</th>\n",
       "      <td>0.948652</td>\n",
       "      <td>0.925423</td>\n",
       "      <td>0.934748</td>\n",
       "      <td>498.000000</td>\n",
       "    </tr>\n",
       "    <tr>\n",
       "      <th>weighted avg</th>\n",
       "      <td>0.942205</td>\n",
       "      <td>0.939759</td>\n",
       "      <td>0.938960</td>\n",
       "      <td>498.000000</td>\n",
       "    </tr>\n",
       "  </tbody>\n",
       "</table>\n",
       "</div>"
      ],
      "text/plain": [
       "              precision    recall  f1-score     support\n",
       "deceased       0.920973  0.986971  0.952830  307.000000\n",
       "survived       0.976331  0.863874  0.916667  191.000000\n",
       "accuracy       0.939759  0.939759  0.939759    0.939759\n",
       "macro avg      0.948652  0.925423  0.934748  498.000000\n",
       "weighted avg   0.942205  0.939759  0.938960  498.000000"
      ]
     },
     "execution_count": 66,
     "metadata": {},
     "output_type": "execute_result"
    }
   ],
   "source": [
    "pd.DataFrame(class_report).rename(columns={'0': 'deceased', '1': 'survived'}).T\n"
   ]
  },
  {
   "cell_type": "code",
   "execution_count": 67,
   "id": "fd02b509",
   "metadata": {
    "scrolled": false
   },
   "outputs": [
    {
     "data": {
      "text/plain": [
       "[Text(0.47716346153846156, 0.9705882352941176, 'sex_male <= 0.5\\ngini = 0.473\\nsamples = 498\\nvalue = [307, 191]'),\n",
       " Text(0.21523668639053253, 0.9117647058823529, 'pclass <= 2.5\\ngini = 0.365\\nsamples = 175\\nvalue = [42, 133]'),\n",
       " Text(0.10650887573964497, 0.8529411764705882, 'fare <= 28.856\\ngini = 0.081\\nsamples = 94\\nvalue = [4, 90]'),\n",
       " Text(0.08284023668639054, 0.7941176470588235, 'fare <= 28.231\\ngini = 0.133\\nsamples = 42\\nvalue = [3, 39]'),\n",
       " Text(0.07100591715976332, 0.7352941176470589, 'parch <= 0.5\\ngini = 0.093\\nsamples = 41\\nvalue = [2, 39]'),\n",
       " Text(0.05917159763313609, 0.6764705882352942, 'alone <= 0.5\\ngini = 0.142\\nsamples = 26\\nvalue = [2, 24]'),\n",
       " Text(0.03550295857988166, 0.6176470588235294, 'fare <= 22.5\\ngini = 0.32\\nsamples = 5\\nvalue = [1, 4]'),\n",
       " Text(0.023668639053254437, 0.5588235294117647, 'fare <= 17.429\\ngini = 0.5\\nsamples = 2\\nvalue = [1, 1]'),\n",
       " Text(0.011834319526627219, 0.5, 'gini = 0.0\\nsamples = 1\\nvalue = [0, 1]'),\n",
       " Text(0.03550295857988166, 0.5, 'gini = 0.0\\nsamples = 1\\nvalue = [1, 0]'),\n",
       " Text(0.047337278106508875, 0.5588235294117647, 'gini = 0.0\\nsamples = 3\\nvalue = [0, 3]'),\n",
       " Text(0.08284023668639054, 0.6176470588235294, 'fare <= 12.825\\ngini = 0.091\\nsamples = 21\\nvalue = [1, 20]'),\n",
       " Text(0.07100591715976332, 0.5588235294117647, 'gini = 0.0\\nsamples = 7\\nvalue = [0, 7]'),\n",
       " Text(0.09467455621301775, 0.5588235294117647, 'fare <= 13.25\\ngini = 0.133\\nsamples = 14\\nvalue = [1, 13]'),\n",
       " Text(0.08284023668639054, 0.5, 'gini = 0.245\\nsamples = 7\\nvalue = [1, 6]'),\n",
       " Text(0.10650887573964497, 0.5, 'gini = 0.0\\nsamples = 7\\nvalue = [0, 7]'),\n",
       " Text(0.08284023668639054, 0.6764705882352942, 'gini = 0.0\\nsamples = 15\\nvalue = [0, 15]'),\n",
       " Text(0.09467455621301775, 0.7352941176470589, 'gini = 0.0\\nsamples = 1\\nvalue = [1, 0]'),\n",
       " Text(0.1301775147928994, 0.7941176470588235, 'parch <= 1.5\\ngini = 0.038\\nsamples = 52\\nvalue = [1, 51]'),\n",
       " Text(0.11834319526627218, 0.7352941176470589, 'gini = 0.0\\nsamples = 48\\nvalue = [0, 48]'),\n",
       " Text(0.14201183431952663, 0.7352941176470589, 'fare <= 206.963\\ngini = 0.375\\nsamples = 4\\nvalue = [1, 3]'),\n",
       " Text(0.1301775147928994, 0.6764705882352942, 'fare <= 100.525\\ngini = 0.5\\nsamples = 2\\nvalue = [1, 1]'),\n",
       " Text(0.11834319526627218, 0.6176470588235294, 'gini = 0.0\\nsamples = 1\\nvalue = [0, 1]'),\n",
       " Text(0.14201183431952663, 0.6176470588235294, 'gini = 0.0\\nsamples = 1\\nvalue = [1, 0]'),\n",
       " Text(0.15384615384615385, 0.6764705882352942, 'gini = 0.0\\nsamples = 2\\nvalue = [0, 2]'),\n",
       " Text(0.3239644970414201, 0.8529411764705882, 'fare <= 23.912\\ngini = 0.498\\nsamples = 81\\nvalue = [38, 43]'),\n",
       " Text(0.257396449704142, 0.7941176470588235, 'fare <= 7.888\\ngini = 0.476\\nsamples = 69\\nvalue = [27, 42]'),\n",
       " Text(0.1893491124260355, 0.7352941176470589, 'fare <= 6.99\\ngini = 0.384\\nsamples = 27\\nvalue = [7, 20]'),\n",
       " Text(0.17751479289940827, 0.6764705882352942, 'gini = 0.0\\nsamples = 1\\nvalue = [1, 0]'),\n",
       " Text(0.20118343195266272, 0.6764705882352942, 'fare <= 7.781\\ngini = 0.355\\nsamples = 26\\nvalue = [6, 20]'),\n",
       " Text(0.1893491124260355, 0.6176470588235294, 'fare <= 7.763\\ngini = 0.408\\nsamples = 21\\nvalue = [6, 15]'),\n",
       " Text(0.17751479289940827, 0.5588235294117647, 'fare <= 7.523\\ngini = 0.332\\nsamples = 19\\nvalue = [4, 15]'),\n",
       " Text(0.16568047337278108, 0.5, 'gini = 0.0\\nsamples = 4\\nvalue = [0, 4]'),\n",
       " Text(0.1893491124260355, 0.5, 'fare <= 7.64\\ngini = 0.391\\nsamples = 15\\nvalue = [4, 11]'),\n",
       " Text(0.16568047337278108, 0.4411764705882353, 'fare <= 7.59\\ngini = 0.444\\nsamples = 3\\nvalue = [2, 1]'),\n",
       " Text(0.15384615384615385, 0.38235294117647056, 'gini = 0.5\\nsamples = 2\\nvalue = [1, 1]'),\n",
       " Text(0.17751479289940827, 0.38235294117647056, 'gini = 0.0\\nsamples = 1\\nvalue = [1, 0]'),\n",
       " Text(0.21301775147928995, 0.4411764705882353, 'fare <= 7.744\\ngini = 0.278\\nsamples = 12\\nvalue = [2, 10]'),\n",
       " Text(0.20118343195266272, 0.38235294117647056, 'gini = 0.0\\nsamples = 3\\nvalue = [0, 3]'),\n",
       " Text(0.22485207100591717, 0.38235294117647056, 'gini = 0.346\\nsamples = 9\\nvalue = [2, 7]'),\n",
       " Text(0.20118343195266272, 0.5588235294117647, 'gini = 0.0\\nsamples = 2\\nvalue = [2, 0]'),\n",
       " Text(0.21301775147928995, 0.6176470588235294, 'gini = 0.0\\nsamples = 5\\nvalue = [0, 5]'),\n",
       " Text(0.3254437869822485, 0.7352941176470589, 'fare <= 15.373\\ngini = 0.499\\nsamples = 42\\nvalue = [20, 22]'),\n",
       " Text(0.28402366863905326, 0.6764705882352942, 'fare <= 13.438\\ngini = 0.469\\nsamples = 24\\nvalue = [15, 9]'),\n",
       " Text(0.27218934911242604, 0.6176470588235294, 'fare <= 8.673\\ngini = 0.498\\nsamples = 17\\nvalue = [8, 9]'),\n",
       " Text(0.23668639053254437, 0.5588235294117647, 'fare <= 7.977\\ngini = 0.245\\nsamples = 7\\nvalue = [6, 1]'),\n",
       " Text(0.22485207100591717, 0.5, 'gini = 0.0\\nsamples = 3\\nvalue = [3, 0]'),\n",
       " Text(0.2485207100591716, 0.5, 'fare <= 8.04\\ngini = 0.375\\nsamples = 4\\nvalue = [3, 1]'),\n",
       " Text(0.23668639053254437, 0.4411764705882353, 'gini = 0.0\\nsamples = 1\\nvalue = [0, 1]'),\n",
       " Text(0.2603550295857988, 0.4411764705882353, 'gini = 0.0\\nsamples = 3\\nvalue = [3, 0]'),\n",
       " Text(0.3076923076923077, 0.5588235294117647, 'fare <= 9.715\\ngini = 0.32\\nsamples = 10\\nvalue = [2, 8]'),\n",
       " Text(0.2958579881656805, 0.5, 'fare <= 9.413\\ngini = 0.48\\nsamples = 5\\nvalue = [2, 3]'),\n",
       " Text(0.28402366863905326, 0.4411764705882353, 'gini = 0.0\\nsamples = 2\\nvalue = [0, 2]'),\n",
       " Text(0.3076923076923077, 0.4411764705882353, 'alone <= 0.5\\ngini = 0.444\\nsamples = 3\\nvalue = [2, 1]'),\n",
       " Text(0.2958579881656805, 0.38235294117647056, 'gini = 0.0\\nsamples = 1\\nvalue = [1, 0]'),\n",
       " Text(0.31952662721893493, 0.38235294117647056, 'gini = 0.5\\nsamples = 2\\nvalue = [1, 1]'),\n",
       " Text(0.31952662721893493, 0.5, 'gini = 0.0\\nsamples = 5\\nvalue = [0, 5]'),\n",
       " Text(0.2958579881656805, 0.6176470588235294, 'gini = 0.0\\nsamples = 7\\nvalue = [7, 0]'),\n",
       " Text(0.3668639053254438, 0.6764705882352942, 'parch <= 3.0\\ngini = 0.401\\nsamples = 18\\nvalue = [5, 13]'),\n",
       " Text(0.35502958579881655, 0.6176470588235294, 'fare <= 15.975\\ngini = 0.36\\nsamples = 17\\nvalue = [4, 13]'),\n",
       " Text(0.3431952662721893, 0.5588235294117647, 'gini = 0.0\\nsamples = 5\\nvalue = [0, 5]'),\n",
       " Text(0.3668639053254438, 0.5588235294117647, 'parch <= 0.5\\ngini = 0.444\\nsamples = 12\\nvalue = [4, 8]'),\n",
       " Text(0.3431952662721893, 0.5, 'fare <= 17.05\\ngini = 0.444\\nsamples = 3\\nvalue = [2, 1]'),\n",
       " Text(0.33136094674556216, 0.4411764705882353, 'gini = 0.5\\nsamples = 2\\nvalue = [1, 1]'),\n",
       " Text(0.35502958579881655, 0.4411764705882353, 'gini = 0.0\\nsamples = 1\\nvalue = [1, 0]'),\n",
       " Text(0.3905325443786982, 0.5, 'fare <= 19.735\\ngini = 0.346\\nsamples = 9\\nvalue = [2, 7]'),\n",
       " Text(0.378698224852071, 0.4411764705882353, 'gini = 0.0\\nsamples = 4\\nvalue = [0, 4]'),\n",
       " Text(0.40236686390532544, 0.4411764705882353, 'fare <= 21.55\\ngini = 0.48\\nsamples = 5\\nvalue = [2, 3]'),\n",
       " Text(0.3905325443786982, 0.38235294117647056, 'parch <= 1.5\\ngini = 0.444\\nsamples = 3\\nvalue = [2, 1]'),\n",
       " Text(0.378698224852071, 0.3235294117647059, 'fare <= 20.8\\ngini = 0.5\\nsamples = 2\\nvalue = [1, 1]'),\n",
       " Text(0.3668639053254438, 0.2647058823529412, 'gini = 0.0\\nsamples = 1\\nvalue = [0, 1]'),\n",
       " Text(0.3905325443786982, 0.2647058823529412, 'gini = 0.0\\nsamples = 1\\nvalue = [1, 0]'),\n",
       " Text(0.40236686390532544, 0.3235294117647059, 'gini = 0.0\\nsamples = 1\\nvalue = [1, 0]'),\n",
       " Text(0.41420118343195267, 0.38235294117647056, 'gini = 0.0\\nsamples = 2\\nvalue = [0, 2]'),\n",
       " Text(0.378698224852071, 0.6176470588235294, 'gini = 0.0\\nsamples = 1\\nvalue = [1, 0]'),\n",
       " Text(0.3905325443786982, 0.7941176470588235, 'parch <= 4.0\\ngini = 0.153\\nsamples = 12\\nvalue = [11, 1]'),\n",
       " Text(0.378698224852071, 0.7352941176470589, 'gini = 0.0\\nsamples = 10\\nvalue = [10, 0]'),\n",
       " Text(0.40236686390532544, 0.7352941176470589, 'fare <= 35.538\\ngini = 0.5\\nsamples = 2\\nvalue = [1, 1]'),\n",
       " Text(0.3905325443786982, 0.6764705882352942, 'gini = 0.0\\nsamples = 1\\nvalue = [0, 1]'),\n",
       " Text(0.41420118343195267, 0.6764705882352942, 'gini = 0.0\\nsamples = 1\\nvalue = [1, 0]'),\n",
       " Text(0.7390902366863905, 0.9117647058823529, 'fare <= 18.275\\ngini = 0.295\\nsamples = 323\\nvalue = [265, 58]'),\n",
       " Text(0.5965236686390533, 0.8529411764705882, 'parch <= 0.5\\ngini = 0.184\\nsamples = 205\\nvalue = [184, 21]'),\n",
       " Text(0.5303254437869822, 0.7941176470588235, 'fare <= 13.25\\ngini = 0.173\\nsamples = 199\\nvalue = [180, 19]'),\n",
       " Text(0.518491124260355, 0.7352941176470589, 'fare <= 12.637\\ngini = 0.184\\nsamples = 185\\nvalue = [166, 19]'),\n",
       " Text(0.5066568047337278, 0.6764705882352942, 'alone <= 0.5\\ngini = 0.164\\nsamples = 166\\nvalue = [151, 15]'),\n",
       " Text(0.4378698224852071, 0.6176470588235294, 'fare <= 8.294\\ngini = 0.375\\nsamples = 8\\nvalue = [6, 2]'),\n",
       " Text(0.4260355029585799, 0.5588235294117647, 'fare <= 7.513\\ngini = 0.444\\nsamples = 6\\nvalue = [4, 2]'),\n",
       " Text(0.41420118343195267, 0.5, 'gini = 0.0\\nsamples = 1\\nvalue = [1, 0]'),\n",
       " Text(0.4378698224852071, 0.5, 'fare <= 7.815\\ngini = 0.48\\nsamples = 5\\nvalue = [3, 2]'),\n",
       " Text(0.4260355029585799, 0.4411764705882353, 'gini = 0.0\\nsamples = 1\\nvalue = [0, 1]'),\n",
       " Text(0.44970414201183434, 0.4411764705882353, 'fare <= 7.89\\ngini = 0.375\\nsamples = 4\\nvalue = [3, 1]'),\n",
       " Text(0.4378698224852071, 0.38235294117647056, 'gini = 0.0\\nsamples = 1\\nvalue = [1, 0]'),\n",
       " Text(0.46153846153846156, 0.38235294117647056, 'gini = 0.444\\nsamples = 3\\nvalue = [2, 1]'),\n",
       " Text(0.44970414201183434, 0.5588235294117647, 'gini = 0.0\\nsamples = 2\\nvalue = [2, 0]'),\n",
       " Text(0.5754437869822485, 0.6176470588235294, 'fare <= 8.081\\ngini = 0.151\\nsamples = 158\\nvalue = [145, 13]'),\n",
       " Text(0.5355029585798816, 0.5588235294117647, 'fare <= 7.24\\ngini = 0.134\\nsamples = 125\\nvalue = [116, 9]'),\n",
       " Text(0.5088757396449705, 0.5, 'fare <= 7.227\\ngini = 0.202\\nsamples = 35\\nvalue = [31, 4]'),\n",
       " Text(0.4970414201183432, 0.4411764705882353, 'fare <= 7.013\\ngini = 0.137\\nsamples = 27\\nvalue = [25, 2]'),\n",
       " Text(0.48520710059171596, 0.38235294117647056, 'fare <= 6.917\\ngini = 0.231\\nsamples = 15\\nvalue = [13, 2]'),\n",
       " Text(0.47337278106508873, 0.3235294117647059, 'pclass <= 2.5\\ngini = 0.142\\nsamples = 13\\nvalue = [12, 1]'),\n",
       " Text(0.46153846153846156, 0.2647058823529412, 'gini = 0.0\\nsamples = 5\\nvalue = [5, 0]'),\n",
       " Text(0.48520710059171596, 0.2647058823529412, 'fare <= 3.219\\ngini = 0.219\\nsamples = 8\\nvalue = [7, 1]'),\n",
       " Text(0.47337278106508873, 0.20588235294117646, 'gini = 0.444\\nsamples = 3\\nvalue = [2, 1]'),\n",
       " Text(0.4970414201183432, 0.20588235294117646, 'gini = 0.0\\nsamples = 5\\nvalue = [5, 0]'),\n",
       " Text(0.4970414201183432, 0.3235294117647059, 'gini = 0.5\\nsamples = 2\\nvalue = [1, 1]'),\n",
       " Text(0.5088757396449705, 0.38235294117647056, 'gini = 0.0\\nsamples = 12\\nvalue = [12, 0]'),\n",
       " Text(0.5207100591715976, 0.4411764705882353, 'gini = 0.375\\nsamples = 8\\nvalue = [6, 2]'),\n",
       " Text(0.5621301775147929, 0.5, 'fare <= 7.746\\ngini = 0.105\\nsamples = 90\\nvalue = [85, 5]'),\n",
       " Text(0.5502958579881657, 0.4411764705882353, 'gini = 0.0\\nsamples = 14\\nvalue = [14, 0]'),\n",
       " Text(0.5739644970414202, 0.4411764705882353, 'fare <= 7.871\\ngini = 0.123\\nsamples = 76\\nvalue = [71, 5]'),\n",
       " Text(0.5443786982248521, 0.38235294117647056, 'fare <= 7.785\\ngini = 0.204\\nsamples = 26\\nvalue = [23, 3]'),\n",
       " Text(0.5207100591715976, 0.3235294117647059, 'fare <= 7.763\\ngini = 0.117\\nsamples = 16\\nvalue = [15, 1]'),\n",
       " Text(0.5088757396449705, 0.2647058823529412, 'gini = 0.165\\nsamples = 11\\nvalue = [10, 1]'),\n",
       " Text(0.5325443786982249, 0.2647058823529412, 'gini = 0.0\\nsamples = 5\\nvalue = [5, 0]'),\n",
       " Text(0.5680473372781065, 0.3235294117647059, 'fare <= 7.798\\ngini = 0.32\\nsamples = 10\\nvalue = [8, 2]'),\n",
       " Text(0.5562130177514792, 0.2647058823529412, 'gini = 0.375\\nsamples = 4\\nvalue = [3, 1]'),\n",
       " Text(0.5798816568047337, 0.2647058823529412, 'fare <= 7.842\\ngini = 0.278\\nsamples = 6\\nvalue = [5, 1]'),\n",
       " Text(0.5680473372781065, 0.20588235294117646, 'gini = 0.0\\nsamples = 2\\nvalue = [2, 0]'),\n",
       " Text(0.591715976331361, 0.20588235294117646, 'gini = 0.375\\nsamples = 4\\nvalue = [3, 1]'),\n",
       " Text(0.6035502958579881, 0.38235294117647056, 'fare <= 7.91\\ngini = 0.077\\nsamples = 50\\nvalue = [48, 2]'),\n",
       " Text(0.591715976331361, 0.3235294117647059, 'gini = 0.0\\nsamples = 23\\nvalue = [23, 0]'),\n",
       " Text(0.6153846153846154, 0.3235294117647059, 'fare <= 7.988\\ngini = 0.137\\nsamples = 27\\nvalue = [25, 2]'),\n",
       " Text(0.6035502958579881, 0.2647058823529412, 'gini = 0.375\\nsamples = 4\\nvalue = [3, 1]'),\n",
       " Text(0.6272189349112426, 0.2647058823529412, 'gini = 0.083\\nsamples = 23\\nvalue = [22, 1]'),\n",
       " Text(0.6153846153846154, 0.5588235294117647, 'fare <= 8.135\\ngini = 0.213\\nsamples = 33\\nvalue = [29, 4]'),\n",
       " Text(0.6035502958579881, 0.5, 'gini = 0.0\\nsamples = 1\\nvalue = [0, 1]'),\n",
       " Text(0.6272189349112426, 0.5, 'fare <= 8.658\\ngini = 0.17\\nsamples = 32\\nvalue = [29, 3]'),\n",
       " Text(0.6153846153846154, 0.4411764705882353, 'gini = 0.0\\nsamples = 4\\nvalue = [4, 0]'),\n",
       " Text(0.6390532544378699, 0.4411764705882353, 'fare <= 8.688\\ngini = 0.191\\nsamples = 28\\nvalue = [25, 3]'),\n",
       " Text(0.6272189349112426, 0.38235294117647056, 'gini = 0.278\\nsamples = 6\\nvalue = [5, 1]'),\n",
       " Text(0.650887573964497, 0.38235294117647056, 'fare <= 9.363\\ngini = 0.165\\nsamples = 22\\nvalue = [20, 2]'),\n",
       " Text(0.6390532544378699, 0.3235294117647059, 'gini = 0.0\\nsamples = 3\\nvalue = [3, 0]'),\n",
       " Text(0.6627218934911243, 0.3235294117647059, 'fare <= 11.0\\ngini = 0.188\\nsamples = 19\\nvalue = [17, 2]'),\n",
       " Text(0.650887573964497, 0.2647058823529412, 'fare <= 9.673\\ngini = 0.208\\nsamples = 17\\nvalue = [15, 2]'),\n",
       " Text(0.6390532544378699, 0.20588235294117646, 'gini = 0.245\\nsamples = 7\\nvalue = [6, 1]'),\n",
       " Text(0.6627218934911243, 0.20588235294117646, 'pclass <= 2.5\\ngini = 0.18\\nsamples = 10\\nvalue = [9, 1]'),\n",
       " Text(0.650887573964497, 0.14705882352941177, 'gini = 0.198\\nsamples = 9\\nvalue = [8, 1]'),\n",
       " Text(0.6745562130177515, 0.14705882352941177, 'gini = 0.0\\nsamples = 1\\nvalue = [1, 0]'),\n",
       " Text(0.6745562130177515, 0.2647058823529412, 'gini = 0.0\\nsamples = 2\\nvalue = [2, 0]'),\n",
       " Text(0.5303254437869822, 0.6764705882352942, 'gini = 0.332\\nsamples = 19\\nvalue = [15, 4]'),\n",
       " Text(0.5421597633136095, 0.7352941176470589, 'gini = 0.0\\nsamples = 14\\nvalue = [14, 0]'),\n",
       " Text(0.6627218934911243, 0.7941176470588235, 'fare <= 15.0\\ngini = 0.444\\nsamples = 6\\nvalue = [4, 2]'),\n",
       " Text(0.650887573964497, 0.7352941176470589, 'fare <= 7.873\\ngini = 0.5\\nsamples = 4\\nvalue = [2, 2]'),\n",
       " Text(0.6390532544378699, 0.6764705882352942, 'gini = 0.0\\nsamples = 1\\nvalue = [1, 0]'),\n",
       " Text(0.6627218934911243, 0.6764705882352942, 'pclass <= 2.5\\ngini = 0.444\\nsamples = 3\\nvalue = [1, 2]'),\n",
       " Text(0.650887573964497, 0.6176470588235294, 'fare <= 13.0\\ngini = 0.5\\nsamples = 2\\nvalue = [1, 1]'),\n",
       " Text(0.6390532544378699, 0.5588235294117647, 'gini = 0.0\\nsamples = 1\\nvalue = [1, 0]'),\n",
       " Text(0.6627218934911243, 0.5588235294117647, 'gini = 0.0\\nsamples = 1\\nvalue = [0, 1]'),\n",
       " Text(0.6745562130177515, 0.6176470588235294, 'gini = 0.0\\nsamples = 1\\nvalue = [0, 1]'),\n",
       " Text(0.6745562130177515, 0.7352941176470589, 'gini = 0.0\\nsamples = 2\\nvalue = [2, 0]'),\n",
       " Text(0.8816568047337278, 0.8529411764705882, 'fare <= 19.637\\ngini = 0.43\\nsamples = 118\\nvalue = [81, 37]'),\n",
       " Text(0.8698224852071006, 0.7941176470588235, 'gini = 0.0\\nsamples = 2\\nvalue = [0, 2]'),\n",
       " Text(0.893491124260355, 0.7941176470588235, 'pclass <= 1.5\\ngini = 0.421\\nsamples = 116\\nvalue = [81, 35]'),\n",
       " Text(0.8165680473372781, 0.7352941176470589, 'fare <= 77.008\\ngini = 0.468\\nsamples = 67\\nvalue = [42, 25]'),\n",
       " Text(0.7633136094674556, 0.6764705882352942, 'fare <= 51.248\\ngini = 0.492\\nsamples = 48\\nvalue = [27, 21]'),\n",
       " Text(0.7396449704142012, 0.6176470588235294, 'fare <= 37.55\\ngini = 0.465\\nsamples = 38\\nvalue = [24, 14]'),\n",
       " Text(0.727810650887574, 0.5588235294117647, 'fare <= 35.077\\ngini = 0.489\\nsamples = 33\\nvalue = [19, 14]'),\n",
       " Text(0.7159763313609467, 0.5, 'fare <= 31.66\\ngini = 0.475\\nsamples = 31\\nvalue = [19, 12]'),\n",
       " Text(0.7041420118343196, 0.4411764705882353, 'fare <= 26.144\\ngini = 0.494\\nsamples = 27\\nvalue = [15, 12]'),\n",
       " Text(0.6923076923076923, 0.38235294117647056, 'gini = 0.0\\nsamples = 2\\nvalue = [2, 0]'),\n",
       " Text(0.7159763313609467, 0.38235294117647056, 'fare <= 26.469\\ngini = 0.499\\nsamples = 25\\nvalue = [13, 12]'),\n",
       " Text(0.7041420118343196, 0.3235294117647059, 'gini = 0.0\\nsamples = 3\\nvalue = [0, 3]'),\n",
       " Text(0.727810650887574, 0.3235294117647059, 'fare <= 29.85\\ngini = 0.483\\nsamples = 22\\nvalue = [13, 9]'),\n",
       " Text(0.6982248520710059, 0.2647058823529412, 'fare <= 27.135\\ngini = 0.408\\nsamples = 14\\nvalue = [10, 4]'),\n",
       " Text(0.6863905325443787, 0.20588235294117646, 'gini = 0.494\\nsamples = 9\\nvalue = [5, 4]'),\n",
       " Text(0.7100591715976331, 0.20588235294117646, 'gini = 0.0\\nsamples = 5\\nvalue = [5, 0]'),\n",
       " Text(0.757396449704142, 0.2647058823529412, 'fare <= 30.598\\ngini = 0.469\\nsamples = 8\\nvalue = [3, 5]'),\n",
       " Text(0.7337278106508875, 0.20588235294117646, 'fare <= 30.25\\ngini = 0.32\\nsamples = 5\\nvalue = [1, 4]'),\n",
       " Text(0.7218934911242604, 0.14705882352941177, 'gini = 0.0\\nsamples = 2\\nvalue = [0, 2]'),\n",
       " Text(0.7455621301775148, 0.14705882352941177, 'gini = 0.444\\nsamples = 3\\nvalue = [1, 2]'),\n",
       " Text(0.7810650887573964, 0.20588235294117646, 'fare <= 30.848\\ngini = 0.444\\nsamples = 3\\nvalue = [2, 1]'),\n",
       " Text(0.7692307692307693, 0.14705882352941177, 'gini = 0.0\\nsamples = 1\\nvalue = [1, 0]'),\n",
       " Text(0.7928994082840237, 0.14705882352941177, 'gini = 0.5\\nsamples = 2\\nvalue = [1, 1]'),\n",
       " Text(0.727810650887574, 0.4411764705882353, 'gini = 0.0\\nsamples = 4\\nvalue = [4, 0]'),\n",
       " Text(0.7396449704142012, 0.5, 'gini = 0.0\\nsamples = 2\\nvalue = [0, 2]'),\n",
       " Text(0.7514792899408284, 0.5588235294117647, 'gini = 0.0\\nsamples = 5\\nvalue = [5, 0]'),\n",
       " Text(0.7869822485207101, 0.6176470588235294, 'fare <= 58.308\\ngini = 0.42\\nsamples = 10\\nvalue = [3, 7]'),\n",
       " Text(0.7751479289940828, 0.5588235294117647, 'gini = 0.0\\nsamples = 5\\nvalue = [0, 5]'),\n",
       " Text(0.7988165680473372, 0.5588235294117647, 'fare <= 62.369\\ngini = 0.48\\nsamples = 5\\nvalue = [3, 2]'),\n",
       " Text(0.7869822485207101, 0.5, 'gini = 0.0\\nsamples = 2\\nvalue = [2, 0]'),\n",
       " Text(0.8106508875739645, 0.5, 'alone <= 0.5\\ngini = 0.444\\nsamples = 3\\nvalue = [1, 2]'),\n",
       " Text(0.7988165680473372, 0.4411764705882353, 'parch <= 0.5\\ngini = 0.5\\nsamples = 2\\nvalue = [1, 1]'),\n",
       " Text(0.7869822485207101, 0.38235294117647056, 'gini = 0.0\\nsamples = 1\\nvalue = [1, 0]'),\n",
       " Text(0.8106508875739645, 0.38235294117647056, 'gini = 0.0\\nsamples = 1\\nvalue = [0, 1]'),\n",
       " Text(0.8224852071005917, 0.4411764705882353, 'gini = 0.0\\nsamples = 1\\nvalue = [0, 1]'),\n",
       " Text(0.8698224852071006, 0.6764705882352942, 'fare <= 387.665\\ngini = 0.332\\nsamples = 19\\nvalue = [15, 4]'),\n",
       " Text(0.8579881656804734, 0.6176470588235294, 'fare <= 112.079\\ngini = 0.278\\nsamples = 18\\nvalue = [15, 3]'),\n",
       " Text(0.8461538461538461, 0.5588235294117647, 'fare <= 86.29\\ngini = 0.397\\nsamples = 11\\nvalue = [8, 3]'),\n",
       " Text(0.834319526627219, 0.5, 'gini = 0.0\\nsamples = 5\\nvalue = [5, 0]'),\n",
       " Text(0.8579881656804734, 0.5, 'parch <= 1.5\\ngini = 0.5\\nsamples = 6\\nvalue = [3, 3]'),\n",
       " Text(0.8461538461538461, 0.4411764705882353, 'fare <= 99.99\\ngini = 0.48\\nsamples = 5\\nvalue = [3, 2]'),\n",
       " Text(0.834319526627219, 0.38235294117647056, 'fare <= 89.552\\ngini = 0.444\\nsamples = 3\\nvalue = [1, 2]'),\n",
       " Text(0.8224852071005917, 0.3235294117647059, 'gini = 0.0\\nsamples = 1\\nvalue = [0, 1]'),\n",
       " Text(0.8461538461538461, 0.3235294117647059, 'fare <= 90.54\\ngini = 0.5\\nsamples = 2\\nvalue = [1, 1]'),\n",
       " Text(0.834319526627219, 0.2647058823529412, 'gini = 0.0\\nsamples = 1\\nvalue = [1, 0]'),\n",
       " Text(0.8579881656804734, 0.2647058823529412, 'gini = 0.0\\nsamples = 1\\nvalue = [0, 1]'),\n",
       " Text(0.8579881656804734, 0.38235294117647056, 'gini = 0.0\\nsamples = 2\\nvalue = [2, 0]'),\n",
       " Text(0.8698224852071006, 0.4411764705882353, 'gini = 0.0\\nsamples = 1\\nvalue = [0, 1]'),\n",
       " Text(0.8698224852071006, 0.5588235294117647, 'gini = 0.0\\nsamples = 7\\nvalue = [7, 0]'),\n",
       " Text(0.8816568047337278, 0.6176470588235294, 'gini = 0.0\\nsamples = 1\\nvalue = [0, 1]'),\n",
       " Text(0.9704142011834319, 0.7352941176470589, 'fare <= 63.023\\ngini = 0.325\\nsamples = 49\\nvalue = [39, 10]'),\n",
       " Text(0.9585798816568047, 0.6764705882352942, 'fare <= 51.698\\ngini = 0.363\\nsamples = 42\\nvalue = [32, 10]'),\n",
       " Text(0.9467455621301775, 0.6176470588235294, 'alone <= 0.5\\ngini = 0.295\\nsamples = 39\\nvalue = [32, 7]'),\n",
       " Text(0.9349112426035503, 0.5588235294117647, 'fare <= 39.344\\ngini = 0.334\\nsamples = 33\\nvalue = [26, 7]'),\n",
       " Text(0.9230769230769231, 0.5, 'fare <= 36.877\\ngini = 0.375\\nsamples = 28\\nvalue = [21, 7]'),\n",
       " Text(0.9112426035502958, 0.4411764705882353, 'fare <= 20.762\\ngini = 0.311\\nsamples = 26\\nvalue = [21, 5]'),\n",
       " Text(0.8816568047337278, 0.38235294117647056, 'parch <= 1.5\\ngini = 0.5\\nsamples = 2\\nvalue = [1, 1]'),\n",
       " Text(0.8698224852071006, 0.3235294117647059, 'gini = 0.0\\nsamples = 1\\nvalue = [1, 0]'),\n",
       " Text(0.893491124260355, 0.3235294117647059, 'gini = 0.0\\nsamples = 1\\nvalue = [0, 1]'),\n",
       " Text(0.9408284023668639, 0.38235294117647056, 'fare <= 26.125\\ngini = 0.278\\nsamples = 24\\nvalue = [20, 4]'),\n",
       " Text(0.9171597633136095, 0.3235294117647059, 'fare <= 22.465\\ngini = 0.355\\nsamples = 13\\nvalue = [10, 3]'),\n",
       " Text(0.9053254437869822, 0.2647058823529412, 'gini = 0.0\\nsamples = 3\\nvalue = [3, 0]'),\n",
       " Text(0.9289940828402367, 0.2647058823529412, 'fare <= 23.35\\ngini = 0.42\\nsamples = 10\\nvalue = [7, 3]'),\n",
       " Text(0.9171597633136095, 0.20588235294117646, 'gini = 0.0\\nsamples = 1\\nvalue = [0, 1]'),\n",
       " Text(0.9408284023668639, 0.20588235294117646, 'fare <= 25.075\\ngini = 0.346\\nsamples = 9\\nvalue = [7, 2]'),\n",
       " Text(0.9289940828402367, 0.14705882352941177, 'gini = 0.0\\nsamples = 3\\nvalue = [3, 0]'),\n",
       " Text(0.9526627218934911, 0.14705882352941177, 'parch <= 1.5\\ngini = 0.444\\nsamples = 6\\nvalue = [4, 2]'),\n",
       " Text(0.9408284023668639, 0.08823529411764706, 'parch <= 0.5\\ngini = 0.48\\nsamples = 5\\nvalue = [3, 2]'),\n",
       " Text(0.9289940828402367, 0.029411764705882353, 'gini = 0.375\\nsamples = 4\\nvalue = [3, 1]'),\n",
       " Text(0.9526627218934911, 0.029411764705882353, 'gini = 0.0\\nsamples = 1\\nvalue = [0, 1]'),\n",
       " Text(0.9644970414201184, 0.08823529411764706, 'gini = 0.0\\nsamples = 1\\nvalue = [1, 0]'),\n",
       " Text(0.9644970414201184, 0.3235294117647059, 'fare <= 31.331\\ngini = 0.165\\nsamples = 11\\nvalue = [10, 1]'),\n",
       " Text(0.9526627218934911, 0.2647058823529412, 'gini = 0.0\\nsamples = 7\\nvalue = [7, 0]'),\n",
       " Text(0.9763313609467456, 0.2647058823529412, 'fare <= 32.194\\ngini = 0.375\\nsamples = 4\\nvalue = [3, 1]'),\n",
       " Text(0.9644970414201184, 0.20588235294117646, 'gini = 0.0\\nsamples = 1\\nvalue = [0, 1]'),\n",
       " Text(0.9881656804733728, 0.20588235294117646, 'gini = 0.0\\nsamples = 3\\nvalue = [3, 0]'),\n",
       " Text(0.9349112426035503, 0.4411764705882353, 'gini = 0.0\\nsamples = 2\\nvalue = [0, 2]'),\n",
       " Text(0.9467455621301775, 0.5, 'gini = 0.0\\nsamples = 5\\nvalue = [5, 0]'),\n",
       " Text(0.9585798816568047, 0.5588235294117647, 'gini = 0.0\\nsamples = 6\\nvalue = [6, 0]'),\n",
       " Text(0.9704142011834319, 0.6176470588235294, 'gini = 0.0\\nsamples = 3\\nvalue = [0, 3]'),\n",
       " Text(0.9822485207100592, 0.6764705882352942, 'gini = 0.0\\nsamples = 7\\nvalue = [7, 0]')]"
      ]
     },
     "execution_count": 67,
     "metadata": {},
     "output_type": "execute_result"
    },
    {
     "data": {
      "image/png": "[encoded data removed]",
      "text/plain": [
       "<Figure size 1440x1080 with 1 Axes>"
      ]
     },
     "metadata": {
      "needs_background": "light"
     },
     "output_type": "display_data"
    }
   ],
   "source": [
    "plt.figure(figsize = (20, 15))\n",
    "plot_tree(clf, feature_names = X_train.columns, rounded = True)"
   ]
  },
  {
   "cell_type": "markdown",
   "id": "294f9ab1",
   "metadata": {},
   "source": [
    "\n",
    "### 4). Compute: Accuracy, true positive rate, false positive rate, true negative rate, false negative rate, precision, recall, f1-score, and support."
   ]
  },
  {
   "cell_type": "code",
   "execution_count": 68,
   "id": "77b98a5c",
   "metadata": {},
   "outputs": [
    {
     "data": {
      "text/plain": [
       "array([[303,   4],\n",
       "       [ 26, 165]])"
      ]
     },
     "execution_count": 68,
     "metadata": {},
     "output_type": "execute_result"
    }
   ],
   "source": [
    "conf"
   ]
  },
  {
   "cell_type": "code",
   "execution_count": 69,
   "id": "dafde1f4",
   "metadata": {},
   "outputs": [
    {
     "data": {
      "text/html": [
       "<div>\n",
       "<style scoped>\n",
       "    .dataframe tbody tr th:only-of-type {\n",
       "        vertical-align: middle;\n",
       "    }\n",
       "\n",
       "    .dataframe tbody tr th {\n",
       "        vertical-align: top;\n",
       "    }\n",
       "\n",
       "    .dataframe thead th {\n",
       "        text-align: right;\n",
       "    }\n",
       "</style>\n",
       "<table border=\"1\" class=\"dataframe\">\n",
       "  <thead>\n",
       "    <tr style=\"text-align: right;\">\n",
       "      <th></th>\n",
       "      <th>predict_death</th>\n",
       "      <th>predict_survival</th>\n",
       "    </tr>\n",
       "  </thead>\n",
       "  <tbody>\n",
       "    <tr>\n",
       "      <th>actual_death</th>\n",
       "      <td>303</td>\n",
       "      <td>4</td>\n",
       "    </tr>\n",
       "    <tr>\n",
       "      <th>actual_survival</th>\n",
       "      <td>26</td>\n",
       "      <td>165</td>\n",
       "    </tr>\n",
       "  </tbody>\n",
       "</table>\n",
       "</div>"
      ],
      "text/plain": [
       "                 predict_death  predict_survival\n",
       "actual_death               303                 4\n",
       "actual_survival             26               165"
      ]
     },
     "execution_count": 69,
     "metadata": {},
     "output_type": "execute_result"
    }
   ],
   "source": [
    "# Convert confusion matric into table (legibility)\n",
    "\n",
    "conf_df = pd.DataFrame(conf, columns = ['predict_death', 'predict_survival'],\n",
    "                       index = ['actual_death', 'actual_survival'])\n",
    "\n",
    "conf_df"
   ]
  },
  {
   "cell_type": "code",
   "execution_count": 70,
   "id": "3c2ccfa6",
   "metadata": {},
   "outputs": [
    {
     "data": {
      "text/html": [
       "<div>\n",
       "<style scoped>\n",
       "    .dataframe tbody tr th:only-of-type {\n",
       "        vertical-align: middle;\n",
       "    }\n",
       "\n",
       "    .dataframe tbody tr th {\n",
       "        vertical-align: top;\n",
       "    }\n",
       "\n",
       "    .dataframe thead th {\n",
       "        text-align: right;\n",
       "    }\n",
       "</style>\n",
       "<table border=\"1\" class=\"dataframe\">\n",
       "  <thead>\n",
       "    <tr style=\"text-align: right;\">\n",
       "      <th></th>\n",
       "      <th>predict_death</th>\n",
       "      <th>predict_survive</th>\n",
       "    </tr>\n",
       "  </thead>\n",
       "  <tbody>\n",
       "    <tr>\n",
       "      <th>actual_death</th>\n",
       "      <td>true negative</td>\n",
       "      <td>false positive</td>\n",
       "    </tr>\n",
       "    <tr>\n",
       "      <th>actual_survive</th>\n",
       "      <td>false negative</td>\n",
       "      <td>true positive</td>\n",
       "    </tr>\n",
       "  </tbody>\n",
       "</table>\n",
       "</div>"
      ],
      "text/plain": [
       "                 predict_death predict_survive\n",
       "actual_death     true negative  false positive\n",
       "actual_survive  false negative   true positive"
      ]
     },
     "execution_count": 70,
     "metadata": {},
     "output_type": "execute_result"
    }
   ],
   "source": [
    "# key for reference\n",
    "\n",
    "rubric_df = pd.DataFrame([['true negative', 'false positive'],\n",
    "                          ['false negative', 'true positive']], \n",
    "                         columns=['predict_death', 'predict_survive'], \n",
    "                         index=['actual_death', 'actual_survive']\n",
    "                        )\n",
    "\n",
    "rubric_df"
   ]
  },
  {
   "cell_type": "code",
   "execution_count": 71,
   "id": "4a6f01b0",
   "metadata": {},
   "outputs": [
    {
     "ename": "TypeError",
     "evalue": "cannot concatenate object of type '<class 'numpy.ndarray'>'; only Series and DataFrame objs are valid",
     "output_type": "error",
     "traceback": [
      "\u001b[0;31m---------------------------------------------------------------------------\u001b[0m",
      "\u001b[0;31mTypeError\u001b[0m                                 Traceback (most recent call last)",
      "\u001b[0;32m/var/folders/b2/3fdswr7x4v5fhdt54wpcfmdw0000gn/T/ipykernel_31981/2315599615.py\u001b[0m in \u001b[0;36m<module>\u001b[0;34m\u001b[0m\n\u001b[1;32m      1\u001b[0m \u001b[0;31m# Concat tables\u001b[0m\u001b[0;34m\u001b[0m\u001b[0;34m\u001b[0m\u001b[0m\n\u001b[1;32m      2\u001b[0m \u001b[0;34m\u001b[0m\u001b[0m\n\u001b[0;32m----> 3\u001b[0;31m \u001b[0mconf_rubric\u001b[0m \u001b[0;34m=\u001b[0m \u001b[0mpd\u001b[0m\u001b[0;34m.\u001b[0m\u001b[0mconcat\u001b[0m\u001b[0;34m(\u001b[0m\u001b[0;34m[\u001b[0m\u001b[0mconf\u001b[0m\u001b[0;34m,\u001b[0m \u001b[0mrubric_df\u001b[0m\u001b[0;34m]\u001b[0m\u001b[0;34m,\u001b[0m \u001b[0maxis\u001b[0m \u001b[0;34m=\u001b[0m \u001b[0;36m1\u001b[0m\u001b[0;34m)\u001b[0m\u001b[0;34m\u001b[0m\u001b[0;34m\u001b[0m\u001b[0m\n\u001b[0m\u001b[1;32m      4\u001b[0m \u001b[0;34m\u001b[0m\u001b[0m\n\u001b[1;32m      5\u001b[0m \u001b[0mrubric_df\u001b[0m \u001b[0;34m+\u001b[0m \u001b[0;34m': '\u001b[0m\u001b[0;34m+\u001b[0m \u001b[0mconf_df\u001b[0m\u001b[0;34m.\u001b[0m\u001b[0mvalues\u001b[0m\u001b[0;34m.\u001b[0m\u001b[0mastype\u001b[0m\u001b[0;34m(\u001b[0m\u001b[0mstr\u001b[0m\u001b[0;34m)\u001b[0m\u001b[0;34m\u001b[0m\u001b[0;34m\u001b[0m\u001b[0m\n",
      "\u001b[0;32m/usr/local/anaconda3/lib/python3.9/site-packages/pandas/util/_decorators.py\u001b[0m in \u001b[0;36mwrapper\u001b[0;34m(*args, **kwargs)\u001b[0m\n\u001b[1;32m    309\u001b[0m                     \u001b[0mstacklevel\u001b[0m\u001b[0;34m=\u001b[0m\u001b[0mstacklevel\u001b[0m\u001b[0;34m,\u001b[0m\u001b[0;34m\u001b[0m\u001b[0;34m\u001b[0m\u001b[0m\n\u001b[1;32m    310\u001b[0m                 )\n\u001b[0;32m--> 311\u001b[0;31m             \u001b[0;32mreturn\u001b[0m \u001b[0mfunc\u001b[0m\u001b[0;34m(\u001b[0m\u001b[0;34m*\u001b[0m\u001b[0margs\u001b[0m\u001b[0;34m,\u001b[0m \u001b[0;34m**\u001b[0m\u001b[0mkwargs\u001b[0m\u001b[0;34m)\u001b[0m\u001b[0;34m\u001b[0m\u001b[0;34m\u001b[0m\u001b[0m\n\u001b[0m\u001b[1;32m    312\u001b[0m \u001b[0;34m\u001b[0m\u001b[0m\n\u001b[1;32m    313\u001b[0m         \u001b[0;32mreturn\u001b[0m \u001b[0mwrapper\u001b[0m\u001b[0;34m\u001b[0m\u001b[0;34m\u001b[0m\u001b[0m\n",
      "\u001b[0;32m/usr/local/anaconda3/lib/python3.9/site-packages/pandas/core/reshape/concat.py\u001b[0m in \u001b[0;36mconcat\u001b[0;34m(objs, axis, join, ignore_index, keys, levels, names, verify_integrity, sort, copy)\u001b[0m\n\u001b[1;32m    292\u001b[0m     \u001b[0mValueError\u001b[0m\u001b[0;34m:\u001b[0m \u001b[0mIndexes\u001b[0m \u001b[0mhave\u001b[0m \u001b[0moverlapping\u001b[0m \u001b[0mvalues\u001b[0m\u001b[0;34m:\u001b[0m \u001b[0;34m[\u001b[0m\u001b[0;34m'a'\u001b[0m\u001b[0;34m]\u001b[0m\u001b[0;34m\u001b[0m\u001b[0;34m\u001b[0m\u001b[0m\n\u001b[1;32m    293\u001b[0m     \"\"\"\n\u001b[0;32m--> 294\u001b[0;31m     op = _Concatenator(\n\u001b[0m\u001b[1;32m    295\u001b[0m         \u001b[0mobjs\u001b[0m\u001b[0;34m,\u001b[0m\u001b[0;34m\u001b[0m\u001b[0;34m\u001b[0m\u001b[0m\n\u001b[1;32m    296\u001b[0m         \u001b[0maxis\u001b[0m\u001b[0;34m=\u001b[0m\u001b[0maxis\u001b[0m\u001b[0;34m,\u001b[0m\u001b[0;34m\u001b[0m\u001b[0;34m\u001b[0m\u001b[0m\n",
      "\u001b[0;32m/usr/local/anaconda3/lib/python3.9/site-packages/pandas/core/reshape/concat.py\u001b[0m in \u001b[0;36m__init__\u001b[0;34m(self, objs, axis, join, keys, levels, names, ignore_index, verify_integrity, copy, sort)\u001b[0m\n\u001b[1;32m    382\u001b[0m                     \u001b[0;34m\"only Series and DataFrame objs are valid\"\u001b[0m\u001b[0;34m\u001b[0m\u001b[0;34m\u001b[0m\u001b[0m\n\u001b[1;32m    383\u001b[0m                 )\n\u001b[0;32m--> 384\u001b[0;31m                 \u001b[0;32mraise\u001b[0m \u001b[0mTypeError\u001b[0m\u001b[0;34m(\u001b[0m\u001b[0mmsg\u001b[0m\u001b[0;34m)\u001b[0m\u001b[0;34m\u001b[0m\u001b[0;34m\u001b[0m\u001b[0m\n\u001b[0m\u001b[1;32m    385\u001b[0m \u001b[0;34m\u001b[0m\u001b[0m\n\u001b[1;32m    386\u001b[0m             \u001b[0mndims\u001b[0m\u001b[0;34m.\u001b[0m\u001b[0madd\u001b[0m\u001b[0;34m(\u001b[0m\u001b[0mobj\u001b[0m\u001b[0;34m.\u001b[0m\u001b[0mndim\u001b[0m\u001b[0;34m)\u001b[0m\u001b[0;34m\u001b[0m\u001b[0;34m\u001b[0m\u001b[0m\n",
      "\u001b[0;31mTypeError\u001b[0m: cannot concatenate object of type '<class 'numpy.ndarray'>'; only Series and DataFrame objs are valid"
     ]
    }
   ],
   "source": [
    "# Concat tables\n",
    "\n",
    "conf_rubric = pd.concat([conf, rubric_df], axis = 1)\n",
    "\n",
    "rubric_df + ': '+ conf_df.values.astype(str)"
   ]
  },
  {
   "cell_type": "markdown",
   "id": "5d718242",
   "metadata": {},
   "source": [
    "### 5). Run through steps 2-4 using a different max_depth value.\n"
   ]
  },
  {
   "cell_type": "code",
   "execution_count": null,
   "id": "6f47aac1",
   "metadata": {},
   "outputs": [],
   "source": [
    "clf_dept_2 = DecisionTreeClassifier(max_depth = 2)\n",
    "clf_dept_2"
   ]
  },
  {
   "cell_type": "code",
   "execution_count": null,
   "id": "3454b2c2",
   "metadata": {},
   "outputs": [],
   "source": [
    "# fit Model\n",
    "\n",
    "clf_dept_2.fit(X_train, y_train)"
   ]
  },
  {
   "cell_type": "code",
   "execution_count": null,
   "id": "4d574a23",
   "metadata": {},
   "outputs": [],
   "source": [
    "y_pred = clf_dept_2.predict(X_train)\n",
    "y_pred "
   ]
  },
  {
   "cell_type": "code",
   "execution_count": null,
   "id": "4dd78486",
   "metadata": {},
   "outputs": [],
   "source": [
    "# Model Accuracy\n",
    "accuracy = clf_dept_2.score(X_train, y_train)\n",
    "print(f'\\n\\tModel with max_dept ==2 accuracy: {accuracy:,.3%}')\n",
    "print()"
   ]
  },
  {
   "cell_type": "markdown",
   "id": "f119d97c",
   "metadata": {},
   "source": [
    "### 6). Which model performs better on your in-sample data?\n"
   ]
  },
  {
   "cell_type": "code",
   "execution_count": null,
   "id": "f4282250",
   "metadata": {},
   "outputs": [],
   "source": [
    "# Model II Accuracy\n",
    "accuracy = clf_dept_2.score(X, y)\n",
    "\n",
    "# Model Predictions\n",
    "y_pred = clf_dept_2.predict(X)\n",
    "\n",
    "y_prediction = clf_dept_2.predict(y, y_pred)\n",
    "\n",
    "# Classification Report (sklearn.metrics)\n",
    "class_report = pd.DataFrame(classification_report(y, y_pred, output_dict = True)).T\n",
    "\n",
    "# Using Confusion matrix to compute data\n",
    "conf = confusion_matrix(y, y_pred)\n",
    "tpr = conf[1][1] / conf[1].sum()\n",
    "fpr = conf[0][1] / conf[0].sum()\n",
    "tnr = conf[0][0] / conf[0].sum()\n",
    "fnr = conf[1][0] / conf[1].sum()\n",
    "\n",
    "print()\n",
    "print(f'''  Accuracy: {accuracy:.4%}\n",
    "\n",
    "            True +ve: {tpr:.3%}\n",
    "            \n",
    "            False +ve: {fpr:.3%}\n",
    "            \n",
    "            True -ve: {tnr:.3%}\n",
    "            \n",
    "            False -ve: {fnr:.3%}\n",
    "            \n",
    "        '''\n",
    "     )\n",
    "\n",
    "class_report"
   ]
  },
  {
   "cell_type": "markdown",
   "id": "ce50e0d6",
   "metadata": {},
   "source": [
    "### 7). Which model performs best on your out-of-sample data, the validate set?\n"
   ]
  },
  {
   "cell_type": "code",
   "execution_count": null,
   "id": "f0a2e4eb",
   "metadata": {},
   "outputs": [],
   "source": [
    "# Model I (max_depth = 3)\n",
    "\n",
    "y_val_pred_1 = clf.score(validate.drop(columns = 'survived'), validate.survived)\n",
    "\n",
    "# Model II (max_depth = 2)\n",
    "y_val_pred_2 = clf_dept_2.score(validate.drop(columns = 'survived'), validate.survived)\n",
    "\n",
    "\n",
    "print(f'''\n",
    "\n",
    "        Model I : {y_val_pred_1: ,.3%}\n",
    "        \n",
    "        Model II : {y_val_pred_2: ,.3%}\n",
    "\n",
    "\n",
    "''')"
   ]
  },
  {
   "cell_type": "code",
   "execution_count": null,
   "id": "5fd0bb23",
   "metadata": {},
   "outputs": [],
   "source": [
    "# Model I graph\n",
    "\n",
    "dot_data = export_graphviz(clf, feature_names= X_train.columns, rounded=True, filled=True, out_file=None)\n",
    "graph = graphviz.Source(dot_data)"
   ]
  },
  {
   "cell_type": "code",
   "execution_count": null,
   "id": "635cd76c",
   "metadata": {},
   "outputs": [],
   "source": [
    "graph.render('titanic_model_1_tree', view=True)\n"
   ]
  },
  {
   "cell_type": "code",
   "execution_count": null,
   "id": "e26845bb",
   "metadata": {},
   "outputs": [],
   "source": [
    "# Model II graph\n",
    "\n",
    "dot_data = export_graphviz(clf_dept_2, feature_names= X_train.columns, rounded=True, filled=True, out_file=None)\n",
    "graph = graphviz.Source(dot_data)"
   ]
  },
  {
   "cell_type": "code",
   "execution_count": null,
   "id": "098e80b7",
   "metadata": {},
   "outputs": [],
   "source": [
    "graph.render('titanic_model_2_tree', view=True)\n"
   ]
  },
  {
   "cell_type": "markdown",
   "id": "1ed8d423",
   "metadata": {},
   "source": [
    "> # Part II\n",
    "\n",
    ">## (B). Random Forest Exercises\n",
    ">"
   ]
  },
  {
   "cell_type": "markdown",
   "id": "367bfac5",
   "metadata": {},
   "source": [
    "### 1). Fit the Random Forest classifier to your training sample and transform (i.e. make predictions on the training sample) setting the random_state accordingly and setting min_samples_leaf = 1 and max_depth = 10."
   ]
  },
  {
   "cell_type": "code",
   "execution_count": null,
   "id": "a9a5412e",
   "metadata": {},
   "outputs": [],
   "source": [
    "train, validate, test = train_validate_test_split(titanic, target = 'survived')\n",
    "train.shape, validate.shape, test.shape"
   ]
  },
  {
   "cell_type": "code",
   "execution_count": null,
   "id": "fba9e39a",
   "metadata": {},
   "outputs": [],
   "source": [
    "train"
   ]
  },
  {
   "cell_type": "code",
   "execution_count": null,
   "id": "aec7e0a6",
   "metadata": {},
   "outputs": [],
   "source": [
    "# Drop unnecesary columns \n",
    "\n",
    "col_to_drops = ['passenger_id', 'sibsp', 'class', 'embarked', \n",
    "                'sex','embark_town','se_male', 'embark_town_Queenstown',\n",
    "               'embark_town_Southampton', 'deck'\n",
    "               ]\n",
    "\n",
    "[titanic_data.drop(columns = col_to_drops, inplace = True, errors = 'ignore') for titanic_data in [train, validate, test]]\n",
    "\n",
    "train.head()"
   ]
  },
  {
   "cell_type": "code",
   "execution_count": null,
   "id": "38ef0e5d",
   "metadata": {},
   "outputs": [],
   "source": [
    "X_train, y_train = train.drop(columns='survived'), train[['survived']]\n"
   ]
  },
  {
   "cell_type": "code",
   "execution_count": null,
   "id": "7b230a8c",
   "metadata": {},
   "outputs": [],
   "source": []
  },
  {
   "cell_type": "code",
   "execution_count": null,
   "id": "d6b70a12",
   "metadata": {},
   "outputs": [],
   "source": []
  },
  {
   "cell_type": "markdown",
   "id": "416e5c89",
   "metadata": {},
   "source": [
    "### 2). Evaluate your results using the model score, confusion matrix, and classification report.\n",
    "\n"
   ]
  },
  {
   "cell_type": "code",
   "execution_count": null,
   "id": "9335630c",
   "metadata": {},
   "outputs": [],
   "source": []
  },
  {
   "cell_type": "code",
   "execution_count": null,
   "id": "d65c58be",
   "metadata": {},
   "outputs": [],
   "source": []
  },
  {
   "cell_type": "code",
   "execution_count": null,
   "id": "156471c8",
   "metadata": {},
   "outputs": [],
   "source": []
  },
  {
   "cell_type": "code",
   "execution_count": null,
   "id": "4a21d27a",
   "metadata": {},
   "outputs": [],
   "source": []
  },
  {
   "cell_type": "markdown",
   "id": "3c33e58e",
   "metadata": {},
   "source": [
    "### 3). Print and clearly label the following: Accuracy, true positive rate, false positive rate, true negative rate, false negative rate, precision, recall, f1-score, and support."
   ]
  },
  {
   "cell_type": "code",
   "execution_count": null,
   "id": "5ecb3c93",
   "metadata": {},
   "outputs": [],
   "source": []
  },
  {
   "cell_type": "markdown",
   "id": "76028788",
   "metadata": {},
   "source": [
    "### 4). Run through steps increasing your min_samples_leaf and decreasing your max_depth.\n",
    "\n"
   ]
  },
  {
   "cell_type": "code",
   "execution_count": null,
   "id": "44782760",
   "metadata": {},
   "outputs": [],
   "source": []
  },
  {
   "cell_type": "markdown",
   "id": "f5282a10",
   "metadata": {},
   "source": [
    "### 5). What are the differences in the evaluation metrics? Which performs better on your in-sample data? Why?"
   ]
  },
  {
   "cell_type": "code",
   "execution_count": null,
   "id": "7357902c",
   "metadata": {},
   "outputs": [],
   "source": []
  },
  {
   "cell_type": "code",
   "execution_count": null,
   "id": "fb475d30",
   "metadata": {},
   "outputs": [],
   "source": []
  },
  {
   "cell_type": "code",
   "execution_count": null,
   "id": "0782b716",
   "metadata": {},
   "outputs": [],
   "source": []
  },
  {
   "cell_type": "markdown",
   "id": "49747635",
   "metadata": {},
   "source": [
    "> # Part III\n",
    "\n",
    "> ##  (C). K - Nearest Neighbor Exercises (KNN)\n",
    ">"
   ]
  },
  {
   "cell_type": "code",
   "execution_count": 99,
   "id": "c7c0edbe",
   "metadata": {},
   "outputs": [
    {
     "data": {
      "text/plain": [
       "((498, 10), (214, 10), (179, 10))"
      ]
     },
     "execution_count": 99,
     "metadata": {},
     "output_type": "execute_result"
    }
   ],
   "source": [
    "# Call the data\n",
    "titanic = acquire.get_titanic_data()\n",
    "titanic.head()\n",
    "\n",
    "# Prepare & Split data into train, validate and test\n",
    "titanic = prep_titanic(titanic)\n",
    "\n",
    "def train_validate_test_split(titanic, target, seed=123):\n",
    "    '''\n",
    "    This function takes in a dataframe, the name of the target variable\n",
    "    (for stratification purposes), and an integer for a setting a seed\n",
    "    and splits the data into train, validate and test. \n",
    "    Test is 20% of the original dataset, validate is .30*.80= 24% of the \n",
    "    original dataset, and train is .70*.80= 56% of the original dataset. \n",
    "    The function returns, in this order, train, validate and test dataframes. \n",
    "    '''\n",
    "    train_validate, test = train_test_split(titanic, test_size=0.2, \n",
    "                                            random_state=seed, \n",
    "                                            stratify=titanic[target])\n",
    "    train, validate = train_test_split(train_validate, test_size=0.3, \n",
    "                                       random_state=seed,\n",
    "                                       stratify=train_validate[target])\n",
    "    return train, validate, test\n",
    "\n",
    "## Call split function and split the data\n",
    "train, validate, test = train_validate_test_split(titanic, target = 'survived')\n",
    "train.shape, validate.shape, test.shape"
   ]
  },
  {
   "cell_type": "code",
   "execution_count": 100,
   "id": "23b75069",
   "metadata": {},
   "outputs": [],
   "source": [
    "# Call impute function to fill in missing values\n",
    "\n",
    "train, validate, test = impute_mode(train, validate, test)"
   ]
  },
  {
   "cell_type": "code",
   "execution_count": 101,
   "id": "6e526f45",
   "metadata": {},
   "outputs": [
    {
     "data": {
      "text/html": [
       "<div>\n",
       "<style scoped>\n",
       "    .dataframe tbody tr th:only-of-type {\n",
       "        vertical-align: middle;\n",
       "    }\n",
       "\n",
       "    .dataframe tbody tr th {\n",
       "        vertical-align: top;\n",
       "    }\n",
       "\n",
       "    .dataframe thead th {\n",
       "        text-align: right;\n",
       "    }\n",
       "</style>\n",
       "<table border=\"1\" class=\"dataframe\">\n",
       "  <thead>\n",
       "    <tr style=\"text-align: right;\">\n",
       "      <th></th>\n",
       "      <th>survived</th>\n",
       "      <th>pclass</th>\n",
       "      <th>fare</th>\n",
       "    </tr>\n",
       "  </thead>\n",
       "  <tbody>\n",
       "    <tr>\n",
       "      <th>583</th>\n",
       "      <td>0</td>\n",
       "      <td>1</td>\n",
       "      <td>40.1250</td>\n",
       "    </tr>\n",
       "    <tr>\n",
       "      <th>165</th>\n",
       "      <td>1</td>\n",
       "      <td>3</td>\n",
       "      <td>20.5250</td>\n",
       "    </tr>\n",
       "    <tr>\n",
       "      <th>50</th>\n",
       "      <td>0</td>\n",
       "      <td>3</td>\n",
       "      <td>39.6875</td>\n",
       "    </tr>\n",
       "    <tr>\n",
       "      <th>259</th>\n",
       "      <td>1</td>\n",
       "      <td>2</td>\n",
       "      <td>26.0000</td>\n",
       "    </tr>\n",
       "    <tr>\n",
       "      <th>306</th>\n",
       "      <td>1</td>\n",
       "      <td>1</td>\n",
       "      <td>110.8833</td>\n",
       "    </tr>\n",
       "  </tbody>\n",
       "</table>\n",
       "</div>"
      ],
      "text/plain": [
       "     survived  pclass      fare\n",
       "583         0       1   40.1250\n",
       "165         1       3   20.5250\n",
       "50          0       3   39.6875\n",
       "259         1       2   26.0000\n",
       "306         1       1  110.8833"
      ]
     },
     "execution_count": 101,
     "metadata": {},
     "output_type": "execute_result"
    }
   ],
   "source": [
    "# Drop unnecesary columns \n",
    "\n",
    "col_to_drops = ['passenger_id', 'sibsp', 'class', 'embarked', \n",
    "                'sex','embark_town','se_male', 'embark_town_Queenstown',\n",
    "               'embark_town_Southampton', 'sex_male', 'alone', 'parch'\n",
    "               ]\n",
    "\n",
    "[titanic_data.drop(columns = col_to_drops, inplace = True, errors = 'ignore') for titanic_data in [train, validate, test]]\n",
    "\n",
    "train.head()"
   ]
  },
  {
   "cell_type": "code",
   "execution_count": null,
   "id": "8a3554ba",
   "metadata": {},
   "outputs": [],
   "source": []
  },
  {
   "cell_type": "code",
   "execution_count": 102,
   "id": "12202598",
   "metadata": {},
   "outputs": [
    {
     "data": {
      "text/plain": [
       "((498, 3), (214, 3), (179, 3))"
      ]
     },
     "execution_count": 102,
     "metadata": {},
     "output_type": "execute_result"
    }
   ],
   "source": [
    "train.shape, validate.shape, test.shape"
   ]
  },
  {
   "cell_type": "markdown",
   "id": "bd6a84c9",
   "metadata": {},
   "source": [
    "### 1). Fit a K-Nearest Neighbors classifier to your training sample and transform (i.e. make predictions on the training sample)"
   ]
  },
  {
   "cell_type": "code",
   "execution_count": 103,
   "id": "a86650e6",
   "metadata": {},
   "outputs": [],
   "source": [
    "# split into train, validate, test\n",
    "# train, validate, test = train_validate_test_split(titanic, target='survived', seed=123)\n",
    "\n",
    "# create X & y version of train, where y is a series with just the target variable and X are all the features. \n",
    "\n",
    "X_train = train.drop(columns=['survived'])\n",
    "y_train = train[['survived']]\n",
    "\n",
    "X_validate = validate.drop(columns=['survived'])\n",
    "y_validate = validate[['survived']]\n",
    "\n",
    "X_test = test.drop(columns=['survived'])\n",
    "y_test = test[['survived']]\n"
   ]
  },
  {
   "cell_type": "code",
   "execution_count": 104,
   "id": "0ee10371",
   "metadata": {},
   "outputs": [],
   "source": [
    "X_train, y_train = train.drop(columns = 'survived'), train[['survived']]"
   ]
  },
  {
   "cell_type": "code",
   "execution_count": 105,
   "id": "cc9e99bc",
   "metadata": {},
   "outputs": [
    {
     "data": {
      "text/html": [
       "<div>\n",
       "<style scoped>\n",
       "    .dataframe tbody tr th:only-of-type {\n",
       "        vertical-align: middle;\n",
       "    }\n",
       "\n",
       "    .dataframe tbody tr th {\n",
       "        vertical-align: top;\n",
       "    }\n",
       "\n",
       "    .dataframe thead th {\n",
       "        text-align: right;\n",
       "    }\n",
       "</style>\n",
       "<table border=\"1\" class=\"dataframe\">\n",
       "  <thead>\n",
       "    <tr style=\"text-align: right;\">\n",
       "      <th></th>\n",
       "      <th>pclass</th>\n",
       "      <th>fare</th>\n",
       "    </tr>\n",
       "  </thead>\n",
       "  <tbody>\n",
       "    <tr>\n",
       "      <th>583</th>\n",
       "      <td>1</td>\n",
       "      <td>40.1250</td>\n",
       "    </tr>\n",
       "    <tr>\n",
       "      <th>165</th>\n",
       "      <td>3</td>\n",
       "      <td>20.5250</td>\n",
       "    </tr>\n",
       "    <tr>\n",
       "      <th>50</th>\n",
       "      <td>3</td>\n",
       "      <td>39.6875</td>\n",
       "    </tr>\n",
       "    <tr>\n",
       "      <th>259</th>\n",
       "      <td>2</td>\n",
       "      <td>26.0000</td>\n",
       "    </tr>\n",
       "    <tr>\n",
       "      <th>306</th>\n",
       "      <td>1</td>\n",
       "      <td>110.8833</td>\n",
       "    </tr>\n",
       "  </tbody>\n",
       "</table>\n",
       "</div>"
      ],
      "text/plain": [
       "     pclass      fare\n",
       "583       1   40.1250\n",
       "165       3   20.5250\n",
       "50        3   39.6875\n",
       "259       2   26.0000\n",
       "306       1  110.8833"
      ]
     },
     "execution_count": 105,
     "metadata": {},
     "output_type": "execute_result"
    }
   ],
   "source": [
    "X_train.head()"
   ]
  },
  {
   "cell_type": "code",
   "execution_count": 106,
   "id": "581e1901",
   "metadata": {},
   "outputs": [],
   "source": [
    "# from sklearn.impute import SimpleImputer\n",
    "\n",
    "\n",
    "# imputer = SimpleImputer(strategy = 'most_frequent', missing_values = np.nan)\n",
    "\n",
    "# imputer = imputer.fit(train[['survived']])\n",
    "\n",
    "# train[['survived']] = imputer.transform(test[['survived']])\n",
    "\n"
   ]
  },
  {
   "cell_type": "code",
   "execution_count": 107,
   "id": "262bc240",
   "metadata": {},
   "outputs": [],
   "source": [
    "# Impute the data for missing values (train, validate, test)\n",
    "\n",
    "# train, validate, test = prepare.impute_mode(train, validate, test)\n"
   ]
  },
  {
   "cell_type": "code",
   "execution_count": 108,
   "id": "bb0f39c5",
   "metadata": {},
   "outputs": [
    {
     "data": {
      "text/html": [
       "<div>\n",
       "<style scoped>\n",
       "    .dataframe tbody tr th:only-of-type {\n",
       "        vertical-align: middle;\n",
       "    }\n",
       "\n",
       "    .dataframe tbody tr th {\n",
       "        vertical-align: top;\n",
       "    }\n",
       "\n",
       "    .dataframe thead th {\n",
       "        text-align: right;\n",
       "    }\n",
       "</style>\n",
       "<table border=\"1\" class=\"dataframe\">\n",
       "  <thead>\n",
       "    <tr style=\"text-align: right;\">\n",
       "      <th></th>\n",
       "      <th>survived</th>\n",
       "      <th>pclass</th>\n",
       "      <th>fare</th>\n",
       "    </tr>\n",
       "  </thead>\n",
       "  <tbody>\n",
       "    <tr>\n",
       "      <th>583</th>\n",
       "      <td>0</td>\n",
       "      <td>1</td>\n",
       "      <td>40.1250</td>\n",
       "    </tr>\n",
       "    <tr>\n",
       "      <th>165</th>\n",
       "      <td>1</td>\n",
       "      <td>3</td>\n",
       "      <td>20.5250</td>\n",
       "    </tr>\n",
       "    <tr>\n",
       "      <th>50</th>\n",
       "      <td>0</td>\n",
       "      <td>3</td>\n",
       "      <td>39.6875</td>\n",
       "    </tr>\n",
       "    <tr>\n",
       "      <th>259</th>\n",
       "      <td>1</td>\n",
       "      <td>2</td>\n",
       "      <td>26.0000</td>\n",
       "    </tr>\n",
       "    <tr>\n",
       "      <th>306</th>\n",
       "      <td>1</td>\n",
       "      <td>1</td>\n",
       "      <td>110.8833</td>\n",
       "    </tr>\n",
       "  </tbody>\n",
       "</table>\n",
       "</div>"
      ],
      "text/plain": [
       "     survived  pclass      fare\n",
       "583         0       1   40.1250\n",
       "165         1       3   20.5250\n",
       "50          0       3   39.6875\n",
       "259         1       2   26.0000\n",
       "306         1       1  110.8833"
      ]
     },
     "execution_count": 108,
     "metadata": {},
     "output_type": "execute_result"
    }
   ],
   "source": [
    "train.head() "
   ]
  },
  {
   "cell_type": "markdown",
   "id": "658a6e44",
   "metadata": {},
   "source": [
    "> ##### Create & fit to nearest neighbor\n",
    ">"
   ]
  },
  {
   "cell_type": "code",
   "execution_count": 109,
   "id": "bbb63935",
   "metadata": {},
   "outputs": [
    {
     "data": {
      "text/plain": [
       "KNeighborsClassifier()"
      ]
     },
     "execution_count": 109,
     "metadata": {},
     "output_type": "execute_result"
    }
   ],
   "source": [
    "# Create and Fit the model\n",
    "\n",
    "knn = KNN(n_neighbors = 5, weights = 'uniform')\n",
    "\n",
    "# Fit\n",
    "\n",
    "knn.fit(X_train, y_train)"
   ]
  },
  {
   "cell_type": "code",
   "execution_count": 110,
   "id": "114132cf",
   "metadata": {},
   "outputs": [
    {
     "data": {
      "text/plain": [
       "array([1, 0, 0, 0, 1, 0, 1, 0, 0, 0, 0, 0, 1, 0, 1, 0, 0, 1, 0, 0, 1, 0,\n",
       "       1, 1, 0, 0, 1, 0, 1, 0, 0, 0, 0, 1, 0, 0, 0, 1, 0, 1, 0, 0, 0, 0,\n",
       "       0, 0, 0, 0, 0, 1, 0, 0, 1, 0, 0, 1, 0, 0, 0, 0, 0, 0, 0, 0, 0, 0,\n",
       "       1, 0, 0, 0, 0, 0, 0, 1, 0, 0, 0, 0, 0, 0, 0, 1, 0, 0, 0, 1, 1, 0,\n",
       "       1, 0, 0, 0, 1, 1, 0, 0, 1, 1, 1, 1, 0, 1, 1, 0, 1, 1, 0, 1, 0, 0,\n",
       "       1, 1, 0, 0, 0, 0, 0, 0, 1, 1, 0, 0, 1, 0, 0, 0, 1, 1, 0, 0, 1, 0,\n",
       "       0, 0, 0, 0, 0, 0, 0, 1, 1, 1, 0, 0, 1, 0, 0, 0, 1, 0, 0, 0, 0, 0,\n",
       "       0, 1, 0, 0, 1, 0, 0, 0, 0, 0, 0, 0, 0, 0, 0, 0, 0, 1, 1, 0, 1, 1,\n",
       "       1, 1, 0, 0, 0, 0, 0, 1, 0, 0, 0, 0, 0, 0, 1, 1, 0, 0, 1, 0, 0, 0,\n",
       "       0, 0, 0, 1, 1, 0, 0, 0, 0, 1, 0, 1, 0, 0, 1, 1, 1, 1, 0, 0, 0, 0,\n",
       "       0, 0, 0, 1, 0, 0, 1, 0, 0, 1, 0, 0, 0, 0, 0, 1, 0, 0, 0, 0, 0, 0,\n",
       "       0, 0, 1, 0, 1, 0, 0, 1, 0, 0, 0, 1, 0, 1, 0, 1, 1, 0, 0, 0, 0, 1,\n",
       "       0, 0, 0, 0, 0, 0, 0, 1, 0, 1, 0, 0, 0, 0, 0, 0, 0, 0, 0, 0, 0, 0,\n",
       "       0, 1, 1, 0, 0, 0, 0, 0, 1, 0, 0, 0, 0, 0, 0, 0, 0, 0, 0, 0, 1, 0,\n",
       "       0, 0, 0, 0, 0, 0, 0, 0, 0, 1, 0, 0, 0, 0, 1, 1, 1, 1, 1, 0, 0, 0,\n",
       "       0, 1, 0, 1, 1, 1, 0, 1, 0, 0, 0, 1, 0, 0, 0, 1, 0, 0, 1, 0, 1, 0,\n",
       "       0, 1, 1, 1, 1, 0, 0, 1, 0, 1, 0, 1, 0, 1, 0, 0, 0, 1, 0, 0, 0, 0,\n",
       "       0, 0, 1, 0, 1, 0, 1, 0, 0, 0, 1, 0, 1, 0, 1, 0, 1, 0, 0, 0, 1, 0,\n",
       "       1, 0, 1, 1, 0, 0, 1, 1, 0, 0, 0, 0, 0, 0, 0, 0, 1, 0, 1, 0, 1, 0,\n",
       "       1, 0, 1, 0, 0, 1, 0, 1, 0, 1, 0, 0, 0, 0, 0, 0, 0, 0, 0, 0, 1, 0,\n",
       "       0, 0, 0, 0, 0, 0, 0, 0, 1, 0, 1, 1, 0, 0, 1, 0, 0, 1, 0, 0, 0, 0,\n",
       "       0, 1, 0, 1, 1, 0, 0, 0, 0, 0, 0, 0, 0, 1, 0, 0, 1, 0, 0, 0, 1, 1,\n",
       "       0, 1, 0, 0, 0, 0, 1, 0, 1, 0, 0, 0, 0, 0])"
      ]
     },
     "execution_count": 110,
     "metadata": {},
     "output_type": "execute_result"
    }
   ],
   "source": [
    "# Make predictions\n",
    "\n",
    "y_pred = knn.predict(X_train)\n",
    "y_pred"
   ]
  },
  {
   "cell_type": "code",
   "execution_count": 111,
   "id": "6146cee9",
   "metadata": {
    "scrolled": true
   },
   "outputs": [
    {
     "data": {
      "text/plain": [
       "array([[0.4, 0.6, 0.8, 0.6, 0.4, 0.6, 0.4, 0.6, 0.8, 1. , 0.6, 0.6, 0. ,\n",
       "        1. , 0.2, 0.8, 0.8, 0.4, 0.8, 1. , 0.4, 0.8, 0.2, 0.4, 0.6, 1. ,\n",
       "        0. , 1. , 0.4, 0.8, 1. , 0.6, 1. , 0. , 0.6, 0.6, 0.8, 0.4, 0.6,\n",
       "        0. , 1. , 1. , 0.6, 0.6, 0.6, 1. , 0.8, 0.8, 0.8, 0.4, 1. , 0.6,\n",
       "        0.2, 0.6, 0.8, 0.2, 1. , 0.8, 0.8, 0.8, 1. , 1. , 1. , 0.8, 0.8,\n",
       "        0.8, 0.4, 0.8, 0.6, 0.6, 0.8, 1. , 0.6, 0.4, 0.8, 0.8, 0.8, 0.8,\n",
       "        0.8, 0.6, 0.6, 0.4, 0.8, 0.8, 0.8, 0.4, 0.4, 0.6, 0.4, 0.8, 1. ,\n",
       "        0.8, 0.4, 0.4, 0.8, 0.6, 0.4, 0.4, 0.4, 0.4, 1. , 0.4, 0.4, 1. ,\n",
       "        0.4, 0. , 0.6, 0. , 1. , 1. , 0.2, 0.2, 0.8, 1. , 0.8, 0.6, 1. ,\n",
       "        1. , 0.4, 0.4, 1. , 0.8, 0.4, 0.6, 0.6, 0.6, 0. , 0.4, 0.8, 0.8,\n",
       "        0.4, 1. , 0.6, 0.6, 0.8, 1. , 0.6, 0.8, 0.6, 0.4, 0.4, 0.4, 0.6,\n",
       "        0.8, 0.2, 0.6, 0.6, 0.6, 0.2, 0.6, 1. , 0.6, 0.8, 1. , 1. , 0. ,\n",
       "        0.6, 0.8, 0.4, 0.8, 0.6, 0.8, 0.6, 0.8, 1. , 1. , 0.6, 1. , 0.6,\n",
       "        0.8, 0.6, 0.4, 0.4, 0.6, 0.4, 0.4, 0.2, 0.4, 1. , 0.6, 1. , 1. ,\n",
       "        0.8, 0. , 1. , 0.6, 0.6, 0.6, 0.8, 0.8, 0.2, 0. , 0.8, 0.8, 0.4,\n",
       "        0.8, 0.8, 0.8, 0.8, 1. , 1. , 0.2, 0.4, 1. , 0.6, 0.8, 0.8, 0.4,\n",
       "        0.8, 0.4, 1. , 1. , 0.4, 0.4, 0.4, 0.2, 0.8, 0.8, 0.6, 1. , 0.6,\n",
       "        0.8, 1. , 0.2, 1. , 1. , 0.4, 0.8, 1. , 0. , 0.6, 0.8, 1. , 1. ,\n",
       "        1. , 0.4, 0.6, 1. , 0.8, 0.6, 0.8, 0.8, 0.6, 0.8, 0.4, 0.8, 0.2,\n",
       "        0.8, 0.8, 0.2, 0.8, 0.6, 0.8, 0. , 1. , 0.4, 0.8, 0.4, 0.2, 0.6,\n",
       "        0.8, 1. , 0.8, 0.4, 0.8, 0.8, 0.8, 1. , 1. , 0.8, 0.6, 0.4, 1. ,\n",
       "        0.4, 1. , 1. , 0.6, 0.8, 0.8, 0.8, 0.8, 0.6, 0.8, 0.8, 1. , 0.8,\n",
       "        0.6, 0.4, 0.4, 1. , 0.8, 0.6, 0.8, 1. , 0.4, 0.6, 0.8, 0.8, 0.6,\n",
       "        0.6, 1. , 1. , 1. , 0.8, 0.8, 0.6, 0.4, 1. , 0.8, 1. , 0.8, 0.6,\n",
       "        0.8, 0.6, 0.6, 1. , 1. , 0. , 0.6, 1. , 0.8, 1. , 0.4, 0.4, 0.4,\n",
       "        0. , 0.4, 0.6, 0.6, 0.8, 0.8, 0. , 0.8, 0.2, 0. , 0.4, 0.6, 0.4,\n",
       "        0.6, 0.8, 0.6, 0.4, 0.8, 0.6, 1. , 0.4, 0.8, 0.6, 0.2, 0.6, 0.2,\n",
       "        0.6, 0.8, 0.4, 0.2, 0.4, 0.2, 0.8, 1. , 0.2, 1. , 0.4, 0.8, 0.4,\n",
       "        0.6, 0.4, 0.8, 0.8, 0.8, 0.4, 0.8, 0.6, 0.8, 0.6, 0.6, 0.8, 0.4,\n",
       "        0.8, 0.4, 0.6, 0.2, 0.8, 0.6, 0.8, 0.4, 0.6, 0.4, 0.6, 0.2, 0.6,\n",
       "        0.4, 0.8, 0.6, 0.8, 0.2, 0.8, 0.2, 1. , 0.4, 0.4, 1. , 0.8, 0.4,\n",
       "        0.2, 0.6, 1. , 0.6, 0.8, 0.8, 1. , 0.6, 0.8, 0.4, 0.8, 0.2, 0.8,\n",
       "        0. , 0.6, 0. , 0.8, 0.4, 1. , 1. , 0. , 1. , 0.2, 1. , 0.4, 0.8,\n",
       "        0.6, 1. , 0.8, 1. , 0.6, 0.6, 0.8, 0.8, 1. , 0.4, 0.8, 1. , 0.8,\n",
       "        1. , 0.8, 1. , 0.6, 0.6, 1. , 0.4, 1. , 0. , 0. , 0.8, 0.6, 0.4,\n",
       "        0.6, 0.8, 0.4, 0.8, 0.8, 0.6, 0.8, 0.8, 0.2, 1. , 0.2, 0.4, 1. ,\n",
       "        0.8, 0.8, 0.8, 1. , 0.6, 0.8, 0.8, 0.4, 0.6, 0.8, 0.4, 1. , 0.6,\n",
       "        0.6, 0. , 0.2, 0.8, 0.4, 0.8, 1. , 0.8, 1. , 0.2, 0.6, 0.2, 1. ,\n",
       "        1. , 0.8, 0.8, 1. ],\n",
       "       [0.6, 0.4, 0.2, 0.4, 0.6, 0.4, 0.6, 0.4, 0.2, 0. , 0.4, 0.4, 1. ,\n",
       "        0. , 0.8, 0.2, 0.2, 0.6, 0.2, 0. , 0.6, 0.2, 0.8, 0.6, 0.4, 0. ,\n",
       "        1. , 0. , 0.6, 0.2, 0. , 0.4, 0. , 1. , 0.4, 0.4, 0.2, 0.6, 0.4,\n",
       "        1. , 0. , 0. , 0.4, 0.4, 0.4, 0. , 0.2, 0.2, 0.2, 0.6, 0. , 0.4,\n",
       "        0.8, 0.4, 0.2, 0.8, 0. , 0.2, 0.2, 0.2, 0. , 0. , 0. , 0.2, 0.2,\n",
       "        0.2, 0.6, 0.2, 0.4, 0.4, 0.2, 0. , 0.4, 0.6, 0.2, 0.2, 0.2, 0.2,\n",
       "        0.2, 0.4, 0.4, 0.6, 0.2, 0.2, 0.2, 0.6, 0.6, 0.4, 0.6, 0.2, 0. ,\n",
       "        0.2, 0.6, 0.6, 0.2, 0.4, 0.6, 0.6, 0.6, 0.6, 0. , 0.6, 0.6, 0. ,\n",
       "        0.6, 1. , 0.4, 1. , 0. , 0. , 0.8, 0.8, 0.2, 0. , 0.2, 0.4, 0. ,\n",
       "        0. , 0.6, 0.6, 0. , 0.2, 0.6, 0.4, 0.4, 0.4, 1. , 0.6, 0.2, 0.2,\n",
       "        0.6, 0. , 0.4, 0.4, 0.2, 0. , 0.4, 0.2, 0.4, 0.6, 0.6, 0.6, 0.4,\n",
       "        0.2, 0.8, 0.4, 0.4, 0.4, 0.8, 0.4, 0. , 0.4, 0.2, 0. , 0. , 1. ,\n",
       "        0.4, 0.2, 0.6, 0.2, 0.4, 0.2, 0.4, 0.2, 0. , 0. , 0.4, 0. , 0.4,\n",
       "        0.2, 0.4, 0.6, 0.6, 0.4, 0.6, 0.6, 0.8, 0.6, 0. , 0.4, 0. , 0. ,\n",
       "        0.2, 1. , 0. , 0.4, 0.4, 0.4, 0.2, 0.2, 0.8, 1. , 0.2, 0.2, 0.6,\n",
       "        0.2, 0.2, 0.2, 0.2, 0. , 0. , 0.8, 0.6, 0. , 0.4, 0.2, 0.2, 0.6,\n",
       "        0.2, 0.6, 0. , 0. , 0.6, 0.6, 0.6, 0.8, 0.2, 0.2, 0.4, 0. , 0.4,\n",
       "        0.2, 0. , 0.8, 0. , 0. , 0.6, 0.2, 0. , 1. , 0.4, 0.2, 0. , 0. ,\n",
       "        0. , 0.6, 0.4, 0. , 0.2, 0.4, 0.2, 0.2, 0.4, 0.2, 0.6, 0.2, 0.8,\n",
       "        0.2, 0.2, 0.8, 0.2, 0.4, 0.2, 1. , 0. , 0.6, 0.2, 0.6, 0.8, 0.4,\n",
       "        0.2, 0. , 0.2, 0.6, 0.2, 0.2, 0.2, 0. , 0. , 0.2, 0.4, 0.6, 0. ,\n",
       "        0.6, 0. , 0. , 0.4, 0.2, 0.2, 0.2, 0.2, 0.4, 0.2, 0.2, 0. , 0.2,\n",
       "        0.4, 0.6, 0.6, 0. , 0.2, 0.4, 0.2, 0. , 0.6, 0.4, 0.2, 0.2, 0.4,\n",
       "        0.4, 0. , 0. , 0. , 0.2, 0.2, 0.4, 0.6, 0. , 0.2, 0. , 0.2, 0.4,\n",
       "        0.2, 0.4, 0.4, 0. , 0. , 1. , 0.4, 0. , 0.2, 0. , 0.6, 0.6, 0.6,\n",
       "        1. , 0.6, 0.4, 0.4, 0.2, 0.2, 1. , 0.2, 0.8, 1. , 0.6, 0.4, 0.6,\n",
       "        0.4, 0.2, 0.4, 0.6, 0.2, 0.4, 0. , 0.6, 0.2, 0.4, 0.8, 0.4, 0.8,\n",
       "        0.4, 0.2, 0.6, 0.8, 0.6, 0.8, 0.2, 0. , 0.8, 0. , 0.6, 0.2, 0.6,\n",
       "        0.4, 0.6, 0.2, 0.2, 0.2, 0.6, 0.2, 0.4, 0.2, 0.4, 0.4, 0.2, 0.6,\n",
       "        0.2, 0.6, 0.4, 0.8, 0.2, 0.4, 0.2, 0.6, 0.4, 0.6, 0.4, 0.8, 0.4,\n",
       "        0.6, 0.2, 0.4, 0.2, 0.8, 0.2, 0.8, 0. , 0.6, 0.6, 0. , 0.2, 0.6,\n",
       "        0.8, 0.4, 0. , 0.4, 0.2, 0.2, 0. , 0.4, 0.2, 0.6, 0.2, 0.8, 0.2,\n",
       "        1. , 0.4, 1. , 0.2, 0.6, 0. , 0. , 1. , 0. , 0.8, 0. , 0.6, 0.2,\n",
       "        0.4, 0. , 0.2, 0. , 0.4, 0.4, 0.2, 0.2, 0. , 0.6, 0.2, 0. , 0.2,\n",
       "        0. , 0.2, 0. , 0.4, 0.4, 0. , 0.6, 0. , 1. , 1. , 0.2, 0.4, 0.6,\n",
       "        0.4, 0.2, 0.6, 0.2, 0.2, 0.4, 0.2, 0.2, 0.8, 0. , 0.8, 0.6, 0. ,\n",
       "        0.2, 0.2, 0.2, 0. , 0.4, 0.2, 0.2, 0.6, 0.4, 0.2, 0.6, 0. , 0.4,\n",
       "        0.4, 1. , 0.8, 0.2, 0.6, 0.2, 0. , 0.2, 0. , 0.8, 0.4, 0.8, 0. ,\n",
       "        0. , 0.2, 0.2, 0. ]])"
      ]
     },
     "execution_count": 111,
     "metadata": {},
     "output_type": "execute_result"
    }
   ],
   "source": [
    "# Estimate probability of pclass\n",
    "\n",
    "y_pred_proba = knn.predict_proba(X_train)\n",
    "y_pred_proba.T"
   ]
  },
  {
   "cell_type": "markdown",
   "id": "01a6737b",
   "metadata": {},
   "source": [
    "> ##### Create scaller\n",
    ">\n"
   ]
  },
  {
   "cell_type": "code",
   "execution_count": 112,
   "id": "f2f0450e",
   "metadata": {},
   "outputs": [],
   "source": [
    "\n",
    "myscaler = MinMaxScaler()"
   ]
  },
  {
   "cell_type": "code",
   "execution_count": 113,
   "id": "b1b85d58",
   "metadata": {},
   "outputs": [
    {
     "data": {
      "text/plain": [
       "MinMaxScaler()"
      ]
     },
     "execution_count": 113,
     "metadata": {},
     "output_type": "execute_result"
    }
   ],
   "source": [
    "# Fit the X_train\n",
    "\n",
    "myscaler.fit(X_train)"
   ]
  },
  {
   "cell_type": "code",
   "execution_count": 114,
   "id": "4a00d2bb",
   "metadata": {},
   "outputs": [
    {
     "data": {
      "text/plain": [
       "array([[0.        , 0.07831878],\n",
       "       [1.        , 0.04006213],\n",
       "       [1.        , 0.07746484],\n",
       "       [0.5       , 0.05074862],\n",
       "       [0.        , 0.21642979],\n",
       "       [0.5       , 0.04684488],\n",
       "       [0.5       , 0.05123659],\n",
       "       [0.5       , 0.02049464],\n",
       "       [1.        , 0.01512699],\n",
       "       [1.        , 0.13575256],\n",
       "       [1.        , 0.03945217],\n",
       "       [0.        , 0.05182215],\n",
       "       [0.5       , 0.03806147],\n",
       "       [0.        , 0.0556283 ],\n",
       "       [0.5       , 0.05270049],\n",
       "       [1.        , 0.01571255],\n",
       "       [1.        , 0.01571255],\n",
       "       [1.        , 0.01537917],\n",
       "       [0.5       , 0.02537431],\n",
       "       [1.        , 0.01546857],\n",
       "       [1.        , 0.02173075],\n",
       "       [1.        , 0.01517579],\n",
       "       [0.        , 0.16883676],\n",
       "       [0.        , 0.12999454],\n",
       "       [0.        , 0.05182215],\n",
       "       [1.        , 0.01541158],\n",
       "       [0.5       , 0.05869429],\n",
       "       [0.        , 0.05604307],\n",
       "       [0.        , 0.05060223],\n",
       "       [0.5       , 0.02537431],\n",
       "       [1.        , 0.01390707],\n",
       "       [0.5       , 0.02049464],\n",
       "       [1.        , 0.01541158],\n",
       "       [1.        , 0.11027246],\n",
       "       [0.5       , 0.02469116],\n",
       "       [0.5       , 0.02049464],\n",
       "       [0.5       , 0.02537431],\n",
       "       [0.5       , 0.05123659],\n",
       "       [1.        , 0.01921772],\n",
       "       [0.5       , 0.03659756],\n",
       "       [1.        , 0.01376068],\n",
       "       [1.        , 0.01390707],\n",
       "       [1.        , 0.06709553],\n",
       "       [0.5       , 0.04684488],\n",
       "       [0.        , 0.06050797],\n",
       "       [1.        , 0.01690807],\n",
       "       [1.        , 0.01512699],\n",
       "       [1.        , 0.01620052],\n",
       "       [1.        , 0.01512699],\n",
       "       [1.        , 0.03474329],\n",
       "       [1.        , 0.01689187],\n",
       "       [0.5       , 0.02049464],\n",
       "       [0.        , 0.15546645],\n",
       "       [0.        , 0.09662576],\n",
       "       [1.        , 0.01521639],\n",
       "       [1.        , 0.0375897 ],\n",
       "       [1.        , 0.01376068],\n",
       "       [0.5       , 0.02537431],\n",
       "       [1.        , 0.01871355],\n",
       "       [1.        , 0.01533038],\n",
       "       [0.5       , 0.08115719],\n",
       "       [0.5       , 0.        ],\n",
       "       [1.        , 0.01541158],\n",
       "       [0.5       , 0.02537431],\n",
       "       [1.        , 0.01517579],\n",
       "       [1.        , 0.01512699],\n",
       "       [1.        , 0.01411046],\n",
       "       [1.        , 0.        ],\n",
       "       [1.        , 0.04538098],\n",
       "       [0.5       , 0.02049464],\n",
       "       [1.        , 0.05684821],\n",
       "       [1.        , 0.01541158],\n",
       "       [0.5       , 0.02049464],\n",
       "       [0.        , 0.0585561 ],\n",
       "       [1.        , 0.01512699],\n",
       "       [0.        , 0.05416439],\n",
       "       [1.        , 0.01493181],\n",
       "       [0.5       , 0.02537431],\n",
       "       [1.        , 0.01512699],\n",
       "       [1.        , 0.06126432],\n",
       "       [0.5       , 0.05074862],\n",
       "       [0.        , 0.1545881 ],\n",
       "       [1.        , 0.01571255],\n",
       "       [0.5       , 0.02537431],\n",
       "       [1.        , 0.01521639],\n",
       "       [1.        , 0.03025399],\n",
       "       [0.        , 0.14891148],\n",
       "       [1.        , 0.04298994],\n",
       "       [1.        , 0.02173075],\n",
       "       [0.5       , 0.02537431],\n",
       "       [1.        , 0.01690807],\n",
       "       [1.        , 0.01512699],\n",
       "       [1.        , 0.02434958],\n",
       "       [0.        , 0.2958059 ],\n",
       "       [0.5       , 0.02537431],\n",
       "       [1.        , 0.01473662],\n",
       "       [0.        , 0.26252652],\n",
       "       [0.        , 0.05797054],\n",
       "       [0.        , 0.07729405],\n",
       "       [0.        , 0.51212189],\n",
       "       [1.        , 0.01415106],\n",
       "       [0.        , 0.41282051],\n",
       "       [0.5       , 0.04489301],\n",
       "       [1.        , 0.01690807],\n",
       "       [0.        , 0.2958059 ],\n",
       "       [0.        , 0.1036443 ],\n",
       "       [1.        , 0.06709553],\n",
       "       [0.5       , 0.03659756],\n",
       "       [1.        , 0.01415106],\n",
       "       [1.        , 0.01541158],\n",
       "       [0.        , 0.05130978],\n",
       "       [0.        , 0.05130978],\n",
       "       [0.5       , 0.14346245],\n",
       "       [1.        , 0.02821272],\n",
       "       [1.        , 0.01871355],\n",
       "       [0.5       , 0.05074862],\n",
       "       [1.        , 0.13575256],\n",
       "       [1.        , 0.01541158],\n",
       "       [0.        , 0.15216447],\n",
       "       [0.5       , 0.05416439],\n",
       "       [1.        , 0.02830212],\n",
       "       [1.        , 0.01410226],\n",
       "       [0.        , 0.15390495],\n",
       "       [1.        , 0.06709553],\n",
       "       [0.5       , 0.05074862],\n",
       "       [0.5       , 0.05074862],\n",
       "       [0.5       , 0.0585561 ],\n",
       "       [0.        , 0.21642979],\n",
       "       [1.        , 0.01694867],\n",
       "       [1.        , 0.04113566],\n",
       "       [1.        , 0.01537917],\n",
       "       [1.        , 0.01546857],\n",
       "       [1.        , 0.06104473],\n",
       "       [0.5       , 0.05074862],\n",
       "       [0.5       , 0.04098927],\n",
       "       [1.        , 0.01415106],\n",
       "       [1.        , 0.0150944 ],\n",
       "       [1.        , 0.01571255],\n",
       "       [0.5       , 0.05074862],\n",
       "       [0.        , 0.11980422],\n",
       "       [0.5       , 0.05123659],\n",
       "       [0.        , 0.29953885],\n",
       "       [0.        , 0.09856124],\n",
       "       [1.        , 0.01512699],\n",
       "       [0.5       , 0.07612293],\n",
       "       [0.        , 0.05182215],\n",
       "       [0.        , 0.13913574],\n",
       "       [0.5       , 0.03122992],\n",
       "       [0.        , 0.16231419],\n",
       "       [0.        , 0.09661757],\n",
       "       [0.5       , 0.        ],\n",
       "       [0.5       , 0.06441171],\n",
       "       [0.        , 0.0541074 ],\n",
       "       [1.        , 0.01854277],\n",
       "       [1.        , 0.02810693],\n",
       "       [1.        , 0.11027246],\n",
       "       [1.        , 0.01463083],\n",
       "       [1.        , 0.018006  ],\n",
       "       [1.        , 0.03025399],\n",
       "       [1.        , 0.01361429],\n",
       "       [0.        , 0.09662576],\n",
       "       [0.5       , 0.02537431],\n",
       "       [0.5       , 0.05074862],\n",
       "       [1.        , 0.01824998],\n",
       "       [1.        , 0.01267896],\n",
       "       [1.        , 0.01690807],\n",
       "       [1.        , 0.0915427 ],\n",
       "       [1.        , 0.01539537],\n",
       "       [0.5       , 0.05074862],\n",
       "       [1.        , 0.01571255],\n",
       "       [0.5       , 0.02635025],\n",
       "       [0.        , 0.44409922],\n",
       "       [1.        , 0.03025399],\n",
       "       [1.        , 0.04713766],\n",
       "       [0.        , 0.05953204],\n",
       "       [0.        , 0.05074862],\n",
       "       [0.        , 0.05130158],\n",
       "       [1.        , 0.01411046],\n",
       "       [1.        , 0.01546857],\n",
       "       [0.        , 0.05182215],\n",
       "       [1.        , 0.01854277],\n",
       "       [1.        , 0.01541158],\n",
       "       [1.        , 0.01571255],\n",
       "       [0.        , 0.11316786],\n",
       "       [1.        , 0.01541158],\n",
       "       [1.        , 0.01510259],\n",
       "       [0.5       , 0.05074862],\n",
       "       [0.5       , 0.05660423],\n",
       "       [1.        , 0.01317512],\n",
       "       [1.        , 0.01533038],\n",
       "       [0.5       , 0.02937564],\n",
       "       [0.        , 0.10257897],\n",
       "       [1.        , 0.01571255],\n",
       "       [0.5       , 0.02537431],\n",
       "       [0.        , 0.29953885],\n",
       "       [1.        , 0.01512699],\n",
       "       [0.5       , 0.02244651],\n",
       "       [1.        , 0.01517579],\n",
       "       [1.        , 0.01517579],\n",
       "       [1.        , 0.01854277],\n",
       "       [1.        , 0.13575256],\n",
       "       [0.        , 0.1561496 ],\n",
       "       [0.        , 0.28598956],\n",
       "       [0.        , 0.        ],\n",
       "       [1.        , 0.04006213],\n",
       "       [1.        , 0.01571255],\n",
       "       [0.5       , 0.02244651],\n",
       "       [0.        , 0.15085515],\n",
       "       [1.        , 0.01571255],\n",
       "       [0.5       , 0.0270496 ],\n",
       "       [1.        , 0.01546857],\n",
       "       [1.        , 0.01541158],\n",
       "       [1.        , 0.01411046],\n",
       "       [1.        , 0.03093714],\n",
       "       [0.        , 0.41250333],\n",
       "       [0.        , 0.05150497],\n",
       "       [1.        , 0.01517579],\n",
       "       [1.        , 0.01512699],\n",
       "       [0.5       , 0.05074862],\n",
       "       [1.        , 0.01376068],\n",
       "       [1.        , 0.02975782],\n",
       "       [1.        , 0.01571255],\n",
       "       [1.        , 0.01541158],\n",
       "       [0.        , 0.16883676],\n",
       "       [1.        , 0.01256516],\n",
       "       [1.        , 0.01690807],\n",
       "       [0.        , 0.12999454],\n",
       "       [1.        , 0.01361429],\n",
       "       [1.        , 0.01854277],\n",
       "       [1.        , 0.11027246],\n",
       "       [0.5       , 0.0239592 ],\n",
       "       [1.        , 0.01521639],\n",
       "       [1.        , 0.01541158],\n",
       "       [1.        , 0.03142511],\n",
       "       [1.        , 0.01854277],\n",
       "       [0.5       , 0.05123659],\n",
       "       [1.        , 0.03259623],\n",
       "       [1.        , 0.01541158],\n",
       "       [0.5       , 0.14346245],\n",
       "       [1.        , 0.05445717],\n",
       "       [1.        , 0.01571255],\n",
       "       [1.        , 0.01571255],\n",
       "       [0.5       , 0.02049464],\n",
       "       [0.5       , 0.02537431],\n",
       "       [0.        , 0.0585561 ],\n",
       "       [1.        , 0.01410226],\n",
       "       [0.        , 0.16231419],\n",
       "       [1.        , 0.01410226],\n",
       "       [1.        , 0.01583455],\n",
       "       [0.5       , 0.05270049],\n",
       "       [1.        , 0.01632251],\n",
       "       [0.5       , 0.05074862],\n",
       "       [1.        , 0.01571255],\n",
       "       [0.        , 0.10257897],\n",
       "       [1.        , 0.03142511],\n",
       "       [1.        , 0.0436405 ],\n",
       "       [1.        , 0.01489121],\n",
       "       [0.        , 0.44409922],\n",
       "       [0.        , 0.22109808],\n",
       "       [1.        , 0.04006213],\n",
       "       [0.5       , 0.02537431],\n",
       "       [1.        , 0.01415106],\n",
       "       [1.        , 0.01512699],\n",
       "       [0.        , 0.48312843],\n",
       "       [1.        , 0.01571255],\n",
       "       [0.5       , 0.14346245],\n",
       "       [1.        , 0.07746484],\n",
       "       [1.        , 0.01546857],\n",
       "       [1.        , 0.01427305],\n",
       "       [1.        , 0.04113566],\n",
       "       [1.        , 0.04577135],\n",
       "       [0.        , 0.48312843],\n",
       "       [1.        , 0.01541158],\n",
       "       [0.        , 0.21642979],\n",
       "       [1.        , 0.13575256],\n",
       "       [1.        , 0.01546857],\n",
       "       [1.        , 0.01467962],\n",
       "       [1.        , 0.01571255],\n",
       "       [1.        , 0.01571255],\n",
       "       [1.        , 0.01571255],\n",
       "       [1.        , 0.01571255],\n",
       "       [0.        , 0.13526459],\n",
       "       [1.        , 0.01512699],\n",
       "       [1.        , 0.01512699],\n",
       "       [1.        , 0.02830212],\n",
       "       [0.        , 0.0541074 ],\n",
       "       [0.5       , 0.02049464],\n",
       "       [0.        , 0.05953204],\n",
       "       [0.        , 0.51334181],\n",
       "       [1.        , 0.01541158],\n",
       "       [1.        , 0.01592394],\n",
       "       [0.5       , 0.05074862],\n",
       "       [1.        , 0.01571255],\n",
       "       [1.        , 0.01541158],\n",
       "       [0.        , 0.15085515],\n",
       "       [0.        , 0.06929139],\n",
       "       [0.5       , 0.02244651],\n",
       "       [1.        , 0.0179898 ],\n",
       "       [1.        , 0.0915427 ],\n",
       "       [0.        , 0.063086  ],\n",
       "       [1.        , 0.01690807],\n",
       "       [1.        , 0.01376068],\n",
       "       [1.        , 0.01258956],\n",
       "       [1.        , 0.01512699],\n",
       "       [1.        , 0.01571255],\n",
       "       [0.        , 0.05182215],\n",
       "       [0.        , 0.32179837],\n",
       "       [1.        , 0.01541158],\n",
       "       [0.5       , 0.02537431],\n",
       "       [1.        , 0.02821272],\n",
       "       [0.5       , 0.02537431],\n",
       "       [1.        , 0.04713766],\n",
       "       [1.        , 0.01512699],\n",
       "       [1.        , 0.0150944 ],\n",
       "       [1.        , 0.06104473],\n",
       "       [1.        , 0.02821272],\n",
       "       [1.        , 0.01541158],\n",
       "       [0.        , 0.10735285],\n",
       "       [0.        , 0.06050797],\n",
       "       [1.        , 0.01541158],\n",
       "       [1.        , 0.04970769],\n",
       "       [1.        , 0.01854277],\n",
       "       [0.        , 0.07690368],\n",
       "       [0.        , 0.05991421],\n",
       "       [1.        , 0.01411046],\n",
       "       [0.        , 0.10149724],\n",
       "       [0.        , 0.14976542],\n",
       "       [0.5       , 0.05074862],\n",
       "       [0.        , 0.05182215],\n",
       "       [0.5       , 0.02537431],\n",
       "       [1.        , 0.01512699],\n",
       "       [0.5       , 0.03659756],\n",
       "       [1.        , 0.01512699],\n",
       "       [0.        , 0.17777476],\n",
       "       [0.        , 0.10257897],\n",
       "       [1.        , 0.01537917],\n",
       "       [1.        , 0.05445717],\n",
       "       [1.        , 0.02194234],\n",
       "       [0.5       , 0.02049464],\n",
       "       [1.        , 0.01512699],\n",
       "       [0.5       , 0.02049464],\n",
       "       [0.5       , 0.02691961],\n",
       "       [1.        , 0.01512699],\n",
       "       [0.        , 0.06929139],\n",
       "       [0.        , 0.        ],\n",
       "       [1.        , 0.01411046],\n",
       "       [0.        , 0.0541074 ],\n",
       "       [0.        , 0.0975935 ],\n",
       "       [0.5       , 0.07173122],\n",
       "       [0.        , 0.05182215],\n",
       "       [0.        , 0.17777476],\n",
       "       [0.        , 0.06764049],\n",
       "       [1.        , 0.        ],\n",
       "       [1.        , 0.03072575],\n",
       "       [0.5       , 0.07612293],\n",
       "       [0.        , 0.15390495],\n",
       "       [0.        , 0.15276642],\n",
       "       [1.        , 0.04113566],\n",
       "       [1.        , 0.02822072],\n",
       "       [0.5       , 0.07222739],\n",
       "       [1.        , 0.01541158],\n",
       "       [1.        , 0.03093714],\n",
       "       [0.5       , 0.04098927],\n",
       "       [1.        , 0.01411046],\n",
       "       [1.        , 0.0150782 ],\n",
       "       [0.        , 0.21255864],\n",
       "       [0.5       , 0.02537431],\n",
       "       [1.        , 0.        ],\n",
       "       [1.        , 0.07746484],\n",
       "       [0.        , 0.1545881 ],\n",
       "       [0.5       , 0.02537431],\n",
       "       [1.        , 0.01511079],\n",
       "       [1.        , 0.01493181],\n",
       "       [0.5       , 0.06441171],\n",
       "       [1.        , 0.01463083],\n",
       "       [1.        , 0.01517579],\n",
       "       [0.        , 0.14687822],\n",
       "       [0.5       , 0.04098927],\n",
       "       [0.        , 0.44409922],\n",
       "       [1.        , 0.06126432],\n",
       "       [0.5       , 0.02830212],\n",
       "       [0.5       , 0.02537431],\n",
       "       [0.5       , 0.02049464],\n",
       "       [1.        , 0.01522459],\n",
       "       [0.        , 0.11940565],\n",
       "       [1.        , 0.01520019],\n",
       "       [1.        , 0.01411046],\n",
       "       [1.        , 0.01473662],\n",
       "       [0.        , 0.1756683 ],\n",
       "       [0.5       , 0.02049464],\n",
       "       [1.        , 0.01411046],\n",
       "       [0.5       , 0.02537431],\n",
       "       [0.5       , 0.05074862],\n",
       "       [0.5       , 0.02537431],\n",
       "       [0.        , 0.17391982],\n",
       "       [1.        , 0.01517579],\n",
       "       [0.5       , 0.07612293],\n",
       "       [1.        , 0.01376068],\n",
       "       [1.        , 0.01411046],\n",
       "       [1.        , 0.03513366],\n",
       "       [1.        , 0.01376068],\n",
       "       [0.5       , 0.02342244],\n",
       "       [1.        , 0.03093714],\n",
       "       [0.        , 0.16293235],\n",
       "       [0.5       , 0.02049464],\n",
       "       [1.        , 0.01854277],\n",
       "       [0.5       , 0.02635025],\n",
       "       [1.        , 0.01533038],\n",
       "       [0.5       , 0.14346245],\n",
       "       [1.        , 0.03142511],\n",
       "       [0.        , 0.05182215],\n",
       "       [1.        , 0.01338651],\n",
       "       [1.        , 0.03035158],\n",
       "       [1.        , 0.01317512],\n",
       "       [0.        , 0.17391982],\n",
       "       [0.5       , 0.02537431],\n",
       "       [0.        , 0.10149724],\n",
       "       [1.        , 0.01473662],\n",
       "       [0.        , 0.11125659],\n",
       "       [0.        , 0.06640418],\n",
       "       [0.        , 0.0585561 ],\n",
       "       [1.        , 0.01415106],\n",
       "       [0.5       , 0.        ],\n",
       "       [0.5       , 0.03806147],\n",
       "       [1.        , 0.03142511],\n",
       "       [0.5       , 0.03074195],\n",
       "       [1.        , 0.01690807],\n",
       "       [0.5       , 0.05416439],\n",
       "       [1.        , 0.01533038],\n",
       "       [1.        , 0.02975782],\n",
       "       [1.        , 0.01541158],\n",
       "       [1.        , 0.04231498],\n",
       "       [1.        , 0.02821272],\n",
       "       [0.5       , 0.02049464],\n",
       "       [1.        , 0.01567195],\n",
       "       [0.5       , 0.02537431],\n",
       "       [1.        , 0.01588334],\n",
       "       [1.        , 0.01690807],\n",
       "       [0.        , 0.51212189],\n",
       "       [1.        , 0.01571255],\n",
       "       [1.        , 0.01541158],\n",
       "       [1.        , 0.01512699],\n",
       "       [1.        , 0.01546857],\n",
       "       [0.5       , 0.02537431],\n",
       "       [1.        , 0.01415106],\n",
       "       [1.        , 0.01920972],\n",
       "       [1.        , 0.05445717],\n",
       "       [1.        , 0.13575256],\n",
       "       [0.        , 0.05953204],\n",
       "       [1.        , 0.02822072],\n",
       "       [0.        , 0.1036443 ],\n",
       "       [0.        , 0.1111184 ],\n",
       "       [1.        , 0.01410226],\n",
       "       [0.5       , 0.05074862],\n",
       "       [1.        , 0.01411046],\n",
       "       [0.        , 0.05182215],\n",
       "       [1.        , 0.05684821],\n",
       "       [0.        , 0.44409922],\n",
       "       [1.        , 0.01700567],\n",
       "       [0.5       , 0.02537431],\n",
       "       [1.        , 0.06104473],\n",
       "       [1.        , 0.01517579],\n",
       "       [0.5       , 0.02537431],\n",
       "       [0.        , 0.22109808],\n",
       "       [1.        , 0.01849397],\n",
       "       [0.        , 0.22109808],\n",
       "       [0.        , 0.21642979],\n",
       "       [1.        , 0.03142511],\n",
       "       [1.        , 0.01662349],\n",
       "       [1.        , 0.01533038],\n",
       "       [0.5       , 0.02537431],\n",
       "       [1.        , 0.01415106],\n",
       "       [0.        , 0.06538765],\n",
       "       [1.        , 0.01521639],\n",
       "       [1.        , 0.01528158],\n",
       "       [1.        , 0.01411046],\n",
       "       [0.5       , 0.02635025],\n",
       "       [1.        , 0.07746484],\n",
       "       [0.        , 0.26473857],\n",
       "       [1.        , 0.01541158],\n",
       "       [0.        , 0.12366717],\n",
       "       [0.5       , 0.06441171],\n",
       "       [0.        , 0.10821499],\n",
       "       [1.        , 0.0375897 ],\n",
       "       [1.        , 0.01571255],\n",
       "       [0.        , 1.        ],\n",
       "       [1.        , 0.01533038],\n",
       "       [1.        , 0.01415106],\n",
       "       [1.        , 0.01571255],\n",
       "       [1.        , 0.03142511],\n",
       "       [0.5       , 0.02830212],\n",
       "       [0.5       , 0.02635025],\n",
       "       [1.        , 0.0375897 ],\n",
       "       [1.        , 0.01541158],\n",
       "       [1.        , 0.01546857],\n",
       "       [1.        , 0.01571255],\n",
       "       [1.        , 0.04970769],\n",
       "       [1.        , 0.01546857]])"
      ]
     },
     "execution_count": 114,
     "metadata": {},
     "output_type": "execute_result"
    }
   ],
   "source": [
    "# Transform the fitted scaller\n",
    "\n",
    "scaled_values = myscaler.transform(X_train)\n",
    "scaled_values"
   ]
  },
  {
   "cell_type": "code",
   "execution_count": 115,
   "id": "485d414d",
   "metadata": {},
   "outputs": [
    {
     "data": {
      "text/plain": [
       "['pclass_scaled', 'fare_scaled']"
      ]
     },
     "execution_count": 115,
     "metadata": {},
     "output_type": "execute_result"
    }
   ],
   "source": [
    "scaled_cols = [col + '_scaled' for col in X_train.columns]\n",
    "scaled_cols"
   ]
  },
  {
   "cell_type": "code",
   "execution_count": 116,
   "id": "19d9571a",
   "metadata": {},
   "outputs": [
    {
     "data": {
      "text/html": [
       "<div>\n",
       "<style scoped>\n",
       "    .dataframe tbody tr th:only-of-type {\n",
       "        vertical-align: middle;\n",
       "    }\n",
       "\n",
       "    .dataframe tbody tr th {\n",
       "        vertical-align: top;\n",
       "    }\n",
       "\n",
       "    .dataframe thead th {\n",
       "        text-align: right;\n",
       "    }\n",
       "</style>\n",
       "<table border=\"1\" class=\"dataframe\">\n",
       "  <thead>\n",
       "    <tr style=\"text-align: right;\">\n",
       "      <th></th>\n",
       "      <th>pclass</th>\n",
       "      <th>fare</th>\n",
       "      <th>pclass_scaled</th>\n",
       "      <th>fare_scaled</th>\n",
       "    </tr>\n",
       "  </thead>\n",
       "  <tbody>\n",
       "    <tr>\n",
       "      <th>583</th>\n",
       "      <td>1</td>\n",
       "      <td>40.1250</td>\n",
       "      <td>0.0</td>\n",
       "      <td>0.078319</td>\n",
       "    </tr>\n",
       "    <tr>\n",
       "      <th>165</th>\n",
       "      <td>3</td>\n",
       "      <td>20.5250</td>\n",
       "      <td>1.0</td>\n",
       "      <td>0.040062</td>\n",
       "    </tr>\n",
       "    <tr>\n",
       "      <th>50</th>\n",
       "      <td>3</td>\n",
       "      <td>39.6875</td>\n",
       "      <td>1.0</td>\n",
       "      <td>0.077465</td>\n",
       "    </tr>\n",
       "    <tr>\n",
       "      <th>259</th>\n",
       "      <td>2</td>\n",
       "      <td>26.0000</td>\n",
       "      <td>0.5</td>\n",
       "      <td>0.050749</td>\n",
       "    </tr>\n",
       "    <tr>\n",
       "      <th>306</th>\n",
       "      <td>1</td>\n",
       "      <td>110.8833</td>\n",
       "      <td>0.0</td>\n",
       "      <td>0.216430</td>\n",
       "    </tr>\n",
       "  </tbody>\n",
       "</table>\n",
       "</div>"
      ],
      "text/plain": [
       "     pclass      fare  pclass_scaled  fare_scaled\n",
       "583       1   40.1250            0.0     0.078319\n",
       "165       3   20.5250            1.0     0.040062\n",
       "50        3   39.6875            1.0     0.077465\n",
       "259       2   26.0000            0.5     0.050749\n",
       "306       1  110.8833            0.0     0.216430"
      ]
     },
     "execution_count": 116,
     "metadata": {},
     "output_type": "execute_result"
    }
   ],
   "source": [
    "X_train[scaled_cols] = scaled_values\n",
    "\n",
    "X_train.head()"
   ]
  },
  {
   "cell_type": "code",
   "execution_count": 117,
   "id": "16b8fa32",
   "metadata": {},
   "outputs": [
    {
     "ename": "ValueError",
     "evalue": "Could not interpret value `age_scaled` for parameter `y`",
     "output_type": "error",
     "traceback": [
      "\u001b[0;31m---------------------------------------------------------------------------\u001b[0m",
      "\u001b[0;31mValueError\u001b[0m                                Traceback (most recent call last)",
      "\u001b[0;32m/var/folders/b2/3fdswr7x4v5fhdt54wpcfmdw0000gn/T/ipykernel_32556/589801664.py\u001b[0m in \u001b[0;36m<module>\u001b[0;34m\u001b[0m\n\u001b[0;32m----> 1\u001b[0;31m \u001b[0msns\u001b[0m\u001b[0;34m.\u001b[0m\u001b[0mscatterplot\u001b[0m\u001b[0;34m(\u001b[0m\u001b[0mdata\u001b[0m \u001b[0;34m=\u001b[0m \u001b[0mX_train\u001b[0m\u001b[0;34m,\u001b[0m \u001b[0mx\u001b[0m \u001b[0;34m=\u001b[0m \u001b[0;34m'fare_scaled'\u001b[0m\u001b[0;34m,\u001b[0m \u001b[0my\u001b[0m \u001b[0;34m=\u001b[0m \u001b[0;34m'age_scaled'\u001b[0m\u001b[0;34m,\u001b[0m \u001b[0mhue\u001b[0m \u001b[0;34m=\u001b[0m \u001b[0;34m'age'\u001b[0m\u001b[0;34m)\u001b[0m\u001b[0;34m\u001b[0m\u001b[0;34m\u001b[0m\u001b[0m\n\u001b[0m",
      "\u001b[0;32m/usr/local/anaconda3/lib/python3.9/site-packages/seaborn/_decorators.py\u001b[0m in \u001b[0;36minner_f\u001b[0;34m(*args, **kwargs)\u001b[0m\n\u001b[1;32m     44\u001b[0m             )\n\u001b[1;32m     45\u001b[0m         \u001b[0mkwargs\u001b[0m\u001b[0;34m.\u001b[0m\u001b[0mupdate\u001b[0m\u001b[0;34m(\u001b[0m\u001b[0;34m{\u001b[0m\u001b[0mk\u001b[0m\u001b[0;34m:\u001b[0m \u001b[0marg\u001b[0m \u001b[0;32mfor\u001b[0m \u001b[0mk\u001b[0m\u001b[0;34m,\u001b[0m \u001b[0marg\u001b[0m \u001b[0;32min\u001b[0m \u001b[0mzip\u001b[0m\u001b[0;34m(\u001b[0m\u001b[0msig\u001b[0m\u001b[0;34m.\u001b[0m\u001b[0mparameters\u001b[0m\u001b[0;34m,\u001b[0m \u001b[0margs\u001b[0m\u001b[0;34m)\u001b[0m\u001b[0;34m}\u001b[0m\u001b[0;34m)\u001b[0m\u001b[0;34m\u001b[0m\u001b[0;34m\u001b[0m\u001b[0m\n\u001b[0;32m---> 46\u001b[0;31m         \u001b[0;32mreturn\u001b[0m \u001b[0mf\u001b[0m\u001b[0;34m(\u001b[0m\u001b[0;34m**\u001b[0m\u001b[0mkwargs\u001b[0m\u001b[0;34m)\u001b[0m\u001b[0;34m\u001b[0m\u001b[0;34m\u001b[0m\u001b[0m\n\u001b[0m\u001b[1;32m     47\u001b[0m     \u001b[0;32mreturn\u001b[0m \u001b[0minner_f\u001b[0m\u001b[0;34m\u001b[0m\u001b[0;34m\u001b[0m\u001b[0m\n\u001b[1;32m     48\u001b[0m \u001b[0;34m\u001b[0m\u001b[0m\n",
      "\u001b[0;32m/usr/local/anaconda3/lib/python3.9/site-packages/seaborn/relational.py\u001b[0m in \u001b[0;36mscatterplot\u001b[0;34m(x, y, hue, style, size, data, palette, hue_order, hue_norm, sizes, size_order, size_norm, markers, style_order, x_bins, y_bins, units, estimator, ci, n_boot, alpha, x_jitter, y_jitter, legend, ax, **kwargs)\u001b[0m\n\u001b[1;32m    806\u001b[0m \u001b[0;34m\u001b[0m\u001b[0m\n\u001b[1;32m    807\u001b[0m     \u001b[0mvariables\u001b[0m \u001b[0;34m=\u001b[0m \u001b[0m_ScatterPlotter\u001b[0m\u001b[0;34m.\u001b[0m\u001b[0mget_semantics\u001b[0m\u001b[0;34m(\u001b[0m\u001b[0mlocals\u001b[0m\u001b[0;34m(\u001b[0m\u001b[0;34m)\u001b[0m\u001b[0;34m)\u001b[0m\u001b[0;34m\u001b[0m\u001b[0;34m\u001b[0m\u001b[0m\n\u001b[0;32m--> 808\u001b[0;31m     p = _ScatterPlotter(\n\u001b[0m\u001b[1;32m    809\u001b[0m         \u001b[0mdata\u001b[0m\u001b[0;34m=\u001b[0m\u001b[0mdata\u001b[0m\u001b[0;34m,\u001b[0m \u001b[0mvariables\u001b[0m\u001b[0;34m=\u001b[0m\u001b[0mvariables\u001b[0m\u001b[0;34m,\u001b[0m\u001b[0;34m\u001b[0m\u001b[0;34m\u001b[0m\u001b[0m\n\u001b[1;32m    810\u001b[0m         \u001b[0mx_bins\u001b[0m\u001b[0;34m=\u001b[0m\u001b[0mx_bins\u001b[0m\u001b[0;34m,\u001b[0m \u001b[0my_bins\u001b[0m\u001b[0;34m=\u001b[0m\u001b[0my_bins\u001b[0m\u001b[0;34m,\u001b[0m\u001b[0;34m\u001b[0m\u001b[0;34m\u001b[0m\u001b[0m\n",
      "\u001b[0;32m/usr/local/anaconda3/lib/python3.9/site-packages/seaborn/relational.py\u001b[0m in \u001b[0;36m__init__\u001b[0;34m(self, data, variables, x_bins, y_bins, estimator, ci, n_boot, alpha, x_jitter, y_jitter, legend)\u001b[0m\n\u001b[1;32m    585\u001b[0m         )\n\u001b[1;32m    586\u001b[0m \u001b[0;34m\u001b[0m\u001b[0m\n\u001b[0;32m--> 587\u001b[0;31m         \u001b[0msuper\u001b[0m\u001b[0;34m(\u001b[0m\u001b[0;34m)\u001b[0m\u001b[0;34m.\u001b[0m\u001b[0m__init__\u001b[0m\u001b[0;34m(\u001b[0m\u001b[0mdata\u001b[0m\u001b[0;34m=\u001b[0m\u001b[0mdata\u001b[0m\u001b[0;34m,\u001b[0m \u001b[0mvariables\u001b[0m\u001b[0;34m=\u001b[0m\u001b[0mvariables\u001b[0m\u001b[0;34m)\u001b[0m\u001b[0;34m\u001b[0m\u001b[0;34m\u001b[0m\u001b[0m\n\u001b[0m\u001b[1;32m    588\u001b[0m \u001b[0;34m\u001b[0m\u001b[0m\n\u001b[1;32m    589\u001b[0m         \u001b[0mself\u001b[0m\u001b[0;34m.\u001b[0m\u001b[0malpha\u001b[0m \u001b[0;34m=\u001b[0m \u001b[0malpha\u001b[0m\u001b[0;34m\u001b[0m\u001b[0;34m\u001b[0m\u001b[0m\n",
      "\u001b[0;32m/usr/local/anaconda3/lib/python3.9/site-packages/seaborn/_core.py\u001b[0m in \u001b[0;36m__init__\u001b[0;34m(self, data, variables)\u001b[0m\n\u001b[1;32m    603\u001b[0m     \u001b[0;32mdef\u001b[0m \u001b[0m__init__\u001b[0m\u001b[0;34m(\u001b[0m\u001b[0mself\u001b[0m\u001b[0;34m,\u001b[0m \u001b[0mdata\u001b[0m\u001b[0;34m=\u001b[0m\u001b[0;32mNone\u001b[0m\u001b[0;34m,\u001b[0m \u001b[0mvariables\u001b[0m\u001b[0;34m=\u001b[0m\u001b[0;34m{\u001b[0m\u001b[0;34m}\u001b[0m\u001b[0;34m)\u001b[0m\u001b[0;34m:\u001b[0m\u001b[0;34m\u001b[0m\u001b[0;34m\u001b[0m\u001b[0m\n\u001b[1;32m    604\u001b[0m \u001b[0;34m\u001b[0m\u001b[0m\n\u001b[0;32m--> 605\u001b[0;31m         \u001b[0mself\u001b[0m\u001b[0;34m.\u001b[0m\u001b[0massign_variables\u001b[0m\u001b[0;34m(\u001b[0m\u001b[0mdata\u001b[0m\u001b[0;34m,\u001b[0m \u001b[0mvariables\u001b[0m\u001b[0;34m)\u001b[0m\u001b[0;34m\u001b[0m\u001b[0;34m\u001b[0m\u001b[0m\n\u001b[0m\u001b[1;32m    606\u001b[0m \u001b[0;34m\u001b[0m\u001b[0m\n\u001b[1;32m    607\u001b[0m         \u001b[0;32mfor\u001b[0m \u001b[0mvar\u001b[0m\u001b[0;34m,\u001b[0m \u001b[0mcls\u001b[0m \u001b[0;32min\u001b[0m \u001b[0mself\u001b[0m\u001b[0;34m.\u001b[0m\u001b[0m_semantic_mappings\u001b[0m\u001b[0;34m.\u001b[0m\u001b[0mitems\u001b[0m\u001b[0;34m(\u001b[0m\u001b[0;34m)\u001b[0m\u001b[0;34m:\u001b[0m\u001b[0;34m\u001b[0m\u001b[0;34m\u001b[0m\u001b[0m\n",
      "\u001b[0;32m/usr/local/anaconda3/lib/python3.9/site-packages/seaborn/_core.py\u001b[0m in \u001b[0;36massign_variables\u001b[0;34m(self, data, variables)\u001b[0m\n\u001b[1;32m    666\u001b[0m         \u001b[0;32melse\u001b[0m\u001b[0;34m:\u001b[0m\u001b[0;34m\u001b[0m\u001b[0;34m\u001b[0m\u001b[0m\n\u001b[1;32m    667\u001b[0m             \u001b[0mself\u001b[0m\u001b[0;34m.\u001b[0m\u001b[0minput_format\u001b[0m \u001b[0;34m=\u001b[0m \u001b[0;34m\"long\"\u001b[0m\u001b[0;34m\u001b[0m\u001b[0;34m\u001b[0m\u001b[0m\n\u001b[0;32m--> 668\u001b[0;31m             plot_data, variables = self._assign_variables_longform(\n\u001b[0m\u001b[1;32m    669\u001b[0m                 \u001b[0mdata\u001b[0m\u001b[0;34m,\u001b[0m \u001b[0;34m**\u001b[0m\u001b[0mvariables\u001b[0m\u001b[0;34m,\u001b[0m\u001b[0;34m\u001b[0m\u001b[0;34m\u001b[0m\u001b[0m\n\u001b[1;32m    670\u001b[0m             )\n",
      "\u001b[0;32m/usr/local/anaconda3/lib/python3.9/site-packages/seaborn/_core.py\u001b[0m in \u001b[0;36m_assign_variables_longform\u001b[0;34m(self, data, **kwargs)\u001b[0m\n\u001b[1;32m    901\u001b[0m \u001b[0;34m\u001b[0m\u001b[0m\n\u001b[1;32m    902\u001b[0m                 \u001b[0merr\u001b[0m \u001b[0;34m=\u001b[0m \u001b[0;34mf\"Could not interpret value `{val}` for parameter `{key}`\"\u001b[0m\u001b[0;34m\u001b[0m\u001b[0;34m\u001b[0m\u001b[0m\n\u001b[0;32m--> 903\u001b[0;31m                 \u001b[0;32mraise\u001b[0m \u001b[0mValueError\u001b[0m\u001b[0;34m(\u001b[0m\u001b[0merr\u001b[0m\u001b[0;34m)\u001b[0m\u001b[0;34m\u001b[0m\u001b[0;34m\u001b[0m\u001b[0m\n\u001b[0m\u001b[1;32m    904\u001b[0m \u001b[0;34m\u001b[0m\u001b[0m\n\u001b[1;32m    905\u001b[0m             \u001b[0;32melse\u001b[0m\u001b[0;34m:\u001b[0m\u001b[0;34m\u001b[0m\u001b[0;34m\u001b[0m\u001b[0m\n",
      "\u001b[0;31mValueError\u001b[0m: Could not interpret value `age_scaled` for parameter `y`"
     ]
    }
   ],
   "source": [
    "sns.scatterplot(data = X_train, x = 'fare_scaled', y = 'age_scaled', hue = 'age')"
   ]
  },
  {
   "cell_type": "code",
   "execution_count": 118,
   "id": "db014f36",
   "metadata": {},
   "outputs": [
    {
     "ename": "KeyError",
     "evalue": "\"['age_scaled'] not in index\"",
     "output_type": "error",
     "traceback": [
      "\u001b[0;31m---------------------------------------------------------------------------\u001b[0m",
      "\u001b[0;31mKeyError\u001b[0m                                  Traceback (most recent call last)",
      "\u001b[0;32m/var/folders/b2/3fdswr7x4v5fhdt54wpcfmdw0000gn/T/ipykernel_32556/3842975679.py\u001b[0m in \u001b[0;36m<module>\u001b[0;34m\u001b[0m\n\u001b[1;32m      6\u001b[0m \u001b[0mcols\u001b[0m \u001b[0;34m=\u001b[0m \u001b[0;34m[\u001b[0m\u001b[0;34m'fare_scaled'\u001b[0m\u001b[0;34m,\u001b[0m \u001b[0;34m'age_scaled'\u001b[0m\u001b[0;34m,\u001b[0m \u001b[0;34m'pclass_scaled'\u001b[0m\u001b[0;34m]\u001b[0m\u001b[0;34m\u001b[0m\u001b[0;34m\u001b[0m\u001b[0m\n\u001b[1;32m      7\u001b[0m \u001b[0;34m\u001b[0m\u001b[0m\n\u001b[0;32m----> 8\u001b[0;31m \u001b[0mclf\u001b[0m\u001b[0;34m.\u001b[0m\u001b[0mfit\u001b[0m\u001b[0;34m(\u001b[0m\u001b[0mX_train\u001b[0m\u001b[0;34m[\u001b[0m\u001b[0mcols\u001b[0m\u001b[0;34m]\u001b[0m\u001b[0;34m,\u001b[0m \u001b[0my_train\u001b[0m\u001b[0;34m[\u001b[0m\u001b[0;34m'survived'\u001b[0m\u001b[0;34m]\u001b[0m\u001b[0;34m)\u001b[0m\u001b[0;34m\u001b[0m\u001b[0;34m\u001b[0m\u001b[0m\n\u001b[0m",
      "\u001b[0;32m/usr/local/anaconda3/lib/python3.9/site-packages/pandas/core/frame.py\u001b[0m in \u001b[0;36m__getitem__\u001b[0;34m(self, key)\u001b[0m\n\u001b[1;32m   3462\u001b[0m             \u001b[0;32mif\u001b[0m \u001b[0mis_iterator\u001b[0m\u001b[0;34m(\u001b[0m\u001b[0mkey\u001b[0m\u001b[0;34m)\u001b[0m\u001b[0;34m:\u001b[0m\u001b[0;34m\u001b[0m\u001b[0;34m\u001b[0m\u001b[0m\n\u001b[1;32m   3463\u001b[0m                 \u001b[0mkey\u001b[0m \u001b[0;34m=\u001b[0m \u001b[0mlist\u001b[0m\u001b[0;34m(\u001b[0m\u001b[0mkey\u001b[0m\u001b[0;34m)\u001b[0m\u001b[0;34m\u001b[0m\u001b[0;34m\u001b[0m\u001b[0m\n\u001b[0;32m-> 3464\u001b[0;31m             \u001b[0mindexer\u001b[0m \u001b[0;34m=\u001b[0m \u001b[0mself\u001b[0m\u001b[0;34m.\u001b[0m\u001b[0mloc\u001b[0m\u001b[0;34m.\u001b[0m\u001b[0m_get_listlike_indexer\u001b[0m\u001b[0;34m(\u001b[0m\u001b[0mkey\u001b[0m\u001b[0;34m,\u001b[0m \u001b[0maxis\u001b[0m\u001b[0;34m=\u001b[0m\u001b[0;36m1\u001b[0m\u001b[0;34m)\u001b[0m\u001b[0;34m[\u001b[0m\u001b[0;36m1\u001b[0m\u001b[0;34m]\u001b[0m\u001b[0;34m\u001b[0m\u001b[0;34m\u001b[0m\u001b[0m\n\u001b[0m\u001b[1;32m   3465\u001b[0m \u001b[0;34m\u001b[0m\u001b[0m\n\u001b[1;32m   3466\u001b[0m         \u001b[0;31m# take() does not accept boolean indexers\u001b[0m\u001b[0;34m\u001b[0m\u001b[0;34m\u001b[0m\u001b[0m\n",
      "\u001b[0;32m/usr/local/anaconda3/lib/python3.9/site-packages/pandas/core/indexing.py\u001b[0m in \u001b[0;36m_get_listlike_indexer\u001b[0;34m(self, key, axis)\u001b[0m\n\u001b[1;32m   1312\u001b[0m             \u001b[0mkeyarr\u001b[0m\u001b[0;34m,\u001b[0m \u001b[0mindexer\u001b[0m\u001b[0;34m,\u001b[0m \u001b[0mnew_indexer\u001b[0m \u001b[0;34m=\u001b[0m \u001b[0max\u001b[0m\u001b[0;34m.\u001b[0m\u001b[0m_reindex_non_unique\u001b[0m\u001b[0;34m(\u001b[0m\u001b[0mkeyarr\u001b[0m\u001b[0;34m)\u001b[0m\u001b[0;34m\u001b[0m\u001b[0;34m\u001b[0m\u001b[0m\n\u001b[1;32m   1313\u001b[0m \u001b[0;34m\u001b[0m\u001b[0m\n\u001b[0;32m-> 1314\u001b[0;31m         \u001b[0mself\u001b[0m\u001b[0;34m.\u001b[0m\u001b[0m_validate_read_indexer\u001b[0m\u001b[0;34m(\u001b[0m\u001b[0mkeyarr\u001b[0m\u001b[0;34m,\u001b[0m \u001b[0mindexer\u001b[0m\u001b[0;34m,\u001b[0m \u001b[0maxis\u001b[0m\u001b[0;34m)\u001b[0m\u001b[0;34m\u001b[0m\u001b[0;34m\u001b[0m\u001b[0m\n\u001b[0m\u001b[1;32m   1315\u001b[0m \u001b[0;34m\u001b[0m\u001b[0m\n\u001b[1;32m   1316\u001b[0m         if needs_i8_conversion(ax.dtype) or isinstance(\n",
      "\u001b[0;32m/usr/local/anaconda3/lib/python3.9/site-packages/pandas/core/indexing.py\u001b[0m in \u001b[0;36m_validate_read_indexer\u001b[0;34m(self, key, indexer, axis)\u001b[0m\n\u001b[1;32m   1375\u001b[0m \u001b[0;34m\u001b[0m\u001b[0m\n\u001b[1;32m   1376\u001b[0m             \u001b[0mnot_found\u001b[0m \u001b[0;34m=\u001b[0m \u001b[0mlist\u001b[0m\u001b[0;34m(\u001b[0m\u001b[0mensure_index\u001b[0m\u001b[0;34m(\u001b[0m\u001b[0mkey\u001b[0m\u001b[0;34m)\u001b[0m\u001b[0;34m[\u001b[0m\u001b[0mmissing_mask\u001b[0m\u001b[0;34m.\u001b[0m\u001b[0mnonzero\u001b[0m\u001b[0;34m(\u001b[0m\u001b[0;34m)\u001b[0m\u001b[0;34m[\u001b[0m\u001b[0;36m0\u001b[0m\u001b[0;34m]\u001b[0m\u001b[0;34m]\u001b[0m\u001b[0;34m.\u001b[0m\u001b[0munique\u001b[0m\u001b[0;34m(\u001b[0m\u001b[0;34m)\u001b[0m\u001b[0;34m)\u001b[0m\u001b[0;34m\u001b[0m\u001b[0;34m\u001b[0m\u001b[0m\n\u001b[0;32m-> 1377\u001b[0;31m             \u001b[0;32mraise\u001b[0m \u001b[0mKeyError\u001b[0m\u001b[0;34m(\u001b[0m\u001b[0;34mf\"{not_found} not in index\"\u001b[0m\u001b[0;34m)\u001b[0m\u001b[0;34m\u001b[0m\u001b[0;34m\u001b[0m\u001b[0m\n\u001b[0m\u001b[1;32m   1378\u001b[0m \u001b[0;34m\u001b[0m\u001b[0m\n\u001b[1;32m   1379\u001b[0m \u001b[0;34m\u001b[0m\u001b[0m\n",
      "\u001b[0;31mKeyError\u001b[0m: \"['age_scaled'] not in index\""
     ]
    }
   ],
   "source": [
    "clf = KNN(n_neighbors = 4, weights = 'uniform')\n",
    "\n",
    "\n",
    "clf.fit(X_train, y_train)\n",
    "\n",
    "cols = ['fare_scaled', 'age_scaled', 'pclass_scaled']\n",
    "\n",
    "clf.fit(X_train[cols], y_train['survived'])"
   ]
  },
  {
   "cell_type": "code",
   "execution_count": 119,
   "id": "cc78a0f0",
   "metadata": {},
   "outputs": [
    {
     "data": {
      "image/png": "[encoded data removed]",
      "text/plain": [
       "<Figure size 432x288 with 1 Axes>"
      ]
     },
     "metadata": {
      "needs_background": "light"
     },
     "output_type": "display_data"
    }
   ],
   "source": [
    "sns.scatterplot(data = train, x = 'survived', y = 'fare', hue = 'survived')\n",
    "plt.scatter(validate.survived, validate.fare, marker ='x', c = 'black')\n",
    "plt.show()"
   ]
  },
  {
   "cell_type": "markdown",
   "id": "21c75165",
   "metadata": {},
   "source": [
    "### 2). Evaluate your results using the model score, confusion matrix, and classification report.\n",
    "\n"
   ]
  },
  {
   "cell_type": "code",
   "execution_count": 120,
   "id": "ad1fa9b1",
   "metadata": {},
   "outputs": [],
   "source": [
    "knn = KNN(n_neighbors = 5, weights='uniform')\n"
   ]
  },
  {
   "cell_type": "code",
   "execution_count": 121,
   "id": "406f509e",
   "metadata": {},
   "outputs": [
    {
     "data": {
      "text/plain": [
       "KNeighborsClassifier()"
      ]
     },
     "execution_count": 121,
     "metadata": {},
     "output_type": "execute_result"
    }
   ],
   "source": [
    "# Fit the model\n",
    "\n",
    "knn.fit(X_train, y_train)"
   ]
  },
  {
   "cell_type": "markdown",
   "id": "e30ee57f",
   "metadata": {},
   "source": [
    "> #####  Computed Accuracy \n",
    ">"
   ]
  },
  {
   "cell_type": "code",
   "execution_count": 122,
   "id": "1cfaf4b8",
   "metadata": {},
   "outputs": [
    {
     "name": "stdout",
     "output_type": "stream",
     "text": [
      "Accuracy of KNN classifier on training set: 0.74\n"
     ]
    }
   ],
   "source": [
    "print('Accuracy of KNN classifier on training set: {:.2f}'\n",
    "     .format(knn.score(X_train, y_train)))"
   ]
  },
  {
   "cell_type": "markdown",
   "id": "cee694ea",
   "metadata": {},
   "source": [
    "> ##### Confusion Matrix\n",
    ">"
   ]
  },
  {
   "cell_type": "code",
   "execution_count": 123,
   "id": "c44efcaf",
   "metadata": {},
   "outputs": [
    {
     "name": "stdout",
     "output_type": "stream",
     "text": [
      "[[265  42]\n",
      " [ 87 104]]\n"
     ]
    }
   ],
   "source": [
    "print(confusion_matrix(y_train, y_pred))\n"
   ]
  },
  {
   "cell_type": "markdown",
   "id": "7627d63e",
   "metadata": {},
   "source": [
    "> ##### Classification Report\n",
    ">"
   ]
  },
  {
   "cell_type": "code",
   "execution_count": 124,
   "id": "90389d20",
   "metadata": {},
   "outputs": [
    {
     "name": "stdout",
     "output_type": "stream",
     "text": [
      "              precision    recall  f1-score   support\n",
      "\n",
      "           0       0.75      0.86      0.80       307\n",
      "           1       0.71      0.54      0.62       191\n",
      "\n",
      "    accuracy                           0.74       498\n",
      "   macro avg       0.73      0.70      0.71       498\n",
      "weighted avg       0.74      0.74      0.73       498\n",
      "\n"
     ]
    }
   ],
   "source": [
    "print(classification_report(y_train, y_pred))\n"
   ]
  },
  {
   "cell_type": "markdown",
   "id": "04d517da",
   "metadata": {},
   "source": [
    "### 3). Print and clearly label the following: Accuracy, true positive rate, false positive rate, true negative rate, false negative rate, precision, recall, f1-score, and support."
   ]
  },
  {
   "cell_type": "code",
   "execution_count": null,
   "id": "a7bdc2bc",
   "metadata": {},
   "outputs": [],
   "source": []
  },
  {
   "cell_type": "markdown",
   "id": "0588f355",
   "metadata": {},
   "source": [
    "### 4). Run through steps 2-4 setting k to 10\n",
    "\n"
   ]
  },
  {
   "cell_type": "code",
   "execution_count": 125,
   "id": "9e665ecf",
   "metadata": {},
   "outputs": [
    {
     "name": "stdout",
     "output_type": "stream",
     "text": [
      "Accuracy of KNN classifier on training set: 0.71\n"
     ]
    }
   ],
   "source": [
    "knn = KNN(n_neighbors = 10, weights='uniform')\n",
    "\n",
    "knn.fit(X_train, y_train)\n",
    "\n",
    "\n",
    "print('Accuracy of KNN classifier on training set: {:.2f}'\n",
    "     .format(knn.score(X_train, y_train)))\n"
   ]
  },
  {
   "cell_type": "code",
   "execution_count": 126,
   "id": "05c728f5",
   "metadata": {},
   "outputs": [
    {
     "name": "stdout",
     "output_type": "stream",
     "text": [
      "[[265  42]\n",
      " [ 87 104]]\n"
     ]
    }
   ],
   "source": [
    "print(confusion_matrix(y_train, y_pred))\n"
   ]
  },
  {
   "cell_type": "code",
   "execution_count": 127,
   "id": "57081410",
   "metadata": {},
   "outputs": [
    {
     "name": "stdout",
     "output_type": "stream",
     "text": [
      "              precision    recall  f1-score   support\n",
      "\n",
      "           0       0.75      0.86      0.80       307\n",
      "           1       0.71      0.54      0.62       191\n",
      "\n",
      "    accuracy                           0.74       498\n",
      "   macro avg       0.73      0.70      0.71       498\n",
      "weighted avg       0.74      0.74      0.73       498\n",
      "\n"
     ]
    }
   ],
   "source": [
    "print(classification_report(y_train, y_pred))\n"
   ]
  },
  {
   "cell_type": "markdown",
   "id": "24595ab0",
   "metadata": {},
   "source": [
    "### 5). Run through setps 2-4 setting k to 20\n",
    "\n"
   ]
  },
  {
   "cell_type": "code",
   "execution_count": 128,
   "id": "55b99196",
   "metadata": {},
   "outputs": [
    {
     "name": "stdout",
     "output_type": "stream",
     "text": [
      "Accuracy of KNN classifier on training set: 0.68\n"
     ]
    }
   ],
   "source": [
    "knn = KNN(n_neighbors = 20, weights='uniform')\n",
    "\n",
    "knn.fit(X_train, y_train)\n",
    "\n",
    "\n",
    "print('Accuracy of KNN classifier on training set: {:.2f}'\n",
    "     .format(knn.score(X_train, y_train)))"
   ]
  },
  {
   "cell_type": "code",
   "execution_count": 129,
   "id": "680c053a",
   "metadata": {},
   "outputs": [
    {
     "name": "stdout",
     "output_type": "stream",
     "text": [
      "[[265  42]\n",
      " [ 87 104]]\n"
     ]
    }
   ],
   "source": [
    "print(confusion_matrix(y_train, y_pred))\n"
   ]
  },
  {
   "cell_type": "code",
   "execution_count": 130,
   "id": "2fb3e1b9",
   "metadata": {},
   "outputs": [
    {
     "name": "stdout",
     "output_type": "stream",
     "text": [
      "              precision    recall  f1-score   support\n",
      "\n",
      "           0       0.75      0.86      0.80       307\n",
      "           1       0.71      0.54      0.62       191\n",
      "\n",
      "    accuracy                           0.74       498\n",
      "   macro avg       0.73      0.70      0.71       498\n",
      "weighted avg       0.74      0.74      0.73       498\n",
      "\n"
     ]
    }
   ],
   "source": [
    "print(classification_report(y_train, y_pred))\n"
   ]
  },
  {
   "cell_type": "markdown",
   "id": "bbef09fa",
   "metadata": {},
   "source": [
    "### 6). What are the differences in the evaluation metrics? Which performs better on your in-sample data? Why?"
   ]
  },
  {
   "cell_type": "markdown",
   "id": "50523a03",
   "metadata": {},
   "source": [
    ">> **Best model (KNeighbor = 5) = 74%**"
   ]
  },
  {
   "cell_type": "markdown",
   "id": "a86bf80a",
   "metadata": {},
   "source": [
    "### 7). Which model performs best on our out-of-sample data from validate?\n",
    "\n"
   ]
  },
  {
   "cell_type": "code",
   "execution_count": 131,
   "id": "b2203002",
   "metadata": {},
   "outputs": [
    {
     "ename": "ValueError",
     "evalue": "X has 2 features, but KNeighborsClassifier is expecting 4 features as input.",
     "output_type": "error",
     "traceback": [
      "\u001b[0;31m---------------------------------------------------------------------------\u001b[0m",
      "\u001b[0;31mValueError\u001b[0m                                Traceback (most recent call last)",
      "\u001b[0;32m/var/folders/b2/3fdswr7x4v5fhdt54wpcfmdw0000gn/T/ipykernel_32556/4029978586.py\u001b[0m in \u001b[0;36m<module>\u001b[0;34m\u001b[0m\n\u001b[1;32m      1\u001b[0m print('Accuracy of KNN classifier on test set: {:.2f}'\n\u001b[0;32m----> 2\u001b[0;31m      .format(knn.score(X_validate, y_validate)))\n\u001b[0m",
      "\u001b[0;32m/usr/local/anaconda3/lib/python3.9/site-packages/sklearn/base.py\u001b[0m in \u001b[0;36mscore\u001b[0;34m(self, X, y, sample_weight)\u001b[0m\n\u001b[1;32m    649\u001b[0m         \u001b[0;32mfrom\u001b[0m \u001b[0;34m.\u001b[0m\u001b[0mmetrics\u001b[0m \u001b[0;32mimport\u001b[0m \u001b[0maccuracy_score\u001b[0m\u001b[0;34m\u001b[0m\u001b[0;34m\u001b[0m\u001b[0m\n\u001b[1;32m    650\u001b[0m \u001b[0;34m\u001b[0m\u001b[0m\n\u001b[0;32m--> 651\u001b[0;31m         \u001b[0;32mreturn\u001b[0m \u001b[0maccuracy_score\u001b[0m\u001b[0;34m(\u001b[0m\u001b[0my\u001b[0m\u001b[0;34m,\u001b[0m \u001b[0mself\u001b[0m\u001b[0;34m.\u001b[0m\u001b[0mpredict\u001b[0m\u001b[0;34m(\u001b[0m\u001b[0mX\u001b[0m\u001b[0;34m)\u001b[0m\u001b[0;34m,\u001b[0m \u001b[0msample_weight\u001b[0m\u001b[0;34m=\u001b[0m\u001b[0msample_weight\u001b[0m\u001b[0;34m)\u001b[0m\u001b[0;34m\u001b[0m\u001b[0;34m\u001b[0m\u001b[0m\n\u001b[0m\u001b[1;32m    652\u001b[0m \u001b[0;34m\u001b[0m\u001b[0m\n\u001b[1;32m    653\u001b[0m     \u001b[0;32mdef\u001b[0m \u001b[0m_more_tags\u001b[0m\u001b[0;34m(\u001b[0m\u001b[0mself\u001b[0m\u001b[0;34m)\u001b[0m\u001b[0;34m:\u001b[0m\u001b[0;34m\u001b[0m\u001b[0;34m\u001b[0m\u001b[0m\n",
      "\u001b[0;32m/usr/local/anaconda3/lib/python3.9/site-packages/sklearn/neighbors/_classification.py\u001b[0m in \u001b[0;36mpredict\u001b[0;34m(self, X)\u001b[0m\n\u001b[1;32m    212\u001b[0m             \u001b[0mClass\u001b[0m \u001b[0mlabels\u001b[0m \u001b[0;32mfor\u001b[0m \u001b[0meach\u001b[0m \u001b[0mdata\u001b[0m \u001b[0msample\u001b[0m\u001b[0;34m.\u001b[0m\u001b[0;34m\u001b[0m\u001b[0;34m\u001b[0m\u001b[0m\n\u001b[1;32m    213\u001b[0m         \"\"\"\n\u001b[0;32m--> 214\u001b[0;31m         \u001b[0mneigh_dist\u001b[0m\u001b[0;34m,\u001b[0m \u001b[0mneigh_ind\u001b[0m \u001b[0;34m=\u001b[0m \u001b[0mself\u001b[0m\u001b[0;34m.\u001b[0m\u001b[0mkneighbors\u001b[0m\u001b[0;34m(\u001b[0m\u001b[0mX\u001b[0m\u001b[0;34m)\u001b[0m\u001b[0;34m\u001b[0m\u001b[0;34m\u001b[0m\u001b[0m\n\u001b[0m\u001b[1;32m    215\u001b[0m         \u001b[0mclasses_\u001b[0m \u001b[0;34m=\u001b[0m \u001b[0mself\u001b[0m\u001b[0;34m.\u001b[0m\u001b[0mclasses_\u001b[0m\u001b[0;34m\u001b[0m\u001b[0;34m\u001b[0m\u001b[0m\n\u001b[1;32m    216\u001b[0m         \u001b[0m_y\u001b[0m \u001b[0;34m=\u001b[0m \u001b[0mself\u001b[0m\u001b[0;34m.\u001b[0m\u001b[0m_y\u001b[0m\u001b[0;34m\u001b[0m\u001b[0;34m\u001b[0m\u001b[0m\n",
      "\u001b[0;32m/usr/local/anaconda3/lib/python3.9/site-packages/sklearn/neighbors/_base.py\u001b[0m in \u001b[0;36mkneighbors\u001b[0;34m(self, X, n_neighbors, return_distance)\u001b[0m\n\u001b[1;32m    715\u001b[0m                 \u001b[0mX\u001b[0m \u001b[0;34m=\u001b[0m \u001b[0m_check_precomputed\u001b[0m\u001b[0;34m(\u001b[0m\u001b[0mX\u001b[0m\u001b[0;34m)\u001b[0m\u001b[0;34m\u001b[0m\u001b[0;34m\u001b[0m\u001b[0m\n\u001b[1;32m    716\u001b[0m             \u001b[0;32melse\u001b[0m\u001b[0;34m:\u001b[0m\u001b[0;34m\u001b[0m\u001b[0;34m\u001b[0m\u001b[0m\n\u001b[0;32m--> 717\u001b[0;31m                 \u001b[0mX\u001b[0m \u001b[0;34m=\u001b[0m \u001b[0mself\u001b[0m\u001b[0;34m.\u001b[0m\u001b[0m_validate_data\u001b[0m\u001b[0;34m(\u001b[0m\u001b[0mX\u001b[0m\u001b[0;34m,\u001b[0m \u001b[0maccept_sparse\u001b[0m\u001b[0;34m=\u001b[0m\u001b[0;34m\"csr\"\u001b[0m\u001b[0;34m,\u001b[0m \u001b[0mreset\u001b[0m\u001b[0;34m=\u001b[0m\u001b[0;32mFalse\u001b[0m\u001b[0;34m)\u001b[0m\u001b[0;34m\u001b[0m\u001b[0;34m\u001b[0m\u001b[0m\n\u001b[0m\u001b[1;32m    718\u001b[0m         \u001b[0;32melse\u001b[0m\u001b[0;34m:\u001b[0m\u001b[0;34m\u001b[0m\u001b[0;34m\u001b[0m\u001b[0m\n\u001b[1;32m    719\u001b[0m             \u001b[0mquery_is_train\u001b[0m \u001b[0;34m=\u001b[0m \u001b[0;32mTrue\u001b[0m\u001b[0;34m\u001b[0m\u001b[0;34m\u001b[0m\u001b[0m\n",
      "\u001b[0;32m/usr/local/anaconda3/lib/python3.9/site-packages/sklearn/base.py\u001b[0m in \u001b[0;36m_validate_data\u001b[0;34m(self, X, y, reset, validate_separately, **check_params)\u001b[0m\n\u001b[1;32m    583\u001b[0m \u001b[0;34m\u001b[0m\u001b[0m\n\u001b[1;32m    584\u001b[0m         \u001b[0;32mif\u001b[0m \u001b[0;32mnot\u001b[0m \u001b[0mno_val_X\u001b[0m \u001b[0;32mand\u001b[0m \u001b[0mcheck_params\u001b[0m\u001b[0;34m.\u001b[0m\u001b[0mget\u001b[0m\u001b[0;34m(\u001b[0m\u001b[0;34m\"ensure_2d\"\u001b[0m\u001b[0;34m,\u001b[0m \u001b[0;32mTrue\u001b[0m\u001b[0;34m)\u001b[0m\u001b[0;34m:\u001b[0m\u001b[0;34m\u001b[0m\u001b[0;34m\u001b[0m\u001b[0m\n\u001b[0;32m--> 585\u001b[0;31m             \u001b[0mself\u001b[0m\u001b[0;34m.\u001b[0m\u001b[0m_check_n_features\u001b[0m\u001b[0;34m(\u001b[0m\u001b[0mX\u001b[0m\u001b[0;34m,\u001b[0m \u001b[0mreset\u001b[0m\u001b[0;34m=\u001b[0m\u001b[0mreset\u001b[0m\u001b[0;34m)\u001b[0m\u001b[0;34m\u001b[0m\u001b[0;34m\u001b[0m\u001b[0m\n\u001b[0m\u001b[1;32m    586\u001b[0m \u001b[0;34m\u001b[0m\u001b[0m\n\u001b[1;32m    587\u001b[0m         \u001b[0;32mreturn\u001b[0m \u001b[0mout\u001b[0m\u001b[0;34m\u001b[0m\u001b[0;34m\u001b[0m\u001b[0m\n",
      "\u001b[0;32m/usr/local/anaconda3/lib/python3.9/site-packages/sklearn/base.py\u001b[0m in \u001b[0;36m_check_n_features\u001b[0;34m(self, X, reset)\u001b[0m\n\u001b[1;32m    398\u001b[0m \u001b[0;34m\u001b[0m\u001b[0m\n\u001b[1;32m    399\u001b[0m         \u001b[0;32mif\u001b[0m \u001b[0mn_features\u001b[0m \u001b[0;34m!=\u001b[0m \u001b[0mself\u001b[0m\u001b[0;34m.\u001b[0m\u001b[0mn_features_in_\u001b[0m\u001b[0;34m:\u001b[0m\u001b[0;34m\u001b[0m\u001b[0;34m\u001b[0m\u001b[0m\n\u001b[0;32m--> 400\u001b[0;31m             raise ValueError(\n\u001b[0m\u001b[1;32m    401\u001b[0m                 \u001b[0;34mf\"X has {n_features} features, but {self.__class__.__name__} \"\u001b[0m\u001b[0;34m\u001b[0m\u001b[0;34m\u001b[0m\u001b[0m\n\u001b[1;32m    402\u001b[0m                 \u001b[0;34mf\"is expecting {self.n_features_in_} features as input.\"\u001b[0m\u001b[0;34m\u001b[0m\u001b[0;34m\u001b[0m\u001b[0m\n",
      "\u001b[0;31mValueError\u001b[0m: X has 2 features, but KNeighborsClassifier is expecting 4 features as input."
     ]
    }
   ],
   "source": [
    "print('Accuracy of KNN classifier on test set: {:.2f}'\n",
    "     .format(knn.score(X_validate, y_validate)))\n"
   ]
  },
  {
   "cell_type": "code",
   "execution_count": 132,
   "id": "dff86ed3",
   "metadata": {},
   "outputs": [
    {
     "ename": "ValueError",
     "evalue": "X has 2 features, but KNeighborsClassifier is expecting 4 features as input.",
     "output_type": "error",
     "traceback": [
      "\u001b[0;31m---------------------------------------------------------------------------\u001b[0m",
      "\u001b[0;31mValueError\u001b[0m                                Traceback (most recent call last)",
      "\u001b[0;32m/var/folders/b2/3fdswr7x4v5fhdt54wpcfmdw0000gn/T/ipykernel_32556/596924301.py\u001b[0m in \u001b[0;36m<module>\u001b[0;34m\u001b[0m\n\u001b[1;32m      4\u001b[0m     \u001b[0mknn\u001b[0m \u001b[0;34m=\u001b[0m \u001b[0mKNN\u001b[0m\u001b[0;34m(\u001b[0m\u001b[0mn_neighbors\u001b[0m \u001b[0;34m=\u001b[0m \u001b[0mk\u001b[0m\u001b[0;34m)\u001b[0m\u001b[0;34m\u001b[0m\u001b[0;34m\u001b[0m\u001b[0m\n\u001b[1;32m      5\u001b[0m     \u001b[0mknn\u001b[0m\u001b[0;34m.\u001b[0m\u001b[0mfit\u001b[0m\u001b[0;34m(\u001b[0m\u001b[0mX_train\u001b[0m\u001b[0;34m,\u001b[0m \u001b[0my_train\u001b[0m\u001b[0;34m)\u001b[0m\u001b[0;34m\u001b[0m\u001b[0;34m\u001b[0m\u001b[0m\n\u001b[0;32m----> 6\u001b[0;31m     \u001b[0mscores\u001b[0m\u001b[0;34m.\u001b[0m\u001b[0mappend\u001b[0m\u001b[0;34m(\u001b[0m\u001b[0mknn\u001b[0m\u001b[0;34m.\u001b[0m\u001b[0mscore\u001b[0m\u001b[0;34m(\u001b[0m\u001b[0mX_test\u001b[0m\u001b[0;34m,\u001b[0m \u001b[0my_test\u001b[0m\u001b[0;34m)\u001b[0m\u001b[0;34m)\u001b[0m\u001b[0;34m\u001b[0m\u001b[0;34m\u001b[0m\u001b[0m\n\u001b[0m\u001b[1;32m      7\u001b[0m \u001b[0mplt\u001b[0m\u001b[0;34m.\u001b[0m\u001b[0mfigure\u001b[0m\u001b[0;34m(\u001b[0m\u001b[0;34m)\u001b[0m\u001b[0;34m\u001b[0m\u001b[0;34m\u001b[0m\u001b[0m\n\u001b[1;32m      8\u001b[0m \u001b[0mplt\u001b[0m\u001b[0;34m.\u001b[0m\u001b[0mxlabel\u001b[0m\u001b[0;34m(\u001b[0m\u001b[0;34m'k'\u001b[0m\u001b[0;34m)\u001b[0m\u001b[0;34m\u001b[0m\u001b[0;34m\u001b[0m\u001b[0m\n",
      "\u001b[0;32m/usr/local/anaconda3/lib/python3.9/site-packages/sklearn/base.py\u001b[0m in \u001b[0;36mscore\u001b[0;34m(self, X, y, sample_weight)\u001b[0m\n\u001b[1;32m    649\u001b[0m         \u001b[0;32mfrom\u001b[0m \u001b[0;34m.\u001b[0m\u001b[0mmetrics\u001b[0m \u001b[0;32mimport\u001b[0m \u001b[0maccuracy_score\u001b[0m\u001b[0;34m\u001b[0m\u001b[0;34m\u001b[0m\u001b[0m\n\u001b[1;32m    650\u001b[0m \u001b[0;34m\u001b[0m\u001b[0m\n\u001b[0;32m--> 651\u001b[0;31m         \u001b[0;32mreturn\u001b[0m \u001b[0maccuracy_score\u001b[0m\u001b[0;34m(\u001b[0m\u001b[0my\u001b[0m\u001b[0;34m,\u001b[0m \u001b[0mself\u001b[0m\u001b[0;34m.\u001b[0m\u001b[0mpredict\u001b[0m\u001b[0;34m(\u001b[0m\u001b[0mX\u001b[0m\u001b[0;34m)\u001b[0m\u001b[0;34m,\u001b[0m \u001b[0msample_weight\u001b[0m\u001b[0;34m=\u001b[0m\u001b[0msample_weight\u001b[0m\u001b[0;34m)\u001b[0m\u001b[0;34m\u001b[0m\u001b[0;34m\u001b[0m\u001b[0m\n\u001b[0m\u001b[1;32m    652\u001b[0m \u001b[0;34m\u001b[0m\u001b[0m\n\u001b[1;32m    653\u001b[0m     \u001b[0;32mdef\u001b[0m \u001b[0m_more_tags\u001b[0m\u001b[0;34m(\u001b[0m\u001b[0mself\u001b[0m\u001b[0;34m)\u001b[0m\u001b[0;34m:\u001b[0m\u001b[0;34m\u001b[0m\u001b[0;34m\u001b[0m\u001b[0m\n",
      "\u001b[0;32m/usr/local/anaconda3/lib/python3.9/site-packages/sklearn/neighbors/_classification.py\u001b[0m in \u001b[0;36mpredict\u001b[0;34m(self, X)\u001b[0m\n\u001b[1;32m    212\u001b[0m             \u001b[0mClass\u001b[0m \u001b[0mlabels\u001b[0m \u001b[0;32mfor\u001b[0m \u001b[0meach\u001b[0m \u001b[0mdata\u001b[0m \u001b[0msample\u001b[0m\u001b[0;34m.\u001b[0m\u001b[0;34m\u001b[0m\u001b[0;34m\u001b[0m\u001b[0m\n\u001b[1;32m    213\u001b[0m         \"\"\"\n\u001b[0;32m--> 214\u001b[0;31m         \u001b[0mneigh_dist\u001b[0m\u001b[0;34m,\u001b[0m \u001b[0mneigh_ind\u001b[0m \u001b[0;34m=\u001b[0m \u001b[0mself\u001b[0m\u001b[0;34m.\u001b[0m\u001b[0mkneighbors\u001b[0m\u001b[0;34m(\u001b[0m\u001b[0mX\u001b[0m\u001b[0;34m)\u001b[0m\u001b[0;34m\u001b[0m\u001b[0;34m\u001b[0m\u001b[0m\n\u001b[0m\u001b[1;32m    215\u001b[0m         \u001b[0mclasses_\u001b[0m \u001b[0;34m=\u001b[0m \u001b[0mself\u001b[0m\u001b[0;34m.\u001b[0m\u001b[0mclasses_\u001b[0m\u001b[0;34m\u001b[0m\u001b[0;34m\u001b[0m\u001b[0m\n\u001b[1;32m    216\u001b[0m         \u001b[0m_y\u001b[0m \u001b[0;34m=\u001b[0m \u001b[0mself\u001b[0m\u001b[0;34m.\u001b[0m\u001b[0m_y\u001b[0m\u001b[0;34m\u001b[0m\u001b[0;34m\u001b[0m\u001b[0m\n",
      "\u001b[0;32m/usr/local/anaconda3/lib/python3.9/site-packages/sklearn/neighbors/_base.py\u001b[0m in \u001b[0;36mkneighbors\u001b[0;34m(self, X, n_neighbors, return_distance)\u001b[0m\n\u001b[1;32m    715\u001b[0m                 \u001b[0mX\u001b[0m \u001b[0;34m=\u001b[0m \u001b[0m_check_precomputed\u001b[0m\u001b[0;34m(\u001b[0m\u001b[0mX\u001b[0m\u001b[0;34m)\u001b[0m\u001b[0;34m\u001b[0m\u001b[0;34m\u001b[0m\u001b[0m\n\u001b[1;32m    716\u001b[0m             \u001b[0;32melse\u001b[0m\u001b[0;34m:\u001b[0m\u001b[0;34m\u001b[0m\u001b[0;34m\u001b[0m\u001b[0m\n\u001b[0;32m--> 717\u001b[0;31m                 \u001b[0mX\u001b[0m \u001b[0;34m=\u001b[0m \u001b[0mself\u001b[0m\u001b[0;34m.\u001b[0m\u001b[0m_validate_data\u001b[0m\u001b[0;34m(\u001b[0m\u001b[0mX\u001b[0m\u001b[0;34m,\u001b[0m \u001b[0maccept_sparse\u001b[0m\u001b[0;34m=\u001b[0m\u001b[0;34m\"csr\"\u001b[0m\u001b[0;34m,\u001b[0m \u001b[0mreset\u001b[0m\u001b[0;34m=\u001b[0m\u001b[0;32mFalse\u001b[0m\u001b[0;34m)\u001b[0m\u001b[0;34m\u001b[0m\u001b[0;34m\u001b[0m\u001b[0m\n\u001b[0m\u001b[1;32m    718\u001b[0m         \u001b[0;32melse\u001b[0m\u001b[0;34m:\u001b[0m\u001b[0;34m\u001b[0m\u001b[0;34m\u001b[0m\u001b[0m\n\u001b[1;32m    719\u001b[0m             \u001b[0mquery_is_train\u001b[0m \u001b[0;34m=\u001b[0m \u001b[0;32mTrue\u001b[0m\u001b[0;34m\u001b[0m\u001b[0;34m\u001b[0m\u001b[0m\n",
      "\u001b[0;32m/usr/local/anaconda3/lib/python3.9/site-packages/sklearn/base.py\u001b[0m in \u001b[0;36m_validate_data\u001b[0;34m(self, X, y, reset, validate_separately, **check_params)\u001b[0m\n\u001b[1;32m    583\u001b[0m \u001b[0;34m\u001b[0m\u001b[0m\n\u001b[1;32m    584\u001b[0m         \u001b[0;32mif\u001b[0m \u001b[0;32mnot\u001b[0m \u001b[0mno_val_X\u001b[0m \u001b[0;32mand\u001b[0m \u001b[0mcheck_params\u001b[0m\u001b[0;34m.\u001b[0m\u001b[0mget\u001b[0m\u001b[0;34m(\u001b[0m\u001b[0;34m\"ensure_2d\"\u001b[0m\u001b[0;34m,\u001b[0m \u001b[0;32mTrue\u001b[0m\u001b[0;34m)\u001b[0m\u001b[0;34m:\u001b[0m\u001b[0;34m\u001b[0m\u001b[0;34m\u001b[0m\u001b[0m\n\u001b[0;32m--> 585\u001b[0;31m             \u001b[0mself\u001b[0m\u001b[0;34m.\u001b[0m\u001b[0m_check_n_features\u001b[0m\u001b[0;34m(\u001b[0m\u001b[0mX\u001b[0m\u001b[0;34m,\u001b[0m \u001b[0mreset\u001b[0m\u001b[0;34m=\u001b[0m\u001b[0mreset\u001b[0m\u001b[0;34m)\u001b[0m\u001b[0;34m\u001b[0m\u001b[0;34m\u001b[0m\u001b[0m\n\u001b[0m\u001b[1;32m    586\u001b[0m \u001b[0;34m\u001b[0m\u001b[0m\n\u001b[1;32m    587\u001b[0m         \u001b[0;32mreturn\u001b[0m \u001b[0mout\u001b[0m\u001b[0;34m\u001b[0m\u001b[0;34m\u001b[0m\u001b[0m\n",
      "\u001b[0;32m/usr/local/anaconda3/lib/python3.9/site-packages/sklearn/base.py\u001b[0m in \u001b[0;36m_check_n_features\u001b[0;34m(self, X, reset)\u001b[0m\n\u001b[1;32m    398\u001b[0m \u001b[0;34m\u001b[0m\u001b[0m\n\u001b[1;32m    399\u001b[0m         \u001b[0;32mif\u001b[0m \u001b[0mn_features\u001b[0m \u001b[0;34m!=\u001b[0m \u001b[0mself\u001b[0m\u001b[0;34m.\u001b[0m\u001b[0mn_features_in_\u001b[0m\u001b[0;34m:\u001b[0m\u001b[0;34m\u001b[0m\u001b[0;34m\u001b[0m\u001b[0m\n\u001b[0;32m--> 400\u001b[0;31m             raise ValueError(\n\u001b[0m\u001b[1;32m    401\u001b[0m                 \u001b[0;34mf\"X has {n_features} features, but {self.__class__.__name__} \"\u001b[0m\u001b[0;34m\u001b[0m\u001b[0;34m\u001b[0m\u001b[0m\n\u001b[1;32m    402\u001b[0m                 \u001b[0;34mf\"is expecting {self.n_features_in_} features as input.\"\u001b[0m\u001b[0;34m\u001b[0m\u001b[0;34m\u001b[0m\u001b[0m\n",
      "\u001b[0;31mValueError\u001b[0m: X has 2 features, but KNeighborsClassifier is expecting 4 features as input."
     ]
    }
   ],
   "source": [
    "k_range = range(1, 20)\n",
    "scores = []\n",
    "for k in k_range:\n",
    "    knn = KNN(n_neighbors = k)\n",
    "    knn.fit(X_train, y_train)\n",
    "    scores.append(knn.score(X_test, y_test))\n",
    "plt.figure()\n",
    "plt.xlabel('k')\n",
    "plt.ylabel('accuracy')\n",
    "plt.scatter(k_range, scores)\n",
    "plt.xticks([0,5,10,15,20])\n",
    "plt.show()"
   ]
  },
  {
   "cell_type": "markdown",
   "id": "e4d8be8f",
   "metadata": {},
   "source": [
    "> # Part IV\n",
    "\n",
    "> ## (D). Logistic Regression Exercises\n",
    ">\n",
    "\n",
    "__NOTE:__ -  Choose a model that optimizes for accuracy\n",
    "\n",
    "-----------------------------------------------\n",
    "-    Logistic Regression (aka logit, MaxEnt) classifier.\n",
    "\n"
   ]
  },
  {
   "cell_type": "code",
   "execution_count": 121,
   "id": "c5050839",
   "metadata": {},
   "outputs": [
    {
     "data": {
      "text/html": [
       "<div>\n",
       "<style scoped>\n",
       "    .dataframe tbody tr th:only-of-type {\n",
       "        vertical-align: middle;\n",
       "    }\n",
       "\n",
       "    .dataframe tbody tr th {\n",
       "        vertical-align: top;\n",
       "    }\n",
       "\n",
       "    .dataframe thead th {\n",
       "        text-align: right;\n",
       "    }\n",
       "</style>\n",
       "<table border=\"1\" class=\"dataframe\">\n",
       "  <thead>\n",
       "    <tr style=\"text-align: right;\">\n",
       "      <th></th>\n",
       "      <th>passenger_id</th>\n",
       "      <th>survived</th>\n",
       "      <th>pclass</th>\n",
       "      <th>sex</th>\n",
       "      <th>age</th>\n",
       "      <th>sibsp</th>\n",
       "      <th>parch</th>\n",
       "      <th>fare</th>\n",
       "      <th>embarked</th>\n",
       "      <th>class</th>\n",
       "      <th>deck</th>\n",
       "      <th>embark_town</th>\n",
       "      <th>alone</th>\n",
       "    </tr>\n",
       "  </thead>\n",
       "  <tbody>\n",
       "    <tr>\n",
       "      <th>0</th>\n",
       "      <td>0</td>\n",
       "      <td>0</td>\n",
       "      <td>3</td>\n",
       "      <td>male</td>\n",
       "      <td>22.0</td>\n",
       "      <td>1</td>\n",
       "      <td>0</td>\n",
       "      <td>7.2500</td>\n",
       "      <td>S</td>\n",
       "      <td>Third</td>\n",
       "      <td>None</td>\n",
       "      <td>Southampton</td>\n",
       "      <td>0</td>\n",
       "    </tr>\n",
       "    <tr>\n",
       "      <th>1</th>\n",
       "      <td>1</td>\n",
       "      <td>1</td>\n",
       "      <td>1</td>\n",
       "      <td>female</td>\n",
       "      <td>38.0</td>\n",
       "      <td>1</td>\n",
       "      <td>0</td>\n",
       "      <td>71.2833</td>\n",
       "      <td>C</td>\n",
       "      <td>First</td>\n",
       "      <td>C</td>\n",
       "      <td>Cherbourg</td>\n",
       "      <td>0</td>\n",
       "    </tr>\n",
       "    <tr>\n",
       "      <th>2</th>\n",
       "      <td>2</td>\n",
       "      <td>1</td>\n",
       "      <td>3</td>\n",
       "      <td>female</td>\n",
       "      <td>26.0</td>\n",
       "      <td>0</td>\n",
       "      <td>0</td>\n",
       "      <td>7.9250</td>\n",
       "      <td>S</td>\n",
       "      <td>Third</td>\n",
       "      <td>None</td>\n",
       "      <td>Southampton</td>\n",
       "      <td>1</td>\n",
       "    </tr>\n",
       "    <tr>\n",
       "      <th>3</th>\n",
       "      <td>3</td>\n",
       "      <td>1</td>\n",
       "      <td>1</td>\n",
       "      <td>female</td>\n",
       "      <td>35.0</td>\n",
       "      <td>1</td>\n",
       "      <td>0</td>\n",
       "      <td>53.1000</td>\n",
       "      <td>S</td>\n",
       "      <td>First</td>\n",
       "      <td>C</td>\n",
       "      <td>Southampton</td>\n",
       "      <td>0</td>\n",
       "    </tr>\n",
       "    <tr>\n",
       "      <th>4</th>\n",
       "      <td>4</td>\n",
       "      <td>0</td>\n",
       "      <td>3</td>\n",
       "      <td>male</td>\n",
       "      <td>35.0</td>\n",
       "      <td>0</td>\n",
       "      <td>0</td>\n",
       "      <td>8.0500</td>\n",
       "      <td>S</td>\n",
       "      <td>Third</td>\n",
       "      <td>None</td>\n",
       "      <td>Southampton</td>\n",
       "      <td>1</td>\n",
       "    </tr>\n",
       "  </tbody>\n",
       "</table>\n",
       "</div>"
      ],
      "text/plain": [
       "   passenger_id  survived  pclass     sex   age  sibsp  parch     fare  \\\n",
       "0             0         0       3    male  22.0      1      0   7.2500   \n",
       "1             1         1       1  female  38.0      1      0  71.2833   \n",
       "2             2         1       3  female  26.0      0      0   7.9250   \n",
       "3             3         1       1  female  35.0      1      0  53.1000   \n",
       "4             4         0       3    male  35.0      0      0   8.0500   \n",
       "\n",
       "  embarked  class  deck  embark_town  alone  \n",
       "0        S  Third  None  Southampton      0  \n",
       "1        C  First     C    Cherbourg      0  \n",
       "2        S  Third  None  Southampton      1  \n",
       "3        S  First     C  Southampton      0  \n",
       "4        S  Third  None  Southampton      1  "
      ]
     },
     "execution_count": 121,
     "metadata": {},
     "output_type": "execute_result"
    }
   ],
   "source": [
    "titanic = acquire.get_titanic_data()\n",
    "titanic.head()"
   ]
  },
  {
   "cell_type": "markdown",
   "id": "76886532",
   "metadata": {},
   "source": [
    "#### Encode sex into 1 for male and 0 for female\n",
    "\n",
    "> #### Male == 0\n",
    "> #### Female == 1\n",
    "\n"
   ]
  },
  {
   "cell_type": "code",
   "execution_count": 122,
   "id": "12f55a15",
   "metadata": {},
   "outputs": [],
   "source": [
    "titanic['sex'] = np.where(titanic.sex == 'male', '0', '1')"
   ]
  },
  {
   "cell_type": "code",
   "execution_count": 123,
   "id": "5234efc5",
   "metadata": {},
   "outputs": [
    {
     "name": "stdout",
     "output_type": "stream",
     "text": [
      "\n",
      "            Train Shape: (498, 13)\n",
      "            \n",
      "            Validate Shape: (214, 13)\n",
      "            \n",
      "            Test Shape:  (179, 13)\n",
      "            \n",
      "        \n"
     ]
    }
   ],
   "source": [
    "\n",
    "## Call split function and split the data\n",
    "train, validate, test = train_validate_test_split(titanic, target = 'survived')\n",
    "\n",
    "print(f'''\n",
    "            Train Shape: {train.shape}\n",
    "            \n",
    "            Validate Shape: {validate.shape}\n",
    "            \n",
    "            Test Shape:  {test.shape}\n",
    "            \n",
    "        ''')"
   ]
  },
  {
   "cell_type": "code",
   "execution_count": 124,
   "id": "82878f2d",
   "metadata": {},
   "outputs": [
    {
     "data": {
      "text/html": [
       "<div>\n",
       "<style scoped>\n",
       "    .dataframe tbody tr th:only-of-type {\n",
       "        vertical-align: middle;\n",
       "    }\n",
       "\n",
       "    .dataframe tbody tr th {\n",
       "        vertical-align: top;\n",
       "    }\n",
       "\n",
       "    .dataframe thead th {\n",
       "        text-align: right;\n",
       "    }\n",
       "</style>\n",
       "<table border=\"1\" class=\"dataframe\">\n",
       "  <thead>\n",
       "    <tr style=\"text-align: right;\">\n",
       "      <th></th>\n",
       "      <th>survived</th>\n",
       "      <th>pclass</th>\n",
       "      <th>sex</th>\n",
       "      <th>age</th>\n",
       "      <th>fare</th>\n",
       "      <th>alone</th>\n",
       "    </tr>\n",
       "  </thead>\n",
       "  <tbody>\n",
       "    <tr>\n",
       "      <th>583</th>\n",
       "      <td>0</td>\n",
       "      <td>1</td>\n",
       "      <td>0</td>\n",
       "      <td>36.0</td>\n",
       "      <td>40.1250</td>\n",
       "      <td>1</td>\n",
       "    </tr>\n",
       "    <tr>\n",
       "      <th>165</th>\n",
       "      <td>1</td>\n",
       "      <td>3</td>\n",
       "      <td>0</td>\n",
       "      <td>9.0</td>\n",
       "      <td>20.5250</td>\n",
       "      <td>0</td>\n",
       "    </tr>\n",
       "    <tr>\n",
       "      <th>50</th>\n",
       "      <td>0</td>\n",
       "      <td>3</td>\n",
       "      <td>0</td>\n",
       "      <td>7.0</td>\n",
       "      <td>39.6875</td>\n",
       "      <td>0</td>\n",
       "    </tr>\n",
       "    <tr>\n",
       "      <th>259</th>\n",
       "      <td>1</td>\n",
       "      <td>2</td>\n",
       "      <td>1</td>\n",
       "      <td>50.0</td>\n",
       "      <td>26.0000</td>\n",
       "      <td>0</td>\n",
       "    </tr>\n",
       "    <tr>\n",
       "      <th>306</th>\n",
       "      <td>1</td>\n",
       "      <td>1</td>\n",
       "      <td>1</td>\n",
       "      <td>NaN</td>\n",
       "      <td>110.8833</td>\n",
       "      <td>1</td>\n",
       "    </tr>\n",
       "  </tbody>\n",
       "</table>\n",
       "</div>"
      ],
      "text/plain": [
       "     survived  pclass sex   age      fare  alone\n",
       "583         0       1   0  36.0   40.1250      1\n",
       "165         1       3   0   9.0   20.5250      0\n",
       "50          0       3   0   7.0   39.6875      0\n",
       "259         1       2   1  50.0   26.0000      0\n",
       "306         1       1   1   NaN  110.8833      1"
      ]
     },
     "execution_count": 124,
     "metadata": {},
     "output_type": "execute_result"
    }
   ],
   "source": [
    "# Drop unnecesary columns \n",
    "\n",
    "col_to_drops = ['passenger_id','parch', 'embarked', 'class',\n",
    "                'deck','embark_town','sibsp'\n",
    "               ]\n",
    "\n",
    "[titanic_data.drop(columns = col_to_drops, inplace = True, errors = 'ignore') \n",
    "for titanic_data in [train, validate, test]]\n",
    "\n",
    "train.head()"
   ]
  },
  {
   "cell_type": "code",
   "execution_count": 125,
   "id": "12dcff2d",
   "metadata": {},
   "outputs": [
    {
     "data": {
      "text/plain": [
       "Index(['survived', 'pclass', 'sex', 'age', 'fare', 'alone'], dtype='object')"
      ]
     },
     "execution_count": 125,
     "metadata": {},
     "output_type": "execute_result"
    }
   ],
   "source": [
    "train.columns"
   ]
  },
  {
   "cell_type": "code",
   "execution_count": 126,
   "id": "1df70bab",
   "metadata": {},
   "outputs": [
    {
     "data": {
      "text/plain": [
       "0    323\n",
       "1    175\n",
       "Name: sex, dtype: int64"
      ]
     },
     "execution_count": 126,
     "metadata": {},
     "output_type": "execute_result"
    }
   ],
   "source": [
    "train.sex.value_counts()"
   ]
  },
  {
   "cell_type": "markdown",
   "id": "d280dadb",
   "metadata": {},
   "source": [
    "> #### Impute transfomer for completing missing values.\n"
   ]
  },
  {
   "cell_type": "code",
   "execution_count": 127,
   "id": "9dabecdb",
   "metadata": {},
   "outputs": [],
   "source": [
    "train, validate, test = impute_mode(train, validate, test)"
   ]
  },
  {
   "cell_type": "markdown",
   "id": "e0c32ebc",
   "metadata": {},
   "source": [
    "### 1). Create a model that includes age in addition to fare and pclass. Does this model perform better than your baseline?\n",
    "\n"
   ]
  },
  {
   "cell_type": "code",
   "execution_count": 128,
   "id": "1368c1c2",
   "metadata": {},
   "outputs": [],
   "source": [
    "# split into train, validate, test\n",
    "train, validate, test = train_validate_test_split(train, target='survived', seed=123)\n",
    "\n",
    "# create X & y version of train, where y is a series with just the target variable and X are all the features. \n",
    "\n",
    "X_train = train.drop(columns=['age','fare', 'pclass'])\n",
    "y_train = train.survived\n",
    "\n",
    "X_validate = validate.drop(columns=['age','fare', 'pclass'])\n",
    "y_validate = validate.survived\n",
    "\n",
    "X_test = test.drop(columns=['age','fare', 'pclass'])\n",
    "y_test = test.survived"
   ]
  },
  {
   "cell_type": "markdown",
   "id": "dc50ead3",
   "metadata": {},
   "source": [
    "> #### Create a model"
   ]
  },
  {
   "cell_type": "code",
   "execution_count": 129,
   "id": "f6942298",
   "metadata": {},
   "outputs": [
    {
     "data": {
      "text/plain": [
       "LogisticRegression(C=1, class_weight={0: 1, 1: 99}, random_state=123)"
      ]
     },
     "execution_count": 129,
     "metadata": {},
     "output_type": "execute_result"
    }
   ],
   "source": [
    "\n",
    "logit = LogisticRegression(C=1, class_weight={0:1, 1:99}, random_state=123, intercept_scaling=1, solver='lbfgs')\n",
    "logit"
   ]
  },
  {
   "cell_type": "markdown",
   "id": "22cd8a55",
   "metadata": {},
   "source": [
    "> #### Fit the model"
   ]
  },
  {
   "cell_type": "code",
   "execution_count": 130,
   "id": "29bcd4c2",
   "metadata": {},
   "outputs": [
    {
     "data": {
      "text/plain": [
       "LogisticRegression(C=1, class_weight={0: 1, 1: 99}, random_state=123)"
      ]
     },
     "execution_count": 130,
     "metadata": {},
     "output_type": "execute_result"
    }
   ],
   "source": [
    "logit.fit(X_train, y_train)"
   ]
  },
  {
   "cell_type": "markdown",
   "id": "a92f3826",
   "metadata": {},
   "source": [
    ">#### Feature Importance"
   ]
  },
  {
   "cell_type": "code",
   "execution_count": 131,
   "id": "27408b7a",
   "metadata": {},
   "outputs": [
    {
     "name": "stdout",
     "output_type": "stream",
     "text": [
      "\n",
      "\tModel Coefficient:  [[ 9.47937164  1.0539182  -0.13598996]]\n",
      "\n",
      "\n",
      "\tModel Intercept:  [-2.9611326]\n",
      "\n"
     ]
    }
   ],
   "source": [
    "print('\\n\\tModel Coefficient: ', logit.coef_)\n",
    "print()\n",
    "print('\\n\\tModel Intercept: ', logit.intercept_)\n",
    "print()"
   ]
  },
  {
   "cell_type": "markdown",
   "id": "80e4c831",
   "metadata": {},
   "source": [
    "> #### Make Predictions\n",
    "\n",
    ">>-  Whether survived with fare, age, pclass"
   ]
  },
  {
   "cell_type": "code",
   "execution_count": 132,
   "id": "af3752a2",
   "metadata": {},
   "outputs": [
    {
     "data": {
      "text/plain": [
       "array([0, 0, 0, 0, 0, 0, 0, 1, 0, 0, 0, 0, 0, 0, 0, 1, 0, 1, 0, 1, 0, 0,\n",
       "       0, 0, 0, 0, 1, 1, 0, 0, 0, 0, 0, 0, 1, 0, 0, 0, 0, 1, 0, 0, 0, 1,\n",
       "       1, 1, 0, 0, 0, 1, 1, 1, 0, 1, 0, 0, 0, 0, 1, 0, 1, 0, 0, 0, 1, 0,\n",
       "       0, 0, 0, 0, 1, 1, 0, 0, 0, 1, 1, 1, 0, 0, 1, 0, 1, 0, 0, 1, 0, 0,\n",
       "       1, 0, 1, 1, 1, 1, 0, 1, 1, 0, 0, 0, 1, 0, 0, 0, 0, 1, 0, 0, 1, 0,\n",
       "       0, 0, 0, 0, 0, 1, 1, 1, 0, 0, 1, 1, 1, 0, 0, 0, 1, 0, 0, 0, 1, 1,\n",
       "       1, 0, 1, 0, 0, 0, 1, 1, 1, 0, 1, 1, 1, 1, 1, 1, 0, 1, 0, 0, 0, 0,\n",
       "       0, 0, 1, 0, 0, 0, 0, 0, 1, 0, 1, 0, 0, 0, 1, 1, 0, 0, 0, 1, 1, 0,\n",
       "       1, 0, 0, 0, 1, 1, 1, 0, 0, 0, 1, 0, 0, 0, 0, 1, 1, 1, 0, 1, 0, 0,\n",
       "       1, 1, 0, 0, 0, 0, 0, 0, 1, 1, 0, 1, 1, 1, 1, 1, 0, 0, 1, 1, 1, 0,\n",
       "       1, 1, 0, 1, 0, 0, 0, 0, 0, 0, 0, 1, 0, 0, 0, 1, 0, 1, 0, 0, 0, 0,\n",
       "       1, 1, 0, 0, 1, 0, 0, 0, 1, 1, 0, 0, 0, 1, 1, 1, 1, 1, 0, 0, 1, 0,\n",
       "       1, 1, 0, 1, 0, 1, 0, 0, 1, 0, 0, 0, 0, 0])"
      ]
     },
     "execution_count": 132,
     "metadata": {},
     "output_type": "execute_result"
    }
   ],
   "source": [
    "y_pred = logit.predict(X_train)\n",
    "\n",
    "y_pred"
   ]
  },
  {
   "cell_type": "markdown",
   "id": "4ea2decf",
   "metadata": {},
   "source": [
    "> #### Estimate Probability \n",
    ">>-  Whether survived for age, pclass and fare"
   ]
  },
  {
   "cell_type": "code",
   "execution_count": 133,
   "id": "5ef707f8",
   "metadata": {},
   "outputs": [
    {
     "data": {
      "text/plain": [
       "array([[9.56773897e-01, 9.56773897e-01, 9.56773897e-01, 9.56773897e-01,\n",
       "        9.50787016e-01, 9.56773897e-01, 9.56773897e-01, 5.14316514e-04,\n",
       "        9.56773897e-01, 9.56773897e-01, 9.56773897e-01, 8.70705876e-01,\n",
       "        8.85259154e-01, 9.50787016e-01, 9.56773897e-01, 5.89193060e-04,\n",
       "        9.56773897e-01, 1.68845905e-03, 9.56773897e-01, 5.14316514e-04,\n",
       "        8.85259154e-01, 9.50787016e-01, 8.70705876e-01, 9.56773897e-01,\n",
       "        9.50787016e-01, 9.56773897e-01, 5.14316514e-04, 5.14316514e-04,\n",
       "        9.50787016e-01, 9.56773897e-01, 9.56773897e-01, 9.56773897e-01,\n",
       "        9.50787016e-01, 9.50787016e-01, 1.68845905e-03, 9.50787016e-01,\n",
       "        8.85259154e-01, 9.56773897e-01, 9.56773897e-01, 5.89193060e-04,\n",
       "        9.56773897e-01, 9.56773897e-01, 9.50787016e-01, 5.14316514e-04,\n",
       "        1.47409030e-03, 5.14316514e-04, 9.56773897e-01, 9.50787016e-01,\n",
       "        9.56773897e-01, 1.68845905e-03, 5.14316514e-04, 5.89193060e-04,\n",
       "        9.56773897e-01, 5.89193060e-04, 8.70705876e-01, 8.85259154e-01,\n",
       "        9.56773897e-01, 9.56773897e-01, 5.14316514e-04, 8.70705876e-01,\n",
       "        1.47409030e-03, 9.56773897e-01, 9.56773897e-01, 9.56773897e-01,\n",
       "        5.89193060e-04, 9.56773897e-01, 9.56773897e-01, 9.56773897e-01,\n",
       "        8.85259154e-01, 9.56773897e-01, 5.14316514e-04, 5.14316514e-04,\n",
       "        9.56773897e-01, 9.56773897e-01, 8.85259154e-01, 5.14316514e-04,\n",
       "        5.14316514e-04, 5.14316514e-04, 9.56773897e-01, 8.70705876e-01,\n",
       "        5.14316514e-04, 9.56773897e-01, 1.47409030e-03, 9.56773897e-01,\n",
       "        9.56773897e-01, 5.14316514e-04, 9.56773897e-01, 9.56773897e-01,\n",
       "        1.47409030e-03, 9.50787016e-01, 1.68845905e-03, 5.14316514e-04,\n",
       "        1.47409030e-03, 5.89193060e-04, 8.70705876e-01, 1.68845905e-03,\n",
       "        5.14316514e-04, 8.70705876e-01, 9.50787016e-01, 9.56773897e-01,\n",
       "        1.68845905e-03, 9.50787016e-01, 9.56773897e-01, 9.56773897e-01,\n",
       "        9.56773897e-01, 5.14316514e-04, 9.56773897e-01, 9.50787016e-01,\n",
       "        5.89193060e-04, 9.56773897e-01, 9.56773897e-01, 9.56773897e-01,\n",
       "        9.56773897e-01, 9.50787016e-01, 9.56773897e-01, 5.89193060e-04,\n",
       "        5.89193060e-04, 1.47409030e-03, 9.56773897e-01, 9.56773897e-01,\n",
       "        1.68845905e-03, 5.89193060e-04, 5.89193060e-04, 9.56773897e-01,\n",
       "        9.56773897e-01, 9.56773897e-01, 1.68845905e-03, 9.56773897e-01,\n",
       "        9.56773897e-01, 9.56773897e-01, 1.47409030e-03, 1.68845905e-03,\n",
       "        1.68845905e-03, 9.50787016e-01, 5.14316514e-04, 9.56773897e-01,\n",
       "        9.50787016e-01, 9.56773897e-01, 1.68845905e-03, 5.14316514e-04,\n",
       "        5.89193060e-04, 8.85259154e-01, 1.68845905e-03, 5.89193060e-04,\n",
       "        5.14316514e-04, 5.14316514e-04, 5.14316514e-04, 5.14316514e-04,\n",
       "        9.56773897e-01, 5.89193060e-04, 9.56773897e-01, 9.56773897e-01,\n",
       "        8.70705876e-01, 9.50787016e-01, 8.70705876e-01, 9.56773897e-01,\n",
       "        5.89193060e-04, 9.56773897e-01, 9.56773897e-01, 8.70705876e-01,\n",
       "        8.70705876e-01, 9.56773897e-01, 5.14316514e-04, 9.56773897e-01,\n",
       "        1.68845905e-03, 9.56773897e-01, 9.56773897e-01, 8.70705876e-01,\n",
       "        1.68845905e-03, 5.14316514e-04, 9.56773897e-01, 9.56773897e-01,\n",
       "        9.56773897e-01, 5.89193060e-04, 1.68845905e-03, 9.56773897e-01,\n",
       "        5.89193060e-04, 9.50787016e-01, 9.56773897e-01, 9.56773897e-01,\n",
       "        1.68845905e-03, 5.89193060e-04, 1.68845905e-03, 9.50787016e-01,\n",
       "        9.56773897e-01, 8.70705876e-01, 5.89193060e-04, 9.56773897e-01,\n",
       "        9.56773897e-01, 9.50787016e-01, 9.56773897e-01, 5.89193060e-04,\n",
       "        5.89193060e-04, 5.14316514e-04, 9.56773897e-01, 5.14316514e-04,\n",
       "        8.70705876e-01, 9.50787016e-01, 1.47409030e-03, 1.68845905e-03,\n",
       "        8.70705876e-01, 9.56773897e-01, 9.56773897e-01, 9.56773897e-01,\n",
       "        9.56773897e-01, 9.56773897e-01, 5.14316514e-04, 5.89193060e-04,\n",
       "        9.50787016e-01, 5.14316514e-04, 5.89193060e-04, 5.89193060e-04,\n",
       "        5.89193060e-04, 5.14316514e-04, 9.50787016e-01, 9.50787016e-01,\n",
       "        1.47409030e-03, 5.14316514e-04, 5.89193060e-04, 9.56773897e-01,\n",
       "        5.89193060e-04, 1.47409030e-03, 9.56773897e-01, 5.14316514e-04,\n",
       "        9.56773897e-01, 9.50787016e-01, 9.56773897e-01, 9.56773897e-01,\n",
       "        9.56773897e-01, 9.56773897e-01, 9.50787016e-01, 1.47409030e-03,\n",
       "        9.56773897e-01, 9.56773897e-01, 9.56773897e-01, 5.14316514e-04,\n",
       "        9.56773897e-01, 1.47409030e-03, 9.50787016e-01, 9.56773897e-01,\n",
       "        9.56773897e-01, 8.70705876e-01, 5.14316514e-04, 5.89193060e-04,\n",
       "        9.56773897e-01, 9.56773897e-01, 1.68845905e-03, 9.50787016e-01,\n",
       "        9.56773897e-01, 9.50787016e-01, 1.47409030e-03, 5.89193060e-04,\n",
       "        9.56773897e-01, 9.56773897e-01, 9.50787016e-01, 5.89193060e-04,\n",
       "        1.47409030e-03, 5.89193060e-04, 5.89193060e-04, 1.68845905e-03,\n",
       "        9.50787016e-01, 9.56773897e-01, 5.89193060e-04, 9.56773897e-01,\n",
       "        5.14316514e-04, 1.68845905e-03, 9.50787016e-01, 5.89193060e-04,\n",
       "        9.50787016e-01, 5.89193060e-04, 9.50787016e-01, 9.56773897e-01,\n",
       "        5.14316514e-04, 9.56773897e-01, 9.56773897e-01, 9.56773897e-01,\n",
       "        9.56773897e-01, 9.56773897e-01],\n",
       "       [4.32261028e-02, 4.32261028e-02, 4.32261028e-02, 4.32261028e-02,\n",
       "        4.92129836e-02, 4.32261028e-02, 4.32261028e-02, 9.99485683e-01,\n",
       "        4.32261028e-02, 4.32261028e-02, 4.32261028e-02, 1.29294124e-01,\n",
       "        1.14740846e-01, 4.92129836e-02, 4.32261028e-02, 9.99410807e-01,\n",
       "        4.32261028e-02, 9.98311541e-01, 4.32261028e-02, 9.99485683e-01,\n",
       "        1.14740846e-01, 4.92129836e-02, 1.29294124e-01, 4.32261028e-02,\n",
       "        4.92129836e-02, 4.32261028e-02, 9.99485683e-01, 9.99485683e-01,\n",
       "        4.92129836e-02, 4.32261028e-02, 4.32261028e-02, 4.32261028e-02,\n",
       "        4.92129836e-02, 4.92129836e-02, 9.98311541e-01, 4.92129836e-02,\n",
       "        1.14740846e-01, 4.32261028e-02, 4.32261028e-02, 9.99410807e-01,\n",
       "        4.32261028e-02, 4.32261028e-02, 4.92129836e-02, 9.99485683e-01,\n",
       "        9.98525910e-01, 9.99485683e-01, 4.32261028e-02, 4.92129836e-02,\n",
       "        4.32261028e-02, 9.98311541e-01, 9.99485683e-01, 9.99410807e-01,\n",
       "        4.32261028e-02, 9.99410807e-01, 1.29294124e-01, 1.14740846e-01,\n",
       "        4.32261028e-02, 4.32261028e-02, 9.99485683e-01, 1.29294124e-01,\n",
       "        9.98525910e-01, 4.32261028e-02, 4.32261028e-02, 4.32261028e-02,\n",
       "        9.99410807e-01, 4.32261028e-02, 4.32261028e-02, 4.32261028e-02,\n",
       "        1.14740846e-01, 4.32261028e-02, 9.99485683e-01, 9.99485683e-01,\n",
       "        4.32261028e-02, 4.32261028e-02, 1.14740846e-01, 9.99485683e-01,\n",
       "        9.99485683e-01, 9.99485683e-01, 4.32261028e-02, 1.29294124e-01,\n",
       "        9.99485683e-01, 4.32261028e-02, 9.98525910e-01, 4.32261028e-02,\n",
       "        4.32261028e-02, 9.99485683e-01, 4.32261028e-02, 4.32261028e-02,\n",
       "        9.98525910e-01, 4.92129836e-02, 9.98311541e-01, 9.99485683e-01,\n",
       "        9.98525910e-01, 9.99410807e-01, 1.29294124e-01, 9.98311541e-01,\n",
       "        9.99485683e-01, 1.29294124e-01, 4.92129836e-02, 4.32261028e-02,\n",
       "        9.98311541e-01, 4.92129836e-02, 4.32261028e-02, 4.32261028e-02,\n",
       "        4.32261028e-02, 9.99485683e-01, 4.32261028e-02, 4.92129836e-02,\n",
       "        9.99410807e-01, 4.32261028e-02, 4.32261028e-02, 4.32261028e-02,\n",
       "        4.32261028e-02, 4.92129836e-02, 4.32261028e-02, 9.99410807e-01,\n",
       "        9.99410807e-01, 9.98525910e-01, 4.32261028e-02, 4.32261028e-02,\n",
       "        9.98311541e-01, 9.99410807e-01, 9.99410807e-01, 4.32261028e-02,\n",
       "        4.32261028e-02, 4.32261028e-02, 9.98311541e-01, 4.32261028e-02,\n",
       "        4.32261028e-02, 4.32261028e-02, 9.98525910e-01, 9.98311541e-01,\n",
       "        9.98311541e-01, 4.92129836e-02, 9.99485683e-01, 4.32261028e-02,\n",
       "        4.92129836e-02, 4.32261028e-02, 9.98311541e-01, 9.99485683e-01,\n",
       "        9.99410807e-01, 1.14740846e-01, 9.98311541e-01, 9.99410807e-01,\n",
       "        9.99485683e-01, 9.99485683e-01, 9.99485683e-01, 9.99485683e-01,\n",
       "        4.32261028e-02, 9.99410807e-01, 4.32261028e-02, 4.32261028e-02,\n",
       "        1.29294124e-01, 4.92129836e-02, 1.29294124e-01, 4.32261028e-02,\n",
       "        9.99410807e-01, 4.32261028e-02, 4.32261028e-02, 1.29294124e-01,\n",
       "        1.29294124e-01, 4.32261028e-02, 9.99485683e-01, 4.32261028e-02,\n",
       "        9.98311541e-01, 4.32261028e-02, 4.32261028e-02, 1.29294124e-01,\n",
       "        9.98311541e-01, 9.99485683e-01, 4.32261028e-02, 4.32261028e-02,\n",
       "        4.32261028e-02, 9.99410807e-01, 9.98311541e-01, 4.32261028e-02,\n",
       "        9.99410807e-01, 4.92129836e-02, 4.32261028e-02, 4.32261028e-02,\n",
       "        9.98311541e-01, 9.99410807e-01, 9.98311541e-01, 4.92129836e-02,\n",
       "        4.32261028e-02, 1.29294124e-01, 9.99410807e-01, 4.32261028e-02,\n",
       "        4.32261028e-02, 4.92129836e-02, 4.32261028e-02, 9.99410807e-01,\n",
       "        9.99410807e-01, 9.99485683e-01, 4.32261028e-02, 9.99485683e-01,\n",
       "        1.29294124e-01, 4.92129836e-02, 9.98525910e-01, 9.98311541e-01,\n",
       "        1.29294124e-01, 4.32261028e-02, 4.32261028e-02, 4.32261028e-02,\n",
       "        4.32261028e-02, 4.32261028e-02, 9.99485683e-01, 9.99410807e-01,\n",
       "        4.92129836e-02, 9.99485683e-01, 9.99410807e-01, 9.99410807e-01,\n",
       "        9.99410807e-01, 9.99485683e-01, 4.92129836e-02, 4.92129836e-02,\n",
       "        9.98525910e-01, 9.99485683e-01, 9.99410807e-01, 4.32261028e-02,\n",
       "        9.99410807e-01, 9.98525910e-01, 4.32261028e-02, 9.99485683e-01,\n",
       "        4.32261028e-02, 4.92129836e-02, 4.32261028e-02, 4.32261028e-02,\n",
       "        4.32261028e-02, 4.32261028e-02, 4.92129836e-02, 9.98525910e-01,\n",
       "        4.32261028e-02, 4.32261028e-02, 4.32261028e-02, 9.99485683e-01,\n",
       "        4.32261028e-02, 9.98525910e-01, 4.92129836e-02, 4.32261028e-02,\n",
       "        4.32261028e-02, 1.29294124e-01, 9.99485683e-01, 9.99410807e-01,\n",
       "        4.32261028e-02, 4.32261028e-02, 9.98311541e-01, 4.92129836e-02,\n",
       "        4.32261028e-02, 4.92129836e-02, 9.98525910e-01, 9.99410807e-01,\n",
       "        4.32261028e-02, 4.32261028e-02, 4.92129836e-02, 9.99410807e-01,\n",
       "        9.98525910e-01, 9.99410807e-01, 9.99410807e-01, 9.98311541e-01,\n",
       "        4.92129836e-02, 4.32261028e-02, 9.99410807e-01, 4.32261028e-02,\n",
       "        9.99485683e-01, 9.98311541e-01, 4.92129836e-02, 9.99410807e-01,\n",
       "        4.92129836e-02, 9.99410807e-01, 4.92129836e-02, 4.32261028e-02,\n",
       "        9.99485683e-01, 4.32261028e-02, 4.32261028e-02, 4.32261028e-02,\n",
       "        4.32261028e-02, 4.32261028e-02]])"
      ]
     },
     "execution_count": 133,
     "metadata": {},
     "output_type": "execute_result"
    }
   ],
   "source": [
    "y_pred_proba = logit.predict_proba(X_train)\n",
    "y_pred_proba.T"
   ]
  },
  {
   "cell_type": "markdown",
   "id": "2a8ff42e",
   "metadata": {},
   "source": [
    "> #### Compute Accuracy\n",
    ">"
   ]
  },
  {
   "cell_type": "code",
   "execution_count": 134,
   "id": "a7e838ca",
   "metadata": {},
   "outputs": [
    {
     "name": "stdout",
     "output_type": "stream",
     "text": [
      "Accuracy of Logistic Regression classifier I on training set: 1.00\n"
     ]
    }
   ],
   "source": [
    "print('Accuracy of Logistic Regression classifier I on training set: {:.2f}'\n",
    "     .format(logit.score(X_train, y_train)))\n"
   ]
  },
  {
   "cell_type": "markdown",
   "id": "4a0b400c",
   "metadata": {},
   "source": [
    "> #### Confusion Matrix\n",
    ">"
   ]
  },
  {
   "cell_type": "code",
   "execution_count": 135,
   "id": "a7520eeb",
   "metadata": {},
   "outputs": [
    {
     "name": "stdout",
     "output_type": "stream",
     "text": [
      "[[171   0]\n",
      " [  0 107]]\n"
     ]
    }
   ],
   "source": [
    "print(confusion_matrix(y_train, y_pred))"
   ]
  },
  {
   "cell_type": "markdown",
   "id": "d3565ee3",
   "metadata": {},
   "source": [
    "> #### Classification Report\n"
   ]
  },
  {
   "cell_type": "code",
   "execution_count": 136,
   "id": "de51646c",
   "metadata": {},
   "outputs": [
    {
     "name": "stdout",
     "output_type": "stream",
     "text": [
      "              precision    recall  f1-score   support\n",
      "\n",
      "           0       1.00      1.00      1.00       171\n",
      "           1       1.00      1.00      1.00       107\n",
      "\n",
      "    accuracy                           1.00       278\n",
      "   macro avg       1.00      1.00      1.00       278\n",
      "weighted avg       1.00      1.00      1.00       278\n",
      "\n"
     ]
    }
   ],
   "source": [
    "print(classification_report(y_train, y_pred))"
   ]
  },
  {
   "cell_type": "code",
   "execution_count": null,
   "id": "1bdbe74e",
   "metadata": {},
   "outputs": [],
   "source": []
  },
  {
   "cell_type": "code",
   "execution_count": null,
   "id": "b5272d3a",
   "metadata": {},
   "outputs": [],
   "source": []
  },
  {
   "cell_type": "markdown",
   "id": "c9c9db01",
   "metadata": {},
   "source": [
    "### 2). Include sex in your model as well. Note that you'll need to encode or create a dummy variable of this feature before including it in a model."
   ]
  },
  {
   "cell_type": "markdown",
   "id": "bf76bc6a",
   "metadata": {},
   "source": [
    "#### Encode sex into 1 for male and 0 for female\n",
    "\n",
    "> #### Male == 0\n",
    "> #### Female == 1\n",
    "\n"
   ]
  },
  {
   "cell_type": "code",
   "execution_count": 137,
   "id": "d991ebcc",
   "metadata": {},
   "outputs": [],
   "source": [
    "# split into train, validate, test\n",
    "train, validate, test = train_validate_test_split(train, target='survived', seed=123)\n",
    "\n",
    "# create X & y version of train, where y is a series with just the target variable and X are all the features. \n",
    "\n",
    "X_train2 = train.drop(columns=['age','fare', 'pclass', 'sex'])\n",
    "y_train2 = train.survived\n",
    "\n",
    "X_validate2 = validate.drop(columns=['age','fare', 'pclass', 'sex'])\n",
    "y_validate2 = validate.survived\n",
    "\n",
    "X_test2 = test.drop(columns=['age','fare', 'pclass', 'sex'])"
   ]
  },
  {
   "cell_type": "code",
   "execution_count": 138,
   "id": "8c6ffaf6",
   "metadata": {},
   "outputs": [
    {
     "data": {
      "text/plain": [
       "LogisticRegression(C=1, class_weight={0: 1, 1: 99}, random_state=123)"
      ]
     },
     "execution_count": 138,
     "metadata": {},
     "output_type": "execute_result"
    }
   ],
   "source": [
    "# Create model\n",
    "logit2 = LogisticRegression(C=1, class_weight={0:1, 1:99}, random_state=123, intercept_scaling=1, solver='lbfgs')\n",
    "\n",
    "\n",
    "# Fit model\n",
    "logit2.fit(X_train2, y_train2)"
   ]
  },
  {
   "cell_type": "code",
   "execution_count": 139,
   "id": "b5e10e02",
   "metadata": {},
   "outputs": [
    {
     "name": "stdout",
     "output_type": "stream",
     "text": [
      "\n",
      "\tModel Coefficient:  [[ 8.77705627 -0.23000182]]\n",
      "\n",
      "\n",
      "\tModel Intercept:  [-2.14294968]\n",
      "\n"
     ]
    }
   ],
   "source": [
    "# Feature Importance\n",
    "\n",
    "print('\\n\\tModel Coefficient: ', logit2.coef_)\n",
    "print()\n",
    "print('\\n\\tModel Intercept: ', logit2.intercept_)\n",
    "print()"
   ]
  },
  {
   "cell_type": "code",
   "execution_count": 140,
   "id": "9be2f844",
   "metadata": {},
   "outputs": [
    {
     "data": {
      "text/plain": [
       "array([0, 0, 1, 0, 0, 0, 0, 0, 1, 1, 1, 1, 0, 0, 1, 0, 1, 1, 1, 0, 1, 1,\n",
       "       0, 1, 0, 0, 0, 0, 0, 0, 0, 1, 0, 0, 1, 0, 0, 0, 0, 1, 0, 0, 1, 0,\n",
       "       0, 0, 1, 1, 1, 0, 0, 0, 0, 0, 0, 0, 1, 1, 1, 1, 0, 0, 1, 0, 1, 0,\n",
       "       0, 0, 0, 0, 0, 1, 1, 1, 0, 1, 0, 0, 0, 0, 0, 0, 1, 1, 0, 1, 1, 0,\n",
       "       0, 1, 0, 0, 1, 0, 0, 1, 0, 0, 0, 1, 0, 1, 0, 0, 0, 0, 0, 0, 1, 0,\n",
       "       1, 1, 1, 1, 0, 0, 1, 1, 0, 1, 0, 0, 0, 0, 0, 1, 1, 1, 1, 0, 1, 1,\n",
       "       0, 0, 0, 0, 0, 0, 0, 1, 1, 1, 0, 0, 1, 0, 1, 0, 1, 0, 0, 1, 0, 0,\n",
       "       0])"
      ]
     },
     "execution_count": 140,
     "metadata": {},
     "output_type": "execute_result"
    }
   ],
   "source": [
    "# Make predictions\n",
    "\n",
    "y_pred2 = logit2.predict(X_train2)\n",
    "\n",
    "y_pred2"
   ]
  },
  {
   "cell_type": "code",
   "execution_count": 141,
   "id": "56c39dd4",
   "metadata": {},
   "outputs": [
    {
     "data": {
      "text/plain": [
       "array([[0.91474133, 0.89500811, 0.00165202, 0.89500811, 0.89500811,\n",
       "        0.91474133, 0.91474133, 0.91474133, 0.00165202, 0.00165202,\n",
       "        0.00131303, 0.00131303, 0.89500811, 0.91474133, 0.00165202,\n",
       "        0.89500811, 0.00131303, 0.00131303, 0.00131303, 0.91474133,\n",
       "        0.00165202, 0.00165202, 0.89500811, 0.00165202, 0.91474133,\n",
       "        0.91474133, 0.91474133, 0.89500811, 0.91474133, 0.89500811,\n",
       "        0.91474133, 0.00165202, 0.89500811, 0.89500811, 0.00131303,\n",
       "        0.91474133, 0.91474133, 0.91474133, 0.91474133, 0.00165202,\n",
       "        0.91474133, 0.91474133, 0.00131303, 0.91474133, 0.91474133,\n",
       "        0.89500811, 0.00131303, 0.00165202, 0.00165202, 0.89500811,\n",
       "        0.91474133, 0.91474133, 0.91474133, 0.91474133, 0.91474133,\n",
       "        0.89500811, 0.00165202, 0.00165202, 0.00131303, 0.00165202,\n",
       "        0.89500811, 0.91474133, 0.00131303, 0.89500811, 0.00131303,\n",
       "        0.91474133, 0.91474133, 0.89500811, 0.91474133, 0.91474133,\n",
       "        0.91474133, 0.00131303, 0.00165202, 0.00131303, 0.89500811,\n",
       "        0.00131303, 0.91474133, 0.89500811, 0.91474133, 0.91474133,\n",
       "        0.91474133, 0.91474133, 0.00131303, 0.00131303, 0.91474133,\n",
       "        0.00165202, 0.00131303, 0.91474133, 0.91474133, 0.00165202,\n",
       "        0.89500811, 0.91474133, 0.00165202, 0.91474133, 0.91474133,\n",
       "        0.00165202, 0.89500811, 0.89500811, 0.91474133, 0.00165202,\n",
       "        0.89500811, 0.00165202, 0.91474133, 0.91474133, 0.91474133,\n",
       "        0.91474133, 0.89500811, 0.89500811, 0.00165202, 0.91474133,\n",
       "        0.00165202, 0.00131303, 0.00165202, 0.00165202, 0.91474133,\n",
       "        0.91474133, 0.00131303, 0.00165202, 0.91474133, 0.00165202,\n",
       "        0.89500811, 0.91474133, 0.89500811, 0.91474133, 0.91474133,\n",
       "        0.00131303, 0.00165202, 0.00131303, 0.00131303, 0.91474133,\n",
       "        0.00165202, 0.00165202, 0.91474133, 0.89500811, 0.91474133,\n",
       "        0.91474133, 0.91474133, 0.91474133, 0.91474133, 0.00165202,\n",
       "        0.00131303, 0.00131303, 0.89500811, 0.91474133, 0.00165202,\n",
       "        0.91474133, 0.00165202, 0.89500811, 0.00131303, 0.91474133,\n",
       "        0.91474133, 0.00131303, 0.91474133, 0.91474133, 0.89500811],\n",
       "       [0.08525867, 0.10499189, 0.99834798, 0.10499189, 0.10499189,\n",
       "        0.08525867, 0.08525867, 0.08525867, 0.99834798, 0.99834798,\n",
       "        0.99868697, 0.99868697, 0.10499189, 0.08525867, 0.99834798,\n",
       "        0.10499189, 0.99868697, 0.99868697, 0.99868697, 0.08525867,\n",
       "        0.99834798, 0.99834798, 0.10499189, 0.99834798, 0.08525867,\n",
       "        0.08525867, 0.08525867, 0.10499189, 0.08525867, 0.10499189,\n",
       "        0.08525867, 0.99834798, 0.10499189, 0.10499189, 0.99868697,\n",
       "        0.08525867, 0.08525867, 0.08525867, 0.08525867, 0.99834798,\n",
       "        0.08525867, 0.08525867, 0.99868697, 0.08525867, 0.08525867,\n",
       "        0.10499189, 0.99868697, 0.99834798, 0.99834798, 0.10499189,\n",
       "        0.08525867, 0.08525867, 0.08525867, 0.08525867, 0.08525867,\n",
       "        0.10499189, 0.99834798, 0.99834798, 0.99868697, 0.99834798,\n",
       "        0.10499189, 0.08525867, 0.99868697, 0.10499189, 0.99868697,\n",
       "        0.08525867, 0.08525867, 0.10499189, 0.08525867, 0.08525867,\n",
       "        0.08525867, 0.99868697, 0.99834798, 0.99868697, 0.10499189,\n",
       "        0.99868697, 0.08525867, 0.10499189, 0.08525867, 0.08525867,\n",
       "        0.08525867, 0.08525867, 0.99868697, 0.99868697, 0.08525867,\n",
       "        0.99834798, 0.99868697, 0.08525867, 0.08525867, 0.99834798,\n",
       "        0.10499189, 0.08525867, 0.99834798, 0.08525867, 0.08525867,\n",
       "        0.99834798, 0.10499189, 0.10499189, 0.08525867, 0.99834798,\n",
       "        0.10499189, 0.99834798, 0.08525867, 0.08525867, 0.08525867,\n",
       "        0.08525867, 0.10499189, 0.10499189, 0.99834798, 0.08525867,\n",
       "        0.99834798, 0.99868697, 0.99834798, 0.99834798, 0.08525867,\n",
       "        0.08525867, 0.99868697, 0.99834798, 0.08525867, 0.99834798,\n",
       "        0.10499189, 0.08525867, 0.10499189, 0.08525867, 0.08525867,\n",
       "        0.99868697, 0.99834798, 0.99868697, 0.99868697, 0.08525867,\n",
       "        0.99834798, 0.99834798, 0.08525867, 0.10499189, 0.08525867,\n",
       "        0.08525867, 0.08525867, 0.08525867, 0.08525867, 0.99834798,\n",
       "        0.99868697, 0.99868697, 0.10499189, 0.08525867, 0.99834798,\n",
       "        0.08525867, 0.99834798, 0.10499189, 0.99868697, 0.08525867,\n",
       "        0.08525867, 0.99868697, 0.08525867, 0.08525867, 0.10499189]])"
      ]
     },
     "execution_count": 141,
     "metadata": {},
     "output_type": "execute_result"
    }
   ],
   "source": [
    "# Estimate probability\n",
    "\n",
    "y_pred_proba2 = logit2.predict_proba(X_train2)\n",
    "y_pred_proba2.T"
   ]
  },
  {
   "cell_type": "code",
   "execution_count": 142,
   "id": "9a32996e",
   "metadata": {},
   "outputs": [
    {
     "name": "stdout",
     "output_type": "stream",
     "text": [
      "Accuracy of Logistic Regression classifier II on training set: 1.00\n"
     ]
    }
   ],
   "source": [
    "print('Accuracy of Logistic Regression classifier II on training set: {:.2f}'\n",
    "     .format(logit2.score(X_train2, y_train2)))\n"
   ]
  },
  {
   "cell_type": "code",
   "execution_count": 143,
   "id": "91f319bf",
   "metadata": {},
   "outputs": [
    {
     "name": "stdout",
     "output_type": "stream",
     "text": [
      "[[96  0]\n",
      " [ 0 59]]\n"
     ]
    }
   ],
   "source": [
    "# Confusion Matrix\n",
    "\n",
    "print(confusion_matrix(y_train2, y_pred2))"
   ]
  },
  {
   "cell_type": "code",
   "execution_count": 144,
   "id": "a16c9f3a",
   "metadata": {},
   "outputs": [
    {
     "name": "stdout",
     "output_type": "stream",
     "text": [
      "              precision    recall  f1-score   support\n",
      "\n",
      "           0       1.00      1.00      1.00        96\n",
      "           1       1.00      1.00      1.00        59\n",
      "\n",
      "    accuracy                           1.00       155\n",
      "   macro avg       1.00      1.00      1.00       155\n",
      "weighted avg       1.00      1.00      1.00       155\n",
      "\n"
     ]
    }
   ],
   "source": [
    "# Classification Matrix\n",
    "\n",
    "print(classification_report(y_train2, y_pred2))"
   ]
  },
  {
   "cell_type": "markdown",
   "id": "c208c836",
   "metadata": {},
   "source": [
    "### 3). Try out other combinations of features and models.\n",
    "\n",
    "\n",
    "-  Survival based on features: __'Age'__ | __'alone'__ | __'pclass'__ | __'sex'__\n"
   ]
  },
  {
   "cell_type": "code",
   "execution_count": 147,
   "id": "d6131231",
   "metadata": {},
   "outputs": [],
   "source": [
    "# split into train, validate, test\n",
    "train, validate, test = train_validate_test_split(train, target='survived', seed=123)\n",
    "\n",
    "# create X & y version of train, where y is a series with just the target variable and X are all the features. \n",
    "\n",
    "X_train3 = train.drop(columns=['age','pclass', 'alone', 'sex'])\n",
    "y_train3 = train.survived\n",
    "\n",
    "X_validate3 = validate.drop(columns=['age','pclass', 'alone', 'sex'])\n",
    "y_validate3 = validate.survived\n",
    "\n",
    "X_test3 = test.drop(columns=['age','pclass', 'alone', 'sex'])"
   ]
  },
  {
   "cell_type": "code",
   "execution_count": 148,
   "id": "aac6b161",
   "metadata": {},
   "outputs": [
    {
     "data": {
      "text/plain": [
       "LogisticRegression(C=1, class_weight={0: 1, 1: 99}, random_state=123)"
      ]
     },
     "execution_count": 148,
     "metadata": {},
     "output_type": "execute_result"
    }
   ],
   "source": [
    "# Create model\n",
    "logit3 = LogisticRegression(C=1, class_weight={0:1, 1:99}, random_state=123, intercept_scaling=1, solver='lbfgs')\n",
    "\n",
    "\n",
    "# Fit model\n",
    "logit3.fit(X_train3, y_train3)"
   ]
  },
  {
   "cell_type": "code",
   "execution_count": 149,
   "id": "930a92d9",
   "metadata": {},
   "outputs": [
    {
     "name": "stdout",
     "output_type": "stream",
     "text": [
      "\n",
      "\tModel Coefficient:  [[5.52130075 0.01410337]]\n",
      "\n",
      "\n",
      "\tModel Intercept:  [-0.94654383]\n",
      "\n"
     ]
    }
   ],
   "source": [
    "# Feature Importance\n",
    "\n",
    "print('\\n\\tModel Coefficient: ', logit3.coef_)\n",
    "print()\n",
    "print('\\n\\tModel Intercept: ', logit3.intercept_)\n",
    "print()"
   ]
  },
  {
   "cell_type": "code",
   "execution_count": 150,
   "id": "c82e307b",
   "metadata": {},
   "outputs": [
    {
     "data": {
      "text/plain": [
       "array([1, 1, 1, 0, 1, 0, 1, 0, 0, 0, 0, 1, 1, 1, 0, 0, 0, 0, 0, 1, 0, 0,\n",
       "       0, 1, 1])"
      ]
     },
     "execution_count": 150,
     "metadata": {},
     "output_type": "execute_result"
    }
   ],
   "source": [
    "# Make predictions\n",
    "\n",
    "y_pred3 = logit3.predict(X_train3)\n",
    "\n",
    "y_pred3"
   ]
  },
  {
   "cell_type": "code",
   "execution_count": 151,
   "id": "44a2e6e8",
   "metadata": {},
   "outputs": [
    {
     "data": {
      "text/plain": [
       "array([[8.93557566e-03, 4.53015232e-03, 4.77501659e-01, 6.82048078e-01,\n",
       "        3.36235997e-03, 6.96991355e-01, 4.16325331e-04, 6.97574238e-01,\n",
       "        6.96991355e-01, 6.97884176e-01, 6.77583989e-01, 8.50887064e-03,\n",
       "        9.22369537e-03, 7.09359146e-03, 6.41034295e-01, 6.96991355e-01,\n",
       "        6.28940357e-01, 7.20419584e-01, 6.13426953e-01, 4.77501659e-01,\n",
       "        6.92392364e-01, 6.82048078e-01, 6.99368889e-01, 8.81154105e-03,\n",
       "        4.88860128e-03],\n",
       "       [9.91064424e-01, 9.95469848e-01, 5.22498341e-01, 3.17951922e-01,\n",
       "        9.96637640e-01, 3.03008645e-01, 9.99583675e-01, 3.02425762e-01,\n",
       "        3.03008645e-01, 3.02115824e-01, 3.22416011e-01, 9.91491129e-01,\n",
       "        9.90776305e-01, 9.92906409e-01, 3.58965705e-01, 3.03008645e-01,\n",
       "        3.71059643e-01, 2.79580416e-01, 3.86573047e-01, 5.22498341e-01,\n",
       "        3.07607636e-01, 3.17951922e-01, 3.00631111e-01, 9.91188459e-01,\n",
       "        9.95111399e-01]])"
      ]
     },
     "execution_count": 151,
     "metadata": {},
     "output_type": "execute_result"
    }
   ],
   "source": [
    "# Estimate probability\n",
    "\n",
    "y_pred_proba3 = logit3.predict_proba(X_train3)\n",
    "y_pred_proba3.T"
   ]
  },
  {
   "cell_type": "code",
   "execution_count": 152,
   "id": "6bee3275",
   "metadata": {},
   "outputs": [
    {
     "name": "stdout",
     "output_type": "stream",
     "text": [
      "Accuracy of Logistic Regression classifier III on training set: 0.92\n"
     ]
    }
   ],
   "source": [
    "print('Accuracy of Logistic Regression classifier III on training set: {:.2f}'\n",
    "     .format(logit3.score(X_train3, y_train3)))\n"
   ]
  },
  {
   "cell_type": "code",
   "execution_count": 154,
   "id": "898203fd",
   "metadata": {},
   "outputs": [
    {
     "name": "stdout",
     "output_type": "stream",
     "text": [
      "[[14  2]\n",
      " [ 0  9]]\n"
     ]
    }
   ],
   "source": [
    "# Confusion Matrix\n",
    "\n",
    "print(confusion_matrix(y_train3, y_pred3))"
   ]
  },
  {
   "cell_type": "code",
   "execution_count": 155,
   "id": "07835d6f",
   "metadata": {},
   "outputs": [
    {
     "name": "stdout",
     "output_type": "stream",
     "text": [
      "              precision    recall  f1-score   support\n",
      "\n",
      "           0       1.00      0.88      0.93        16\n",
      "           1       0.82      1.00      0.90         9\n",
      "\n",
      "    accuracy                           0.92        25\n",
      "   macro avg       0.91      0.94      0.92        25\n",
      "weighted avg       0.93      0.92      0.92        25\n",
      "\n"
     ]
    }
   ],
   "source": [
    "print(classification_report(y_train3, y_pred3))"
   ]
  },
  {
   "cell_type": "markdown",
   "id": "b999a228",
   "metadata": {},
   "source": [
    "### 4). Use you best 3 models to predict and evaluate on your validate sample.\n",
    "\n"
   ]
  },
  {
   "cell_type": "code",
   "execution_count": 181,
   "id": "1362557c",
   "metadata": {},
   "outputs": [
    {
     "name": "stdout",
     "output_type": "stream",
     "text": [
      "Model 1: solver = lbfgs, c = 1\n",
      "Accuracy: 1.00\n",
      "[[74  0]\n",
      " [ 0 46]]\n",
      "              precision    recall  f1-score   support\n",
      "\n",
      "           0       1.00      1.00      1.00        74\n",
      "           1       1.00      1.00      1.00        46\n",
      "\n",
      "    accuracy                           1.00       120\n",
      "   macro avg       1.00      1.00      1.00       120\n",
      "weighted avg       1.00      1.00      1.00       120\n",
      "\n",
      "-------------------------------------------------------------------\n",
      "\n",
      "Model 2: solver = lbfgs, c = .1\n",
      "Accuracy: 1.00\n",
      "\n",
      "[[24  0]\n",
      " [ 0 14]]\n",
      "              precision    recall  f1-score   support\n",
      "\n",
      "           0       1.00      1.00      1.00        24\n",
      "           1       1.00      1.00      1.00        14\n",
      "\n",
      "    accuracy                           1.00        38\n",
      "   macro avg       1.00      1.00      1.00        38\n",
      "weighted avg       1.00      1.00      1.00        38\n",
      "\n",
      "-------------------------------------------------------------------\n",
      "\n",
      "Model 3: solver = lbfgs, c = .1\n",
      "Accuracy: 0.92\n",
      "[[6 1]\n",
      " [0 5]]\n",
      "              precision    recall  f1-score   support\n",
      "\n",
      "           0       1.00      0.86      0.92         7\n",
      "           1       0.83      1.00      0.91         5\n",
      "\n",
      "    accuracy                           0.92        12\n",
      "   macro avg       0.92      0.93      0.92        12\n",
      "weighted avg       0.93      0.92      0.92        12\n",
      "\n"
     ]
    }
   ],
   "source": [
    "# make predictions\n",
    "\n",
    "y_pred = logit.predict(X_validate)\n",
    "y_pred2 = logit2.predict(X_validate2)\n",
    "y_pred3 = logit3.predict(X_validate3)\n",
    "\n",
    "\n",
    "\n",
    "print(\"Model 1: solver = lbfgs, c = 1\")\n",
    "\n",
    "# accuracy of model 1\n",
    "print('Accuracy: {:.2f}'.format(logit.score(X_validate, y_validate)))\n",
    "\n",
    "# confusion matrix of model 1\n",
    "print(confusion_matrix(y_validate, y_pred))\n",
    "\n",
    "# classification report of model 1\n",
    "print(classification_report(y_validate, y_pred))\n",
    "\n",
    "print('-------------------------------------------------------------------')\n",
    "print()\n",
    "\n",
    "print(\"Model 2: solver = lbfgs, c = .1\")\n",
    "\n",
    "# accuracy of model 2\n",
    "print('Accuracy: {:.2f}'.format(logit2.score(X_validate2, y_validate2)))\n",
    "\n",
    "\n",
    "print()\n",
    "# confusion matrix of model 2\n",
    "print(confusion_matrix(y_validate2, y_pred2))\n",
    "\n",
    "# classification report of model 2\n",
    "print(classification_report(y_validate2, y_pred2))\n",
    "\n",
    "\n",
    "print('-------------------------------------------------------------------')\n",
    "print()\n",
    "\n",
    "print(\"Model 3: solver = lbfgs, c = .1\")\n",
    "\n",
    "# accuracy of model 3\n",
    "print('Accuracy: {:.2f}'.format(logit3.score(X_validate3, y_validate3)))\n",
    "\n",
    "# confusion matrix of model 3\n",
    "print(confusion_matrix(y_validate3, y_pred3))\n",
    "\n",
    "# classification report of model 3\n",
    "print(classification_report(y_validate3, y_pred3))\n",
    "\n",
    "\n"
   ]
  },
  {
   "cell_type": "markdown",
   "id": "8babc11c",
   "metadata": {},
   "source": [
    "### 5). Choose you best model from the validation performation, and evaluate it on the test dataset. How do the performance metrics compare to validate? to train?\n",
    "\n",
    "-  Model I has best accuracy on a large support"
   ]
  },
  {
   "cell_type": "code",
   "execution_count": 182,
   "id": "90865efe",
   "metadata": {},
   "outputs": [
    {
     "name": "stdout",
     "output_type": "stream",
     "text": [
      "Model 1: solver = lbfgs, c = 1\n",
      "Accuracy: 1.00\n",
      "[[62  0]\n",
      " [ 0 38]]\n",
      "              precision    recall  f1-score   support\n",
      "\n",
      "           0       1.00      1.00      1.00        62\n",
      "           1       1.00      1.00      1.00        38\n",
      "\n",
      "    accuracy                           1.00       100\n",
      "   macro avg       1.00      1.00      1.00       100\n",
      "weighted avg       1.00      1.00      1.00       100\n",
      "\n"
     ]
    }
   ],
   "source": [
    "y_pred = logit.predict(X_test)\n",
    "y_pred_proba = logit.predict_proba(X_test)\n",
    "\n",
    "print(\"Model 1: solver = lbfgs, c = 1\")\n",
    "\n",
    "print('Accuracy: {:.2f}'.format(logit.score(X_test, y_test)))\n",
    "\n",
    "print(confusion_matrix(y_test, y_pred))\n",
    "\n",
    "print(classification_report(y_test, y_pred))\n"
   ]
  },
  {
   "cell_type": "markdown",
   "id": "9dcc797f",
   "metadata": {},
   "source": [
    "> #### Visualize Model\n",
    "> "
   ]
  },
  {
   "cell_type": "code",
   "execution_count": 183,
   "id": "a68ae4b3",
   "metadata": {},
   "outputs": [],
   "source": [
    "# create array of probabilities of being versicolor (versicolor == 1)\n",
    "\n",
    "y_pred_proba = np.array([i[1] for i in y_pred_proba])\n"
   ]
  },
  {
   "cell_type": "code",
   "execution_count": 186,
   "id": "ffdfba54",
   "metadata": {},
   "outputs": [
    {
     "data": {
      "text/plain": [
       "<matplotlib.collections.PathCollection at 0x7fcb42376b80>"
      ]
     },
     "execution_count": 186,
     "metadata": {},
     "output_type": "execute_result"
    },
    {
     "data": {
      "image/png": "[encoded data removed]",
      "text/plain": [
       "<Figure size 1152x720 with 1 Axes>"
      ]
     },
     "metadata": {
      "needs_background": "light"
     },
     "output_type": "display_data"
    }
   ],
   "source": [
    "fig = plt.figure(figsize = (16,10))\n",
    "ax = fig.add_subplot(111)\n",
    "\n",
    "# scatter plot where x is the probabilities and y is the class (0, 1)\n",
    "ax.scatter(y_pred_proba, y_pred)\n"
   ]
  },
  {
   "cell_type": "code",
   "execution_count": null,
   "id": "2016deeb",
   "metadata": {},
   "outputs": [],
   "source": []
  }
 ],
 "metadata": {
  "kernelspec": {
   "display_name": "Python 3 (ipykernel)",
   "language": "python",
   "name": "python3"
  },
  "language_info": {
   "codemirror_mode": {
    "name": "ipython",
    "version": 3
   },
   "file_extension": ".py",
   "mimetype": "text/x-python",
   "name": "python",
   "nbconvert_exporter": "python",
   "pygments_lexer": "ipython3",
   "version": "3.9.7"
  }
 },
 "nbformat": 4,
 "nbformat_minor": 5
}
